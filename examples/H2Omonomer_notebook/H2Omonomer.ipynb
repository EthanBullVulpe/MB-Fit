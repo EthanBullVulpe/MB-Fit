{
 "cells": [
  {
   "cell_type": "code",
   "execution_count": 1,
   "metadata": {
    "scrolled": true
   },
   "outputs": [],
   "source": [
    "import potential_fitting\n",
    "from potential_fitting.database import Database"
   ]
  },
  {
   "cell_type": "code",
   "execution_count": 2,
   "metadata": {},
   "outputs": [],
   "source": [
    "with Database() as db:\n",
    "    db.annihilate(\"confirm\")"
   ]
  },
  {
   "cell_type": "code",
   "execution_count": 3,
   "metadata": {},
   "outputs": [],
   "source": [
    "settings = \"H2Omonomer.ini\"\n",
    "unopt_geo = \"H2O.xyz\"\n",
    "opt_geo = \"H2O.opt.xyz\"\n",
    "normal_modes = \"normal_modes.dat\"\n",
    "train_configs = \"train_configs.xyz\"\n",
    "test_configs = \"test_configs.xyz\"\n",
    "training_set = \"training_set.xyz\"\n",
    "client_name = \"test_cleint\"\n",
    "test_set = \"test_set.xyz\"\n",
    "poly_in = \"poly.in\"\n",
    "molecule_in = \"A2B1\"\n",
    "poly_directory = \"poly\"\n",
    "config = \"config.ini\"\n",
    "fit_directory = \"fit\"\n",
    "fitted_code = \"fitted\"\n",
    "\n",
    "method = \"HF\"\n",
    "basis = \"STO-3G\"\n",
    "cp = False"
   ]
  },
  {
   "cell_type": "code",
   "execution_count": 4,
   "metadata": {
    "scrolled": true
   },
   "outputs": [
    {
     "name": "stdout",
     "output_type": "stream",
     "text": [
      "Beginning geometry optimization using psi4 of H2O with HF/STO-3G.\n",
      "Optimizer: Optimization complete!\n",
      "Completed geometry optimization.\n",
      "File ./H2O.opt.xyz already exists, moving existing ./H2O.opt.xyz to ./H2O.opt.xyz.backup-1 to make way for new file.\n"
     ]
    }
   ],
   "source": [
    "potential_fitting.optimize_geometry(settings, unopt_geo, opt_geo)"
   ]
  },
  {
   "cell_type": "code",
   "execution_count": null,
   "metadata": {
    "scrolled": false
   },
   "outputs": [],
   "source": [
    "potential_fitting.generate_normal_modes(settings, opt_geo, normal_modes)"
   ]
  },
  {
   "cell_type": "code",
   "execution_count": null,
   "metadata": {
    "scrolled": true
   },
   "outputs": [],
   "source": [
    "potential_fitting.generate_normal_mode_configurations(settings, opt_geo, normal_modes, train_configs, seed = 3)\n",
    "potential_fitting.generate_normal_mode_configurations(settings, opt_geo, normal_modes, test_configs, seed = 2)"
   ]
  },
  {
   "cell_type": "code",
   "execution_count": 4,
   "metadata": {
    "scrolled": true
   },
   "outputs": [
    {
     "name": "stdout",
     "output_type": "stream",
     "text": [
      "Initializing database from xyz file train_configs.xyz directory into database.\n",
      "Initializing of database successful.\n",
      "Initializing database from xyz file H2O.opt.xyz directory into database.\n",
      "Initializing of database successful.\n",
      "Initializing database from xyz file test_configs.xyz directory into database.\n",
      "Initializing of database successful.\n",
      "Initializing database from xyz file H2O.opt.xyz directory into database.\n",
      "Initializing of database successful.\n"
     ]
    }
   ],
   "source": [
    "potential_fitting.init_database(settings, train_configs, method, basis, cp, 'train')\n",
    "potential_fitting.init_database(settings, opt_geo, method, basis, cp, 'train', optimized = True)\n",
    "potential_fitting.init_database(settings, test_configs, method, basis, cp, 'test')\n",
    "potential_fitting.init_database(settings, opt_geo, method, basis, cp, 'test', optimized = True)"
   ]
  },
  {
   "cell_type": "code",
   "execution_count": 5,
   "metadata": {
    "scrolled": true
   },
   "outputs": [],
   "source": [
    "potential_fitting.database.make_all_jobs(settings, client_name, \"jobs\", 5)"
   ]
  },
  {
   "cell_type": "code",
   "execution_count": 6,
   "metadata": {},
   "outputs": [
    {
     "name": "stdout",
     "output_type": "stream",
     "text": [
      "Maximum threads: 16\n",
      "Running Job\n",
      "Molcule: H    6.98646100000000e-01   0.00000000000000e+00   5.44828950000000e-01\n",
      "H   -7.81218890000000e-01   0.00000000000000e+00   6.14080100000000e-01\n",
      "O    5.20186000000000e-03   0.00000000000000e+00  -7.30226900000000e-02\n",
      "Method: HF\n",
      "Basis: STO-3G\n",
      "Threads 6\n",
      "Memory: 1GB\n",
      "Energy: -74.95723166467671\n",
      "Maximum threads: 16\n",
      "Running Job\n",
      "Molcule: H    8.47369120000000e-01   0.00000000000000e+00   5.83004180000000e-01\n",
      "H   -8.09120150000000e-01   0.00000000000000e+00   5.50926000000000e-01\n",
      "O   -2.40958000000000e-03   0.00000000000000e+00  -7.14481300000000e-02\n",
      "Method: HF\n",
      "Basis: STO-3G\n",
      "Threads 6\n",
      "Memory: 1GB\n",
      "Energy: -74.95679059503556\n",
      "Maximum threads: 16\n",
      "Running Job\n",
      "Molcule: H    6.69872300000000e-01   0.00000000000000e+00   6.67858430000000e-01\n",
      "H   -6.57448750000000e-01   0.00000000000000e+00   6.57439200000000e-01\n",
      "O   -7.82650000000000e-04   0.00000000000000e+00  -8.35116600000000e-02\n",
      "Method: HF\n",
      "Basis: STO-3G\n",
      "Threads 6\n",
      "Memory: 1GB\n",
      "Energy: -74.95238385163364\n",
      "Maximum threads: 16\n",
      "Running Job\n",
      "Molcule: H    7.50602750000000e-01   0.00000000000000e+00   5.40009340000000e-01\n",
      "H   -7.72584760000000e-01   0.00000000000000e+00   5.58444940000000e-01\n",
      "O    1.38481000000000e-03   0.00000000000000e+00  -6.92116700000000e-02\n",
      "Method: HF\n",
      "Basis: STO-3G\n",
      "Threads 6\n",
      "Memory: 1GB\n",
      "Energy: -74.96511355270434\n",
      "Maximum threads: 16\n",
      "Running Job\n",
      "Molcule: H    7.83728070000000e-01   0.00000000000000e+00   5.31643410000000e-01\n",
      "H   -8.04880440000000e-01   0.00000000000000e+00   5.49383220000000e-01\n",
      "O    1.33254000000000e-03   0.00000000000000e+00  -6.81130800000000e-02\n",
      "Method: HF\n",
      "Basis: STO-3G\n",
      "Threads 6\n",
      "Memory: 1GB\n",
      "Energy: -74.96395109721246\n"
     ]
    }
   ],
   "source": [
    "!python jobs/job_1.py\n",
    "!python jobs/job_2.py\n",
    "!python jobs/job_3.py\n",
    "!python jobs/job_4.py\n",
    "!python jobs/job_5.py"
   ]
  },
  {
   "cell_type": "code",
   "execution_count": 5,
   "metadata": {},
   "outputs": [
    {
     "name": "stdout",
     "output_type": "stream",
     "text": [
      "./job_1\n"
     ]
    },
    {
     "ename": "XYZFormatError",
     "evalue": "The following error occured in the Potential Fitting Library: Invalid xyz formatting on or near line: 'H    6.98646100000000e-01   0.00000000000000e+00   5.44828950000000e-01'. Line format should be line format should be 'charge spin_multiplicity', make sure you are passing in the output of psi4.molecule.save_string_xyz()",
     "output_type": "error",
     "traceback": [
      "\u001b[0;31m---------------------------------------------------------------------------\u001b[0m",
      "\u001b[0;31mValueError\u001b[0m                                Traceback (most recent call last)",
      "\u001b[0;32m~/potential_fitting-1/potential_fitting/molecule/molecule.py\u001b[0m in \u001b[0;36mread_psi4_string\u001b[0;34m(self, string)\u001b[0m\n\u001b[1;32m    853\u001b[0m         \u001b[0;32mtry\u001b[0m\u001b[0;34m:\u001b[0m\u001b[0;34m\u001b[0m\u001b[0;34m\u001b[0m\u001b[0m\n\u001b[0;32m--> 854\u001b[0;31m             \u001b[0mcharge\u001b[0m\u001b[0;34m,\u001b[0m \u001b[0mspin_multiplicity\u001b[0m \u001b[0;34m=\u001b[0m \u001b[0;34m[\u001b[0m\u001b[0mint\u001b[0m\u001b[0;34m(\u001b[0m\u001b[0mvalue\u001b[0m\u001b[0;34m)\u001b[0m \u001b[0;32mfor\u001b[0m \u001b[0mvalue\u001b[0m \u001b[0;32min\u001b[0m \u001b[0mlines\u001b[0m\u001b[0;34m[\u001b[0m\u001b[0;36m0\u001b[0m\u001b[0;34m]\u001b[0m\u001b[0;34m.\u001b[0m\u001b[0msplit\u001b[0m\u001b[0;34m(\u001b[0m\u001b[0;34m)\u001b[0m\u001b[0;34m]\u001b[0m\u001b[0;34m\u001b[0m\u001b[0;34m\u001b[0m\u001b[0m\n\u001b[0m\u001b[1;32m    855\u001b[0m         \u001b[0;32mexcept\u001b[0m \u001b[0mValueError\u001b[0m\u001b[0;34m:\u001b[0m\u001b[0;34m\u001b[0m\u001b[0;34m\u001b[0m\u001b[0m\n",
      "\u001b[0;32m~/potential_fitting-1/potential_fitting/molecule/molecule.py\u001b[0m in \u001b[0;36m<listcomp>\u001b[0;34m(.0)\u001b[0m\n\u001b[1;32m    853\u001b[0m         \u001b[0;32mtry\u001b[0m\u001b[0;34m:\u001b[0m\u001b[0;34m\u001b[0m\u001b[0;34m\u001b[0m\u001b[0m\n\u001b[0;32m--> 854\u001b[0;31m             \u001b[0mcharge\u001b[0m\u001b[0;34m,\u001b[0m \u001b[0mspin_multiplicity\u001b[0m \u001b[0;34m=\u001b[0m \u001b[0;34m[\u001b[0m\u001b[0mint\u001b[0m\u001b[0;34m(\u001b[0m\u001b[0mvalue\u001b[0m\u001b[0;34m)\u001b[0m \u001b[0;32mfor\u001b[0m \u001b[0mvalue\u001b[0m \u001b[0;32min\u001b[0m \u001b[0mlines\u001b[0m\u001b[0;34m[\u001b[0m\u001b[0;36m0\u001b[0m\u001b[0;34m]\u001b[0m\u001b[0;34m.\u001b[0m\u001b[0msplit\u001b[0m\u001b[0;34m(\u001b[0m\u001b[0;34m)\u001b[0m\u001b[0;34m]\u001b[0m\u001b[0;34m\u001b[0m\u001b[0;34m\u001b[0m\u001b[0m\n\u001b[0m\u001b[1;32m    855\u001b[0m         \u001b[0;32mexcept\u001b[0m \u001b[0mValueError\u001b[0m\u001b[0;34m:\u001b[0m\u001b[0;34m\u001b[0m\u001b[0;34m\u001b[0m\u001b[0m\n",
      "\u001b[0;31mValueError\u001b[0m: invalid literal for int() with base 10: 'H'",
      "\nDuring handling of the above exception, another exception occurred:\n",
      "\u001b[0;31mXYZFormatError\u001b[0m                            Traceback (most recent call last)",
      "\u001b[0;32m<ipython-input-5-7d4be0d96039>\u001b[0m in \u001b[0;36m<module>\u001b[0;34m()\u001b[0m\n\u001b[0;32m----> 1\u001b[0;31m \u001b[0mpotential_fitting\u001b[0m\u001b[0;34m.\u001b[0m\u001b[0mdatabase\u001b[0m\u001b[0;34m.\u001b[0m\u001b[0mread_all_jobs\u001b[0m\u001b[0;34m(\u001b[0m\u001b[0;34m\".\"\u001b[0m\u001b[0;34m)\u001b[0m\u001b[0;34m\u001b[0m\u001b[0;34m\u001b[0m\u001b[0m\n\u001b[0m",
      "\u001b[0;32m~/potential_fitting-1/potential_fitting/database/database_job_reader.py\u001b[0m in \u001b[0;36mread_all_jobs\u001b[0;34m(job_dir)\u001b[0m\n\u001b[1;32m     13\u001b[0m     \u001b[0;32mfor\u001b[0m \u001b[0mdirectory\u001b[0m \u001b[0;32min\u001b[0m \u001b[0mglob\u001b[0m\u001b[0;34m(\u001b[0m\u001b[0mjob_dir\u001b[0m \u001b[0;34m+\u001b[0m \u001b[0;34m\"/job_[0-9+]\"\u001b[0m\u001b[0;34m)\u001b[0m\u001b[0;34m:\u001b[0m\u001b[0;34m\u001b[0m\u001b[0;34m\u001b[0m\u001b[0m\n\u001b[1;32m     14\u001b[0m         \u001b[0mprint\u001b[0m\u001b[0;34m(\u001b[0m\u001b[0mdirectory\u001b[0m\u001b[0;34m)\u001b[0m\u001b[0;34m\u001b[0m\u001b[0;34m\u001b[0m\u001b[0m\n\u001b[0;32m---> 15\u001b[0;31m         \u001b[0mcalculation_results\u001b[0m\u001b[0;34m.\u001b[0m\u001b[0mappend\u001b[0m\u001b[0;34m(\u001b[0m\u001b[0mread_job\u001b[0m\u001b[0;34m(\u001b[0m\u001b[0mdirectory\u001b[0m \u001b[0;34m+\u001b[0m \u001b[0;34m\"/output.dat\"\u001b[0m\u001b[0;34m,\u001b[0m \u001b[0mdirectory\u001b[0m \u001b[0;34m+\u001b[0m \u001b[0;34m\"/output.log\"\u001b[0m\u001b[0;34m)\u001b[0m\u001b[0;34m)\u001b[0m\u001b[0;34m\u001b[0m\u001b[0;34m\u001b[0m\u001b[0m\n\u001b[0m\u001b[1;32m     16\u001b[0m \u001b[0;34m\u001b[0m\u001b[0m\n\u001b[1;32m     17\u001b[0m         \u001b[0mi\u001b[0m \u001b[0;34m=\u001b[0m \u001b[0;36m1\u001b[0m\u001b[0;34m\u001b[0m\u001b[0;34m\u001b[0m\u001b[0m\n",
      "\u001b[0;32m~/potential_fitting-1/potential_fitting/database/database_job_reader.py\u001b[0m in \u001b[0;36mread_job\u001b[0;34m(job_dat_path, job_log_path)\u001b[0m\n\u001b[1;32m     70\u001b[0m         \u001b[0mdict_data\u001b[0m\u001b[0;34m[\u001b[0m\u001b[0;34m'Molecule'\u001b[0m\u001b[0;34m]\u001b[0m \u001b[0;34m=\u001b[0m \u001b[0mterm\u001b[0m\u001b[0;34m\u001b[0m\u001b[0;34m\u001b[0m\u001b[0m\n\u001b[1;32m     71\u001b[0m \u001b[0;34m\u001b[0m\u001b[0m\n\u001b[0;32m---> 72\u001b[0;31m         \u001b[0mmolecule\u001b[0m \u001b[0;34m=\u001b[0m \u001b[0mMolecule\u001b[0m\u001b[0;34m(\u001b[0m\u001b[0;34m)\u001b[0m\u001b[0;34m.\u001b[0m\u001b[0mread_psi4_string\u001b[0m\u001b[0;34m(\u001b[0m\u001b[0mdict_data\u001b[0m\u001b[0;34m[\u001b[0m\u001b[0;34m'Molecule'\u001b[0m\u001b[0;34m]\u001b[0m\u001b[0;34m)\u001b[0m\u001b[0;34m\u001b[0m\u001b[0;34m\u001b[0m\u001b[0m\n\u001b[0m\u001b[1;32m     73\u001b[0m \u001b[0;34m\u001b[0m\u001b[0m\n\u001b[1;32m     74\u001b[0m         \u001b[0mmethod\u001b[0m \u001b[0;34m=\u001b[0m \u001b[0mdict_data\u001b[0m\u001b[0;34m[\u001b[0m\u001b[0;34m\"Method\"\u001b[0m\u001b[0;34m]\u001b[0m\u001b[0;34m\u001b[0m\u001b[0;34m\u001b[0m\u001b[0m\n",
      "\u001b[0;32m~/potential_fitting-1/potential_fitting/molecule/molecule.py\u001b[0m in \u001b[0;36mread_psi4_string\u001b[0;34m(self, string)\u001b[0m\n\u001b[1;32m    854\u001b[0m             \u001b[0mcharge\u001b[0m\u001b[0;34m,\u001b[0m \u001b[0mspin_multiplicity\u001b[0m \u001b[0;34m=\u001b[0m \u001b[0;34m[\u001b[0m\u001b[0mint\u001b[0m\u001b[0;34m(\u001b[0m\u001b[0mvalue\u001b[0m\u001b[0;34m)\u001b[0m \u001b[0;32mfor\u001b[0m \u001b[0mvalue\u001b[0m \u001b[0;32min\u001b[0m \u001b[0mlines\u001b[0m\u001b[0;34m[\u001b[0m\u001b[0;36m0\u001b[0m\u001b[0;34m]\u001b[0m\u001b[0;34m.\u001b[0m\u001b[0msplit\u001b[0m\u001b[0;34m(\u001b[0m\u001b[0;34m)\u001b[0m\u001b[0;34m]\u001b[0m\u001b[0;34m\u001b[0m\u001b[0;34m\u001b[0m\u001b[0m\n\u001b[1;32m    855\u001b[0m         \u001b[0;32mexcept\u001b[0m \u001b[0mValueError\u001b[0m\u001b[0;34m:\u001b[0m\u001b[0;34m\u001b[0m\u001b[0;34m\u001b[0m\u001b[0m\n\u001b[0;32m--> 856\u001b[0;31m             \u001b[0;32mraise\u001b[0m \u001b[0mXYZFormatError\u001b[0m\u001b[0;34m(\u001b[0m\u001b[0mlines\u001b[0m\u001b[0;34m[\u001b[0m\u001b[0;36m0\u001b[0m\u001b[0;34m]\u001b[0m\u001b[0;34m,\u001b[0m \u001b[0;34m\"line format should be 'charge spin_multiplicity', make sure you are passing in the output of psi4.molecule.save_string_xyz()\"\u001b[0m\u001b[0;34m)\u001b[0m\u001b[0;34m\u001b[0m\u001b[0;34m\u001b[0m\u001b[0m\n\u001b[0m\u001b[1;32m    857\u001b[0m \u001b[0;34m\u001b[0m\u001b[0m\n\u001b[1;32m    858\u001b[0m         \u001b[0;31m# calculate total atoms in this molecule\u001b[0m\u001b[0;34m\u001b[0m\u001b[0;34m\u001b[0m\u001b[0;34m\u001b[0m\u001b[0m\n",
      "\u001b[0;31mXYZFormatError\u001b[0m: The following error occured in the Potential Fitting Library: Invalid xyz formatting on or near line: 'H    6.98646100000000e-01   0.00000000000000e+00   5.44828950000000e-01'. Line format should be line format should be 'charge spin_multiplicity', make sure you are passing in the output of psi4.molecule.save_string_xyz()"
     ]
    }
   ],
   "source": [
    "potential_fitting.database.read_all_jobs(\".\")"
   ]
  },
  {
   "cell_type": "code",
   "execution_count": null,
   "metadata": {
    "scrolled": false
   },
   "outputs": [],
   "source": [
    "potential_fitting.fill_database(settings, client_name)"
   ]
  },
  {
   "cell_type": "code",
   "execution_count": null,
   "metadata": {
    "scrolled": true
   },
   "outputs": [],
   "source": [
    "\n",
    "potential_fitting.generate_1b_training_set(settings, training_set, \"H2O\", method, basis, cp, 'train')\n",
    "potential_fitting.generate_1b_training_set(settings, test_set, \"H2O\", method, basis, cp, 'test')\n"
   ]
  },
  {
   "cell_type": "code",
   "execution_count": null,
   "metadata": {
    "scrolled": true
   },
   "outputs": [],
   "source": [
    "potential_fitting.generate_poly_input_from_database(settings, database, \"H2O\", poly_in)"
   ]
  },
  {
   "cell_type": "code",
   "execution_count": null,
   "metadata": {},
   "outputs": [],
   "source": [
    "potential_fitting.generate_polynomials(settings, poly_in, 3, poly_directory)"
   ]
  },
  {
   "cell_type": "code",
   "execution_count": null,
   "metadata": {
    "scrolled": true
   },
   "outputs": [],
   "source": [
    "potential_fitting.execute_maple(settings, poly_directory)"
   ]
  },
  {
   "cell_type": "code",
   "execution_count": null,
   "metadata": {
    "scrolled": true
   },
   "outputs": [],
   "source": [
    "potential_fitting.generate_fit_config(settings, molecule_in, config, opt_geo)"
   ]
  },
  {
   "cell_type": "code",
   "execution_count": null,
   "metadata": {
    "scrolled": true
   },
   "outputs": [],
   "source": [
    "potential_fitting.generate_1b_fit_code(settings, config, molecule_in, poly_in, poly_directory, 3, fit_directory)"
   ]
  },
  {
   "cell_type": "code",
   "execution_count": null,
   "metadata": {},
   "outputs": [],
   "source": [
    "potential_fitting.compile_fit_code(settings, fit_directory)"
   ]
  },
  {
   "cell_type": "code",
   "execution_count": null,
   "metadata": {},
   "outputs": [],
   "source": [
    "potential_fitting.fit_1b_training_set(settings, fit_directory + \"/fit-1b\", training_set, fit_directory, \"fit.nc\")"
   ]
  },
  {
   "cell_type": "code",
   "execution_count": null,
   "metadata": {},
   "outputs": [],
   "source": [
    "potential_fitting.fitting.fit_visualizer.make_1b_graphs(fit_directory + \"/eval-1b\", \"fit.nc\", database, \"H2O\", \"%\", \"%\", \"%\", \"test\")"
   ]
  }
 ],
 "metadata": {
  "kernelspec": {
   "display_name": "Python 3",
   "language": "python",
   "name": "python3"
  },
  "language_info": {
   "codemirror_mode": {
    "name": "ipython",
    "version": 3
   },
   "file_extension": ".py",
   "mimetype": "text/x-python",
   "name": "python",
   "nbconvert_exporter": "python",
   "pygments_lexer": "ipython3",
   "version": "3.6.8"
  }
 },
 "nbformat": 4,
 "nbformat_minor": 2
}
