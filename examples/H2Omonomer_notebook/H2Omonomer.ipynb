{
 "cells": [
  {
   "cell_type": "code",
   "execution_count": 1,
   "metadata": {
    "scrolled": true
   },
   "outputs": [],
   "source": [
    "import potential_fitting\n",
    "from potential_fitting.database import Database"
   ]
  },
  {
   "cell_type": "code",
   "execution_count": 3,
   "metadata": {},
   "outputs": [],
   "source": [
    "with Database(database_config_path) as db:\n",
    "    db.annihilate(\"confirm\")"
   ]
  },
  {
   "cell_type": "code",
   "execution_count": 2,
   "metadata": {},
   "outputs": [],
   "source": [
    "settings = \"H2Omonomer.ini\"\n",
    "unopt_geo = \"H2O.xyz\"\n",
    "opt_geo = \"H2O.opt.xyz\"\n",
    "normal_modes = \"normal_modes.dat\"\n",
    "train_configs = \"train_configs.xyz\"\n",
    "test_configs = \"test_configs.xyz\"\n",
    "training_set = \"training_set.xyz\"\n",
    "client_name = \"test_cleint\"\n",
    "test_set = \"test_set.xyz\"\n",
    "poly_in = \"poly.in\"\n",
    "molecule_in = \"A2B1\"\n",
    "poly_directory = \"poly\"\n",
    "config = \"config.ini\"\n",
    "fit_directory = \"fit\"\n",
    "fitted_code = \"fitted\"\n",
    "database_config_path = \"database.ini\"\n",
    "\n",
    "method = \"HF\"\n",
    "basis = \"STO-3G\"\n",
    "cp = False"
   ]
  },
  {
   "cell_type": "code",
   "execution_count": 5,
   "metadata": {
    "scrolled": true
   },
   "outputs": [
    {
     "name": "stdout",
     "output_type": "stream",
     "text": [
      "Beginning geometry optimization using psi4 of H2O with HF/STO-3G.\n",
      "Optimizer: Optimization complete!\n",
      "Completed geometry optimization.\n",
      "File ./H2O.opt.xyz already exists, moving existing ./H2O.opt.xyz to ./H2O.opt.xyz.backup-1 to make way for new file.\n"
     ]
    }
   ],
   "source": [
    "potential_fitting.optimize_geometry(settings, unopt_geo, opt_geo)"
   ]
  },
  {
   "cell_type": "code",
   "execution_count": 6,
   "metadata": {
    "scrolled": false
   },
   "outputs": [
    {
     "name": "stdout",
     "output_type": "stream",
     "text": [
      "Beginning normal modes calculation using psi4 of H2O with HF/STO-3G.\n",
      "Normal mode/frequency analysis complete. 3 normal modes found.\n",
      "File ./normal_modes.dat already exists, moving existing ./normal_modes.dat to ./normal_modes.dat.backup-1 to make way for new file.\n"
     ]
    },
    {
     "data": {
      "text/plain": [
       "6"
      ]
     },
     "execution_count": 6,
     "metadata": {},
     "output_type": "execute_result"
    }
   ],
   "source": [
    "potential_fitting.generate_normal_modes(settings, opt_geo, normal_modes)"
   ]
  },
  {
   "cell_type": "code",
   "execution_count": 4,
   "metadata": {
    "scrolled": true
   },
   "outputs": [
    {
     "name": "stdout",
     "output_type": "stream",
     "text": [
      "Parsing normal mode input file.\n",
      "Completed parsing normal modes input file.\n",
      "Running normal distribution configuration generator...\n",
      "File ./train_configs.xyz already exists, moving existing ./train_configs.xyz to ./train_configs.xyz.backup-2 to make way for new file.\n",
      "Normal Distribution Configuration generation complete.\n",
      "Parsing normal mode input file.\n",
      "Completed parsing normal modes input file.\n",
      "Running normal distribution configuration generator...\n",
      "File ./test_configs.xyz already exists, moving existing ./test_configs.xyz to ./test_configs.xyz.backup-2 to make way for new file.\n",
      "Normal Distribution Configuration generation complete.\n"
     ]
    }
   ],
   "source": [
    "potential_fitting.generate_normal_mode_configurations(settings, opt_geo, normal_modes, train_configs, number_of_configs = 10, seed = 3)\n",
    "potential_fitting.generate_normal_mode_configurations(settings, opt_geo, normal_modes, test_configs, number_of_configs = 10, seed = 2)"
   ]
  },
  {
   "cell_type": "code",
   "execution_count": 5,
   "metadata": {
    "scrolled": false
   },
   "outputs": [
    {
     "name": "stdout",
     "output_type": "stream",
     "text": [
      "Initializing database from xyz file train_configs.xyz directory into database.\n",
      "Initializing of database successful.\n",
      "Initializing database from xyz file H2O.opt.xyz directory into database.\n",
      "Initializing of database successful.\n",
      "Initializing database from xyz file test_configs.xyz directory into database.\n",
      "Initializing of database successful.\n",
      "Initializing database from xyz file H2O.opt.xyz directory into database.\n",
      "Initializing of database successful.\n"
     ]
    }
   ],
   "source": [
    "potential_fitting.init_database(settings, database_config_path, train_configs, method, basis, cp, 'train')\n",
    "potential_fitting.init_database(settings, database_config_path, opt_geo, method, basis, cp, 'train', optimized = True)\n",
    "potential_fitting.init_database(settings, database_config_path, test_configs, method, basis, cp, 'test')\n",
    "potential_fitting.init_database(settings, database_config_path, opt_geo, method, basis, cp, 'test', optimized = True)"
   ]
  },
  {
   "cell_type": "code",
   "execution_count": 6,
   "metadata": {
    "scrolled": true
   },
   "outputs": [],
   "source": [
    "potential_fitting.database.make_all_jobs(settings, database_config_path, client_name, \"jobs\", 5)"
   ]
  },
  {
   "cell_type": "code",
   "execution_count": 7,
   "metadata": {
    "scrolled": true
   },
   "outputs": [
    {
     "name": "stdout",
     "output_type": "stream",
     "text": [
      "Maximum threads: 8\n",
      "Running Job\n",
      "Molcule: H    7.18007500000000e-01   0.00000000000000e+00   6.15333200000000e-01\n",
      "H   -6.87084750000000e-01   0.00000000000000e+00   5.89399290000000e-01\n",
      "O   -1.94805000000000e-03   0.00000000000000e+00  -7.59113400000000e-02\n",
      "Method: HF\n",
      "Basis: STO-3G\n",
      "Threads 6\n",
      "Memory: 1GB\n",
      "Energy: -74.96108294959896\n",
      "Maximum threads: 8\n",
      "Running Job\n",
      "Molcule: H    7.18007500000000e-01   0.00000000000000e+00   6.15333200000000e-01\n",
      "H   -6.87084750000000e-01   0.00000000000000e+00   5.89399290000000e-01\n",
      "O   -1.94805000000000e-03   0.00000000000000e+00  -7.59113400000000e-02\n",
      "Method: HF\n",
      "Basis: STO-3G\n",
      "Threads 6\n",
      "Memory: 1GB\n",
      "Energy: -74.96108294959895\n"
     ]
    }
   ],
   "source": [
    "!python jobs/job_1.py\n",
    "!python jobs/job_1.py"
   ]
  },
  {
   "cell_type": "code",
   "execution_count": 8,
   "metadata": {
    "scrolled": true
   },
   "outputs": [
    {
     "name": "stdout",
     "output_type": "stream",
     "text": [
      "./job_1\n",
      "['A2B1']\n",
      "./job_2\n",
      "['A2B1']\n"
     ]
    },
    {
     "ename": "InternalError",
     "evalue": "Trying to set energy of calculation that does not have status = \"dispatched\"\nCONTEXT:  PL/pgSQL function set_properties(character varying,character varying,boolean,integer[],boolean,double precision,character varying) line 10 at RAISE\nSQL statement \"SELECT set_properties('0492419e3885dcb93d3696bafa20e063a73b2b8d', 'HF/STO-3G/False', 'False', '{0}', true,  -74.96108294959895, '\n\n  Memory set to 953.674 MiB by Python driver.\n\n  Threads set to 6 by Python driver.\n\n\n\n*** tstart() called on beatrix\n\n*** at Fri Apr 12 15:39:54 2019\n\n\n\n   => Loading Basis Set <=\n\n\n\n    Name: STO-3G\n\n    Role: ORBITAL\n\n    Keyword: BASIS\n\n    atoms 1-2 entry H          line    19 file /server-home1/ebullvul/anaconda/envs/psi4-dev/share/psi4/basis/sto-3g.gbs \n\n    atoms 3   entry O          line    81 file /server-home1/ebullvul/anaconda/envs/psi4-dev/share/psi4/basis/sto-3g.gbs \n\n\n\n    There are an even number of electrons - assuming singlet.\n\n    Specify the multiplicity in the molecule input block.\n\n\n\n\n\n         ---------------------------------------------------------\n\n                                   SCF\n\n            by Justin Turney, Rob Parrish, Andy Simmonett\n\n                             and Daniel Smith\n\n                              RHF Reference\n\n                        6 Threads,    953 MiB Core\n\n         ---------------------------------------------------------\n\n\n\n  ==> Geometry <==\n\n\n\n    Molecular point group: cs\n\n    Full point group: Cs\n\n\n\n    Geometry (in Angstrom), charge = 0, multiplicity = 1:\n\n\n\n       Center              X                  Y                   Z               Mass       \n\n    ------------   -----------------  -----------------  -----------------  -----------------\n\n         H           -0.718007176407     0.615335190031     0.000000000000     1.007825032070\n\n         H            0.687085073593     0.589401280031     0.000000000000     1.007825032070\n\n         O            0.001948373593    -0.075909349969     0.000000000000    15.994914619560\n\n\n\n  Running in cs symmetry.\n\n\n\n  Rotational constants: A =     20.67863  B =     16.78933  C =      9.26606 [cm^-1]\n\n  Rotational constants: A = 619929.74746  B = 503331.38611  C = 277789.45586 [MHz]\n\n  Nuclear repulsion =    9.050965698752549\n\n\n\n  Charge       = 0\n\n  Multiplicity = 1\n\n  Electrons    = 10\n\n  Nalpha       = 5\n\n  Nbeta        = 5\n\n\n\n  ==> Algorithm <==\n\n\n\n  SCF Algorithm Type is DF.\n\n  DIIS enabled.\n\n  MOM disabled.\n\n  Fractional occupation disabled.\n\n  Guess Type is SAD.\n\n  Energy threshold   = 1.00e-06\n\n  Density threshold  = 1.00e-06\n\n  Integral threshold = 0.00e+00\n\n\n\n  ==> Primary Basis <==\n\n\n\n  Basis Set: STO-3G\n\n    Blend: STO-3G\n\n    Number of shells: 5\n\n    Number of basis function: 7\n\n    Number of Cartesian functions: 7\n\n    Spherical Harmonics?: true\n\n    Max angular momentum: 1\n\n\n\n   => Loading Basis Set <=\n\n\n\n    Name: (STO-3G AUX)\n\n    Role: JKFIT\n\n    Keyword: DF_BASIS_SCF\n\n    atoms 1-2 entry H          line    23 file /server-home1/ebullvul/anaconda/envs/psi4-dev/share/psi4/basis/def2-svp-jkfit.gbs \n\n    atoms 3   entry O          line   323 file /server-home1/ebullvul/anaconda/envs/psi4-dev/share/psi4/basis/def2-svp-jkfit.gbs \n\n\n\n  ==> Pre-Iterations <==\n\n\n\n   -------------------------------------------------------\n\n    Irrep   Nso     Nmo     Nalpha   Nbeta   Ndocc  Nsocc\n\n   -------------------------------------------------------\n\n     A''         6       6       0       0       0       0\n\n     A\"         1       1       0       0       0       0\n\n   -------------------------------------------------------\n\n    Total       7       7       5       5       5       0\n\n   -------------------------------------------------------\n\n\n\n  ==> Integral Setup <==\n\n\n\n  ==> MemDFJK: Density-Fitted J/K Matrices <==\n\n\n\n    J tasked:                   Yes\n\n    K tasked:                   Yes\n\n    wK tasked:                   No\n\n    OpenMP threads:               6\n\n    Memory (MB):                715\n\n    Algorithm:                 Core\n\n    Schwarz Cutoff:           1E-12\n\n    Mask sparsity (%):       0.0000\n\n    Fitting Condition:        1E-12\n\n\n\n   => Auxiliary Basis Set <=\n\n\n\n  Basis Set: (STO-3G AUX)\n\n    Blend: DEF2-SVP-JKFIT\n\n    Number of shells: 37\n\n    Number of basis function: 113\n\n    Number of Cartesian functions: 133\n\n    Spherical Harmonics?: true\n\n    Max angular momentum: 4\n\n\n\n  Minimum eigenvalue in the overlap matrix is 3.5286908336E-01.\n\n  Using Symmetric Orthogonalization.\n\n\n\n  SCF Guess: Superposition of Atomic Densities via on-the-fly atomic UHF.\n\n\n\n  ==> Iterations <==\n\n\n\n                           Total Energy        Delta E     RMS |[F,P]|\n\n\n\n   @DF-RHF iter   0:   -74.79987297998211   -7.47999e+01   5.58454e-01 \n\n   @DF-RHF iter   1:   -74.87716886478373   -7.72959e-02   6.39864e-02 \n\n   @DF-RHF iter   2:   -74.95805662963953   -8.08878e-02   1.55576e-02 DIIS\n\n   @DF-RHF iter   3:   -74.96062436875384   -2.56774e-03   4.12146e-03 DIIS\n\n   @DF-RHF iter   4:   -74.96106999022841   -4.45621e-04   6.89477e-04 DIIS\n\n   @DF-RHF iter   5:   -74.96108294702985   -1.29568e-05   1.17194e-05 DIIS\n\n   @DF-RHF iter   6:   -74.96108294957448   -2.54462e-09   1.14194e-06 DIIS\n\n   @DF-RHF iter   7:   -74.96108294959895   -2.44711e-11   2.08656e-07 DIIS\n\n\n\n  ==> Post-Iterations <==\n\n\n\n    Orbital Energies [Eh]\n\n    ---------------------\n\n\n\n    Doubly Occupied:                                                      \n\n\n\n       1Ap   -20.257933     2Ap    -1.272754     3Ap    -0.584825  \n\n       4Ap    -0.479341     1App   -0.397889  \n\n\n\n    Virtual:                                                              \n\n\n\n       5Ap     0.597540     6Ap     0.694413  \n\n\n\n    Final Occupation by Irrep:\n\n             Ap   App \n\n    DOCC [     4,    1 ]\n\n\n\n  Energy converged.\n\n\n\n  @DF-RHF Final Energy:   -74.96108294959895\n\n\n\n   => Energetics <=\n\n\n\n    Nuclear Repulsion Energy =              9.0509656987525489\n\n    One-Electron Energy =                -122.0386170172123457\n\n    Two-Electron Energy =                  38.0265683688608576\n\n    Total Energy =                        -74.9610829495989321\n\n\n\n\n\n\n\nProperties will be evaluated at   0.000000,   0.000000,   0.000000 [a0]\n\n\n\nProperties computed using the SCF density matrix\n\n\n\n  Nuclear Dipole Moment: [e a0]\n\n     X:    -0.0290      Y:     1.1290      Z:     0.0000\n\n\n\n  Electronic Dipole Moment: [e a0]\n\n     X:     0.0391      Y:    -0.4309      Z:     0.0000\n\n\n\n  Dipole Moment: [e a0]\n\n     X:     0.0101      Y:     0.6981      Z:     0.0000     Total:     0.6982\n\n\n\n  Dipole Moment: [D]\n\n     X:     0.0257      Y:     1.7745      Z:     0.0000     Total:     1.7747\n\n\n\n\n\n*** tstop() called on beatrix at Fri Apr 12 15:39:55 2019\n\nModule time:\n\n\tuser time   =       2.91 seconds =       0.05 minutes\n\n\tsystem time =       0.15 seconds =       0.00 minutes\n\n\ttotal time  =          1 seconds =       0.02 minutes\n\nTotal time:\n\n\tuser time   =       2.91 seconds =       0.05 minutes\n\n\tsystem time =       0.15 seconds =       0.00 minutes\n\n\ttotal time  =          1 seconds =       0.02 minutes\n')\"\nPL/pgSQL function inline_code_block line 382 at PERFORM\n",
     "output_type": "error",
     "traceback": [
      "\u001b[0;31m---------------------------------------------------------------------------\u001b[0m",
      "\u001b[0;31mInternalError\u001b[0m                             Traceback (most recent call last)",
      "\u001b[0;32m<ipython-input-8-b241a68c4b76>\u001b[0m in \u001b[0;36m<module>\u001b[0;34m()\u001b[0m\n\u001b[0;32m----> 1\u001b[0;31m \u001b[0mpotential_fitting\u001b[0m\u001b[0;34m.\u001b[0m\u001b[0mdatabase\u001b[0m\u001b[0;34m.\u001b[0m\u001b[0mread_all_jobs\u001b[0m\u001b[0;34m(\u001b[0m\u001b[0mdatabase_config_path\u001b[0m\u001b[0;34m,\u001b[0m \u001b[0;34m\".\"\u001b[0m\u001b[0;34m)\u001b[0m\u001b[0;34m\u001b[0m\u001b[0;34m\u001b[0m\u001b[0m\n\u001b[0m",
      "\u001b[0;32m~/potential_fitting-1/potential_fitting/database/database_job_reader.py\u001b[0m in \u001b[0;36mread_all_jobs\u001b[0;34m(database_config_path, job_dir)\u001b[0m\n\u001b[1;32m     41\u001b[0m \u001b[0;34m\u001b[0m\u001b[0m\n\u001b[1;32m     42\u001b[0m     \u001b[0;32mwith\u001b[0m \u001b[0mDatabase\u001b[0m\u001b[0;34m(\u001b[0m\u001b[0mdatabase_config_path\u001b[0m\u001b[0;34m)\u001b[0m \u001b[0;32mas\u001b[0m \u001b[0mdb\u001b[0m\u001b[0;34m:\u001b[0m\u001b[0;34m\u001b[0m\u001b[0;34m\u001b[0m\u001b[0m\n\u001b[0;32m---> 43\u001b[0;31m         \u001b[0mdb\u001b[0m\u001b[0;34m.\u001b[0m\u001b[0mset_properties\u001b[0m\u001b[0;34m(\u001b[0m\u001b[0mcalculation_results\u001b[0m\u001b[0;34m)\u001b[0m\u001b[0;34m\u001b[0m\u001b[0;34m\u001b[0m\u001b[0m\n\u001b[0m\u001b[1;32m     44\u001b[0m \u001b[0;34m\u001b[0m\u001b[0m\n\u001b[1;32m     45\u001b[0m     \u001b[0;32mfor\u001b[0m \u001b[0mdirectory\u001b[0m \u001b[0;32min\u001b[0m \u001b[0mglob\u001b[0m\u001b[0;34m(\u001b[0m\u001b[0mjob_dir\u001b[0m \u001b[0;34m+\u001b[0m \u001b[0;34m\"/job_*\"\u001b[0m\u001b[0;34m)\u001b[0m\u001b[0;34m:\u001b[0m\u001b[0;34m\u001b[0m\u001b[0;34m\u001b[0m\u001b[0m\n",
      "\u001b[0;32m~/potential_fitting-1/potential_fitting/database/database.py\u001b[0m in \u001b[0;36mset_properties\u001b[0;34m(self, calculation_results)\u001b[0m\n\u001b[1;32m    600\u001b[0m \u001b[0;34m\u001b[0m\u001b[0m\n\u001b[1;32m    601\u001b[0m         \u001b[0;32mif\u001b[0m \u001b[0mbatch_count\u001b[0m \u001b[0;34m!=\u001b[0m \u001b[0;36m0\u001b[0m\u001b[0;34m:\u001b[0m\u001b[0;34m\u001b[0m\u001b[0;34m\u001b[0m\u001b[0m\n\u001b[0;32m--> 602\u001b[0;31m             \u001b[0mself\u001b[0m\u001b[0;34m.\u001b[0m\u001b[0mexecute\u001b[0m\u001b[0;34m(\u001b[0m\u001b[0mcommand_string\u001b[0m\u001b[0;34m,\u001b[0m \u001b[0mparams\u001b[0m\u001b[0;34m)\u001b[0m\u001b[0;34m\u001b[0m\u001b[0;34m\u001b[0m\u001b[0m\n\u001b[0m\u001b[1;32m    603\u001b[0m \u001b[0;34m\u001b[0m\u001b[0m\n\u001b[1;32m    604\u001b[0m     \u001b[0;32mdef\u001b[0m \u001b[0mget_1B_training_set\u001b[0m\u001b[0;34m(\u001b[0m\u001b[0mself\u001b[0m\u001b[0;34m,\u001b[0m \u001b[0mmolecule_name\u001b[0m\u001b[0;34m,\u001b[0m \u001b[0mmethod\u001b[0m\u001b[0;34m,\u001b[0m \u001b[0mbasis\u001b[0m\u001b[0;34m,\u001b[0m \u001b[0mcp\u001b[0m\u001b[0;34m,\u001b[0m \u001b[0;34m*\u001b[0m\u001b[0mtags\u001b[0m\u001b[0;34m)\u001b[0m\u001b[0;34m:\u001b[0m\u001b[0;34m\u001b[0m\u001b[0;34m\u001b[0m\u001b[0m\n",
      "\u001b[0;32m~/potential_fitting-1/potential_fitting/database/database.py\u001b[0m in \u001b[0;36mexecute\u001b[0;34m(self, command, params)\u001b[0m\n\u001b[1;32m    214\u001b[0m             \u001b[0mcommand\u001b[0m \u001b[0;34m+\u001b[0m\u001b[0;34m\u001b[0m\u001b[0;34m\u001b[0m\u001b[0m\n\u001b[1;32m    215\u001b[0m             \u001b[0;34m\"END $$\"\u001b[0m\u001b[0;34m,\u001b[0m\u001b[0;34m\u001b[0m\u001b[0;34m\u001b[0m\u001b[0m\n\u001b[0;32m--> 216\u001b[0;31m             params)\n\u001b[0m\u001b[1;32m    217\u001b[0m \u001b[0;34m\u001b[0m\u001b[0m\n\u001b[1;32m    218\u001b[0m     \u001b[0;31m#TODO: select, will be removed in the future.\u001b[0m\u001b[0;34m\u001b[0m\u001b[0;34m\u001b[0m\u001b[0;34m\u001b[0m\u001b[0m\n",
      "\u001b[0;31mInternalError\u001b[0m: Trying to set energy of calculation that does not have status = \"dispatched\"\nCONTEXT:  PL/pgSQL function set_properties(character varying,character varying,boolean,integer[],boolean,double precision,character varying) line 10 at RAISE\nSQL statement \"SELECT set_properties('0492419e3885dcb93d3696bafa20e063a73b2b8d', 'HF/STO-3G/False', 'False', '{0}', true,  -74.96108294959895, '\n\n  Memory set to 953.674 MiB by Python driver.\n\n  Threads set to 6 by Python driver.\n\n\n\n*** tstart() called on beatrix\n\n*** at Fri Apr 12 15:39:54 2019\n\n\n\n   => Loading Basis Set <=\n\n\n\n    Name: STO-3G\n\n    Role: ORBITAL\n\n    Keyword: BASIS\n\n    atoms 1-2 entry H          line    19 file /server-home1/ebullvul/anaconda/envs/psi4-dev/share/psi4/basis/sto-3g.gbs \n\n    atoms 3   entry O          line    81 file /server-home1/ebullvul/anaconda/envs/psi4-dev/share/psi4/basis/sto-3g.gbs \n\n\n\n    There are an even number of electrons - assuming singlet.\n\n    Specify the multiplicity in the molecule input block.\n\n\n\n\n\n         ---------------------------------------------------------\n\n                                   SCF\n\n            by Justin Turney, Rob Parrish, Andy Simmonett\n\n                             and Daniel Smith\n\n                              RHF Reference\n\n                        6 Threads,    953 MiB Core\n\n         ---------------------------------------------------------\n\n\n\n  ==> Geometry <==\n\n\n\n    Molecular point group: cs\n\n    Full point group: Cs\n\n\n\n    Geometry (in Angstrom), charge = 0, multiplicity = 1:\n\n\n\n       Center              X                  Y                   Z               Mass       \n\n    ------------   -----------------  -----------------  -----------------  -----------------\n\n         H           -0.718007176407     0.615335190031     0.000000000000     1.007825032070\n\n         H            0.687085073593     0.589401280031     0.000000000000     1.007825032070\n\n         O            0.001948373593    -0.075909349969     0.000000000000    15.994914619560\n\n\n\n  Running in cs symmetry.\n\n\n\n  Rotational constants: A =     20.67863  B =     16.78933  C =      9.26606 [cm^-1]\n\n  Rotational constants: A = 619929.74746  B = 503331.38611  C = 277789.45586 [MHz]\n\n  Nuclear repulsion =    9.050965698752549\n\n\n\n  Charge       = 0\n\n  Multiplicity = 1\n\n  Electrons    = 10\n\n  Nalpha       = 5\n\n  Nbeta        = 5\n\n\n\n  ==> Algorithm <==\n\n\n\n  SCF Algorithm Type is DF.\n\n  DIIS enabled.\n\n  MOM disabled.\n\n  Fractional occupation disabled.\n\n  Guess Type is SAD.\n\n  Energy threshold   = 1.00e-06\n\n  Density threshold  = 1.00e-06\n\n  Integral threshold = 0.00e+00\n\n\n\n  ==> Primary Basis <==\n\n\n\n  Basis Set: STO-3G\n\n    Blend: STO-3G\n\n    Number of shells: 5\n\n    Number of basis function: 7\n\n    Number of Cartesian functions: 7\n\n    Spherical Harmonics?: true\n\n    Max angular momentum: 1\n\n\n\n   => Loading Basis Set <=\n\n\n\n    Name: (STO-3G AUX)\n\n    Role: JKFIT\n\n    Keyword: DF_BASIS_SCF\n\n    atoms 1-2 entry H          line    23 file /server-home1/ebullvul/anaconda/envs/psi4-dev/share/psi4/basis/def2-svp-jkfit.gbs \n\n    atoms 3   entry O          line   323 file /server-home1/ebullvul/anaconda/envs/psi4-dev/share/psi4/basis/def2-svp-jkfit.gbs \n\n\n\n  ==> Pre-Iterations <==\n\n\n\n   -------------------------------------------------------\n\n    Irrep   Nso     Nmo     Nalpha   Nbeta   Ndocc  Nsocc\n\n   -------------------------------------------------------\n\n     A''         6       6       0       0       0       0\n\n     A\"         1       1       0       0       0       0\n\n   -------------------------------------------------------\n\n    Total       7       7       5       5       5       0\n\n   -------------------------------------------------------\n\n\n\n  ==> Integral Setup <==\n\n\n\n  ==> MemDFJK: Density-Fitted J/K Matrices <==\n\n\n\n    J tasked:                   Yes\n\n    K tasked:                   Yes\n\n    wK tasked:                   No\n\n    OpenMP threads:               6\n\n    Memory (MB):                715\n\n    Algorithm:                 Core\n\n    Schwarz Cutoff:           1E-12\n\n    Mask sparsity (%):       0.0000\n\n    Fitting Condition:        1E-12\n\n\n\n   => Auxiliary Basis Set <=\n\n\n\n  Basis Set: (STO-3G AUX)\n\n    Blend: DEF2-SVP-JKFIT\n\n    Number of shells: 37\n\n    Number of basis function: 113\n\n    Number of Cartesian functions: 133\n\n    Spherical Harmonics?: true\n\n    Max angular momentum: 4\n\n\n\n  Minimum eigenvalue in the overlap matrix is 3.5286908336E-01.\n\n  Using Symmetric Orthogonalization.\n\n\n\n  SCF Guess: Superposition of Atomic Densities via on-the-fly atomic UHF.\n\n\n\n  ==> Iterations <==\n\n\n\n                           Total Energy        Delta E     RMS |[F,P]|\n\n\n\n   @DF-RHF iter   0:   -74.79987297998211   -7.47999e+01   5.58454e-01 \n\n   @DF-RHF iter   1:   -74.87716886478373   -7.72959e-02   6.39864e-02 \n\n   @DF-RHF iter   2:   -74.95805662963953   -8.08878e-02   1.55576e-02 DIIS\n\n   @DF-RHF iter   3:   -74.96062436875384   -2.56774e-03   4.12146e-03 DIIS\n\n   @DF-RHF iter   4:   -74.96106999022841   -4.45621e-04   6.89477e-04 DIIS\n\n   @DF-RHF iter   5:   -74.96108294702985   -1.29568e-05   1.17194e-05 DIIS\n\n   @DF-RHF iter   6:   -74.96108294957448   -2.54462e-09   1.14194e-06 DIIS\n\n   @DF-RHF iter   7:   -74.96108294959895   -2.44711e-11   2.08656e-07 DIIS\n\n\n\n  ==> Post-Iterations <==\n\n\n\n    Orbital Energies [Eh]\n\n    ---------------------\n\n\n\n    Doubly Occupied:                                                      \n\n\n\n       1Ap   -20.257933     2Ap    -1.272754     3Ap    -0.584825  \n\n       4Ap    -0.479341     1App   -0.397889  \n\n\n\n    Virtual:                                                              \n\n\n\n       5Ap     0.597540     6Ap     0.694413  \n\n\n\n    Final Occupation by Irrep:\n\n             Ap   App \n\n    DOCC [     4,    1 ]\n\n\n\n  Energy converged.\n\n\n\n  @DF-RHF Final Energy:   -74.96108294959895\n\n\n\n   => Energetics <=\n\n\n\n    Nuclear Repulsion Energy =              9.0509656987525489\n\n    One-Electron Energy =                -122.0386170172123457\n\n    Two-Electron Energy =                  38.0265683688608576\n\n    Total Energy =                        -74.9610829495989321\n\n\n\n\n\n\n\nProperties will be evaluated at   0.000000,   0.000000,   0.000000 [a0]\n\n\n\nProperties computed using the SCF density matrix\n\n\n\n  Nuclear Dipole Moment: [e a0]\n\n     X:    -0.0290      Y:     1.1290      Z:     0.0000\n\n\n\n  Electronic Dipole Moment: [e a0]\n\n     X:     0.0391      Y:    -0.4309      Z:     0.0000\n\n\n\n  Dipole Moment: [e a0]\n\n     X:     0.0101      Y:     0.6981      Z:     0.0000     Total:     0.6982\n\n\n\n  Dipole Moment: [D]\n\n     X:     0.0257      Y:     1.7745      Z:     0.0000     Total:     1.7747\n\n\n\n\n\n*** tstop() called on beatrix at Fri Apr 12 15:39:55 2019\n\nModule time:\n\n\tuser time   =       2.91 seconds =       0.05 minutes\n\n\tsystem time =       0.15 seconds =       0.00 minutes\n\n\ttotal time  =          1 seconds =       0.02 minutes\n\nTotal time:\n\n\tuser time   =       2.91 seconds =       0.05 minutes\n\n\tsystem time =       0.15 seconds =       0.00 minutes\n\n\ttotal time  =          1 seconds =       0.02 minutes\n')\"\nPL/pgSQL function inline_code_block line 382 at PERFORM\n"
     ]
    }
   ],
   "source": [
    "potential_fitting.database.read_all_jobs(database_config_path, \".\")"
   ]
  },
  {
   "cell_type": "code",
   "execution_count": 9,
   "metadata": {
    "scrolled": false
   },
   "outputs": [
    {
     "name": "stdout",
     "output_type": "stream",
     "text": [
      "Filling database.\n",
      "     1     2     3     4     5     6     7     8     9    10\n",
      "    11    12    13    14    15    16\n",
      "Filling of database successful\n"
     ]
    }
   ],
   "source": [
    "potential_fitting.fill_database(settings, database_config_path, client_name)"
   ]
  },
  {
   "cell_type": "code",
   "execution_count": 10,
   "metadata": {
    "scrolled": true
   },
   "outputs": [
    {
     "name": "stdout",
     "output_type": "stream",
     "text": [
      "Creating a fitting input file from database into file training_set.xyz\n",
      "Generated training set with 8 Configurations.\n",
      "Creating a fitting input file from database into file test_set.xyz\n",
      "Generated training set with 9 Configurations.\n"
     ]
    }
   ],
   "source": [
    "\n",
    "potential_fitting.generate_1b_training_set(settings, database_config_path, training_set, \"H2O\", method, basis, cp, 'train')\n",
    "potential_fitting.generate_1b_training_set(settings, database_config_path, test_set, \"H2O\", method, basis, cp, 'test')\n"
   ]
  },
  {
   "cell_type": "code",
   "execution_count": null,
   "metadata": {
    "scrolled": true
   },
   "outputs": [],
   "source": [
    "potential_fitting.generate_poly_input_from_database(settings, database, \"H2O\", poly_in)"
   ]
  },
  {
   "cell_type": "code",
   "execution_count": null,
   "metadata": {},
   "outputs": [],
   "source": [
    "potential_fitting.generate_polynomials(settings, poly_in, 3, poly_directory)"
   ]
  },
  {
   "cell_type": "code",
   "execution_count": null,
   "metadata": {
    "scrolled": true
   },
   "outputs": [],
   "source": [
    "potential_fitting.execute_maple(settings, poly_directory)"
   ]
  },
  {
   "cell_type": "code",
   "execution_count": null,
   "metadata": {
    "scrolled": true
   },
   "outputs": [],
   "source": [
    "potential_fitting.generate_fit_config(settings, molecule_in, config, opt_geo)"
   ]
  },
  {
   "cell_type": "code",
   "execution_count": null,
   "metadata": {
    "scrolled": true
   },
   "outputs": [],
   "source": [
    "potential_fitting.generate_1b_fit_code(settings, config, molecule_in, poly_in, poly_directory, 3, fit_directory)"
   ]
  },
  {
   "cell_type": "code",
   "execution_count": null,
   "metadata": {},
   "outputs": [],
   "source": [
    "potential_fitting.compile_fit_code(settings, fit_directory)"
   ]
  },
  {
   "cell_type": "code",
   "execution_count": null,
   "metadata": {},
   "outputs": [],
   "source": [
    "potential_fitting.fit_1b_training_set(settings, fit_directory + \"/fit-1b\", training_set, fit_directory, \"fit.nc\")"
   ]
  },
  {
   "cell_type": "code",
   "execution_count": null,
   "metadata": {},
   "outputs": [],
   "source": [
    "potential_fitting.fitting.fit_visualizer.make_1b_graphs(fit_directory + \"/eval-1b\", \"fit.nc\", database, \"H2O\", \"%\", \"%\", \"%\", \"test\")"
   ]
  }
 ],
 "metadata": {
  "kernelspec": {
   "display_name": "Python 3",
   "language": "python",
   "name": "python3"
  },
  "language_info": {
   "codemirror_mode": {
    "name": "ipython",
    "version": 3
   },
   "file_extension": ".py",
   "mimetype": "text/x-python",
   "name": "python",
   "nbconvert_exporter": "python",
   "pygments_lexer": "ipython3",
   "version": "3.6.8"
  }
 },
 "nbformat": 4,
 "nbformat_minor": 2
}
