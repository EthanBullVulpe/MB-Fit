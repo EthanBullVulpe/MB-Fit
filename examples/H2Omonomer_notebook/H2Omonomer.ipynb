{
 "cells": [
  {
   "cell_type": "code",
   "execution_count": 1,
   "metadata": {
    "scrolled": true
   },
   "outputs": [],
   "source": [
    "import potential_fitting\n",
    "from potential_fitting.database import Database"
   ]
  },
  {
   "cell_type": "code",
   "execution_count": 5,
   "metadata": {},
   "outputs": [],
   "source": [
    "with Database() as db:\n",
    "    db.annihilate(\"confirm\")"
   ]
  },
  {
   "cell_type": "code",
   "execution_count": 3,
   "metadata": {},
   "outputs": [],
   "source": [
    "settings = \"H2Omonomer.ini\"\n",
    "unopt_geo = \"H2O.xyz\"\n",
    "opt_geo = \"H2O.opt.xyz\"\n",
    "normal_modes = \"normal_modes.dat\"\n",
    "train_configs = \"train_configs.xyz\"\n",
    "test_configs = \"test_configs.xyz\"\n",
    "training_set = \"training_set.xyz\"\n",
    "client_name = \"test_cleint\"\n",
    "test_set = \"test_set.xyz\"\n",
    "poly_in = \"poly.in\"\n",
    "molecule_in = \"A2B1\"\n",
    "poly_directory = \"poly\"\n",
    "config = \"config.ini\"\n",
    "fit_directory = \"fit\"\n",
    "fitted_code = \"fitted\"\n",
    "\n",
    "method = \"HF\"\n",
    "basis = \"STO-3G\"\n",
    "cp = False"
   ]
  },
  {
   "cell_type": "code",
   "execution_count": 4,
   "metadata": {
    "scrolled": true
   },
   "outputs": [
    {
     "name": "stdout",
     "output_type": "stream",
     "text": [
      "Beginning geometry optimization using psi4 of H2O with HF/STO-3G.\n",
      "Optimizer: Optimization complete!\n",
      "Completed geometry optimization.\n"
     ]
    }
   ],
   "source": [
    "potential_fitting.optimize_geometry(settings, unopt_geo, opt_geo)"
   ]
  },
  {
   "cell_type": "code",
   "execution_count": 5,
   "metadata": {
    "scrolled": false
   },
   "outputs": [
    {
     "name": "stdout",
     "output_type": "stream",
     "text": [
      "Beginning normal modes calculation using psi4 of H2O with HF/STO-3G.\n",
      "Normal mode/frequency analysis complete. 3 normal modes found.\n"
     ]
    },
    {
     "data": {
      "text/plain": [
       "6"
      ]
     },
     "execution_count": 5,
     "metadata": {},
     "output_type": "execute_result"
    }
   ],
   "source": [
    "potential_fitting.generate_normal_modes(settings, opt_geo, normal_modes)"
   ]
  },
  {
   "cell_type": "code",
   "execution_count": 6,
   "metadata": {
    "scrolled": true
   },
   "outputs": [
    {
     "name": "stdout",
     "output_type": "stream",
     "text": [
      "Parsing normal mode input file.\n",
      "Completed parsing normal modes input file.\n",
      "Running normal distribution configuration generator...\n",
      "Normal Distribution Configuration generation complete.\n",
      "Parsing normal mode input file.\n",
      "Completed parsing normal modes input file.\n",
      "Running normal distribution configuration generator...\n",
      "Normal Distribution Configuration generation complete.\n"
     ]
    }
   ],
   "source": [
    "potential_fitting.generate_normal_mode_configurations(settings, opt_geo, normal_modes, train_configs, seed = 3)\n",
    "potential_fitting.generate_normal_mode_configurations(settings, opt_geo, normal_modes, test_configs, seed = 2)"
   ]
  },
  {
   "cell_type": "code",
   "execution_count": 4,
   "metadata": {
    "scrolled": false
   },
   "outputs": [
    {
     "name": "stdout",
     "output_type": "stream",
     "text": [
      "Initializing database from xyz file train_configs.xyz directory into database.\n",
      "Initializing of database successful.\n",
      "Initializing database from xyz file H2O.opt.xyz directory into database.\n",
      "Initializing of database successful.\n",
      "Initializing database from xyz file test_configs.xyz directory into database.\n",
      "Initializing of database successful.\n",
      "Initializing database from xyz file H2O.opt.xyz directory into database.\n",
      "Initializing of database successful.\n"
     ]
    }
   ],
   "source": [
    "potential_fitting.init_database(settings, train_configs, method, basis, cp, 'train')\n",
    "potential_fitting.init_database(settings, opt_geo, method, basis, cp, 'train', optimized = True)\n",
    "potential_fitting.init_database(settings, test_configs, method, basis, cp, 'test')\n",
    "potential_fitting.init_database(settings, opt_geo, method, basis, cp, 'test', optimized = True)"
   ]
  },
  {
   "cell_type": "code",
   "execution_count": 5,
   "metadata": {
    "scrolled": true
   },
   "outputs": [],
   "source": [
    "potential_fitting.database.make_all_jobs(settings, client_name, \"jobs\", 5)"
   ]
  },
  {
   "cell_type": "code",
   "execution_count": 8,
   "metadata": {
    "scrolled": true
   },
   "outputs": [
    {
     "name": "stdout",
     "output_type": "stream",
     "text": [
      "Maximum threads: 8\n",
      "Running Job\n",
      "Molcule: H    7.40070010000000e-01   0.00000000000000e+00   7.11774330000000e-01\n",
      "H   -6.81092770000000e-01   0.00000000000000e+00   6.62312010000000e-01\n",
      "O   -3.71540000000000e-03   0.00000000000000e+00  -8.65873400000000e-02\n",
      "Method: HF\n",
      "Basis: STO-3G\n",
      "Threads 6\n",
      "Memory: 1GB\n",
      "Energy: -74.94739165122857\n",
      "Maximum threads: 8\n",
      "Running Job\n",
      "Molcule: H    7.40070010000000e-01   0.00000000000000e+00   7.11774330000000e-01\n",
      "H   -6.81092770000000e-01   0.00000000000000e+00   6.62312010000000e-01\n",
      "O   -3.71540000000000e-03   0.00000000000000e+00  -8.65873400000000e-02\n",
      "Method: HF\n",
      "Basis: STO-3G\n",
      "Threads 6\n",
      "Memory: 1GB\n",
      "Energy: -74.94739165122851\n"
     ]
    }
   ],
   "source": [
    "!python jobs/job_1.py\n",
    "!python jobs/job_1.py"
   ]
  },
  {
   "cell_type": "code",
   "execution_count": 9,
   "metadata": {
    "scrolled": true
   },
   "outputs": [
    {
     "name": "stdout",
     "output_type": "stream",
     "text": [
      "./job_1_done\n",
      "./job_2_done\n",
      "./job_3_done\n",
      "./job_4_done\n",
      "./job_5_done\n",
      "./job_1\n",
      "['A2B1']\n",
      "./job_2\n",
      "['A2B1']\n"
     ]
    },
    {
     "ename": "InternalError",
     "evalue": "Trying to set energy of calculation that does not have status = \"dispatched\"\nCONTEXT:  PL/pgSQL function set_properties(character varying,character varying,integer[],boolean,double precision,character varying) line 10 at RAISE\nSQL statement \"SELECT set_properties('0090ed46c5e90be3bd757533fb5052962323fae2', 'HF/STO-3G/False', '{0}', true,  -74.94739165122857, '\n\n  Memory set to 953.674 MiB by Python driver.\n\n  Threads set to 6 by Python driver.\n\n\n\n*** tstart() called on louie\n\n*** at Mon Apr  8 15:29:22 2019\n\n\n\n   => Loading Basis Set <=\n\n\n\n    Name: STO-3G\n\n    Role: ORBITAL\n\n    Keyword: BASIS\n\n    atoms 1-2 entry H          line    19 file /server-home1/ebullvul/anaconda/envs/psi4-dev/share/psi4/basis/sto-3g.gbs \n\n    atoms 3   entry O          line    81 file /server-home1/ebullvul/anaconda/envs/psi4-dev/share/psi4/basis/sto-3g.gbs \n\n\n\n    There are an even number of electrons - assuming singlet.\n\n    Specify the multiplicity in the molecule input block.\n\n\n\n\n\n         ---------------------------------------------------------\n\n                                   SCF\n\n            by Justin Turney, Rob Parrish, Andy Simmonett\n\n                             and Daniel Smith\n\n                              RHF Reference\n\n                        6 Threads,    953 MiB Core\n\n         ---------------------------------------------------------\n\n\n\n  ==> Geometry <==\n\n\n\n    Molecular point group: cs\n\n    Full point group: Cs\n\n\n\n    Geometry (in Angstrom), charge = 0, multiplicity = 1:\n\n\n\n       Center              X                  Y                   Z               Mass       \n\n    ------------   -----------------  -----------------  -----------------  -----------------\n\n         H           -0.740069386310     0.711780909514     0.000000000000     1.007825032070\n\n         H            0.681093393690     0.662318589514     0.000000000000     1.007825032070\n\n         O            0.003716023690    -0.086580760486     0.000000000000    15.994914619560\n\n\n\n  Running in cs symmetry.\n\n\n\n  Rotational constants: A =     17.54956  B =     14.89517  C =      8.05689 [cm^-1]\n\n  Rotational constants: A = 526122.52094  B = 446546.04528  C = 241539.55337 [MHz]\n\n  Nuclear repulsion =    8.444267059214432\n\n\n\n  Charge       = 0\n\n  Multiplicity = 1\n\n  Electrons    = 10\n\n  Nalpha       = 5\n\n  Nbeta        = 5\n\n\n\n  ==> Algorithm <==\n\n\n\n  SCF Algorithm Type is DF.\n\n  DIIS enabled.\n\n  MOM disabled.\n\n  Fractional occupation disabled.\n\n  Guess Type is SAD.\n\n  Energy threshold   = 1.00e-06\n\n  Density threshold  = 1.00e-06\n\n  Integral threshold = 0.00e+00\n\n\n\n  ==> Primary Basis <==\n\n\n\n  Basis Set: STO-3G\n\n    Blend: STO-3G\n\n    Number of shells: 5\n\n    Number of basis function: 7\n\n    Number of Cartesian functions: 7\n\n    Spherical Harmonics?: true\n\n    Max angular momentum: 1\n\n\n\n   => Loading Basis Set <=\n\n\n\n    Name: (STO-3G AUX)\n\n    Role: JKFIT\n\n    Keyword: DF_BASIS_SCF\n\n    atoms 1-2 entry H          line    23 file /server-home1/ebullvul/anaconda/envs/psi4-dev/share/psi4/basis/def2-svp-jkfit.gbs \n\n    atoms 3   entry O          line   323 file /server-home1/ebullvul/anaconda/envs/psi4-dev/share/psi4/basis/def2-svp-jkfit.gbs \n\n\n\n  ==> Pre-Iterations <==\n\n\n\n   -------------------------------------------------------\n\n    Irrep   Nso     Nmo     Nalpha   Nbeta   Ndocc  Nsocc\n\n   -------------------------------------------------------\n\n     A''         6       6       0       0       0       0\n\n     A\"         1       1       0       0       0       0\n\n   -------------------------------------------------------\n\n    Total       7       7       5       5       5       0\n\n   -------------------------------------------------------\n\n\n\n  ==> Integral Setup <==\n\n\n\n  ==> MemDFJK: Density-Fitted J/K Matrices <==\n\n\n\n    J tasked:                   Yes\n\n    K tasked:                   Yes\n\n    wK tasked:                   No\n\n    OpenMP threads:               6\n\n    Memory (MB):                715\n\n    Algorithm:                 Core\n\n    Schwarz Cutoff:           1E-12\n\n    Mask sparsity (%):       0.0000\n\n    Fitting Condition:        1E-12\n\n\n\n   => Auxiliary Basis Set <=\n\n\n\n  Basis Set: (STO-3G AUX)\n\n    Blend: DEF2-SVP-JKFIT\n\n    Number of shells: 37\n\n    Number of basis function: 113\n\n    Number of Cartesian functions: 133\n\n    Spherical Harmonics?: true\n\n    Max angular momentum: 4\n\n\n\n  Minimum eigenvalue in the overlap matrix is 3.9716471433E-01.\n\n  Using Symmetric Orthogonalization.\n\n\n\n  SCF Guess: Superposition of Atomic Densities via on-the-fly atomic UHF.\n\n\n\n  ==> Iterations <==\n\n\n\n                           Total Energy        Delta E     RMS |[F,P]|\n\n\n\n   @DF-RHF iter   0:   -74.63168655000585   -7.46317e+01   2.88543e-01 \n\n   @DF-RHF iter   1:   -74.87334228716442   -2.41656e-01   6.62827e-02 \n\n   @DF-RHF iter   2:   -74.94350541923708   -7.01631e-02   1.78345e-02 DIIS\n\n   @DF-RHF iter   3:   -74.94674970139361   -3.24428e-03   5.32403e-03 DIIS\n\n   @DF-RHF iter   4:   -74.94738501685208   -6.35315e-04   8.51293e-04 DIIS\n\n   @DF-RHF iter   5:   -74.94739155400852   -6.53716e-06   8.06450e-05 DIIS\n\n   @DF-RHF iter   6:   -74.94739165090320   -9.68947e-08   5.82706e-06 DIIS\n\n   @DF-RHF iter   7:   -74.94739165122857   -3.25372e-10   6.08957e-07 DIIS\n\n\n\n  ==> Post-Iterations <==\n\n\n\n    Orbital Energies [Eh]\n\n    ---------------------\n\n\n\n    Doubly Occupied:                                                      \n\n\n\n       1Ap   -20.271287     2Ap    -1.244466     3Ap    -0.537897  \n\n       4Ap    -0.481985     1App   -0.397703  \n\n\n\n    Virtual:                                                              \n\n\n\n       5Ap     0.522396     6Ap     0.617262  \n\n\n\n    Final Occupation by Irrep:\n\n             Ap   App \n\n    DOCC [     4,    1 ]\n\n\n\n  Energy converged.\n\n\n\n  @DF-RHF Final Energy:   -74.94739165122857\n\n\n\n   => Energetics <=\n\n\n\n    Nuclear Repulsion Energy =              8.4442670592144324\n\n    One-Electron Energy =                -120.9166466631845509\n\n    Two-Electron Energy =                  37.5249879527415473\n\n    Total Energy =                        -74.9473916512285712\n\n\n\n\n\n\n\nProperties will be evaluated at   0.000000,   0.000000,   0.000000 [a0]\n\n\n\nProperties computed using the SCF density matrix\n\n\n\n  Nuclear Dipole Moment: [e a0]\n\n     X:    -0.0553      Y:     1.2878      Z:     0.0000\n\n\n\n  Electronic Dipole Moment: [e a0]\n\n     X:     0.0772      Y:    -0.6196      Z:     0.0000\n\n\n\n  Dipole Moment: [e a0]\n\n     X:     0.0219      Y:     0.6681      Z:     0.0000     Total:     0.6685\n\n\n\n  Dipole Moment: [D]\n\n     X:     0.0558      Y:     1.6983      Z:     0.0000     Total:     1.6992\n\n\n\n\n\n*** tstop() called on louie at Mon Apr  8 15:29:24 2019\n\nModule time:\n\n\tuser time   =       4.34 seconds =       0.07 minutes\n\n\tsystem time =       0.33 seconds =       0.01 minutes\n\n\ttotal time  =          2 seconds =       0.03 minutes\n\nTotal time:\n\n\tuser time   =       4.34 seconds =       0.07 minutes\n\n\tsystem time =       0.33 seconds =       0.01 minutes\n\n\ttotal time  =          2 seconds =       0.03 minutes\n')\"\nPL/pgSQL function inline_code_block line 1 at PERFORM\n",
     "output_type": "error",
     "traceback": [
      "\u001b[0;31m---------------------------------------------------------------------------\u001b[0m",
      "\u001b[0;31mInternalError\u001b[0m                             Traceback (most recent call last)",
      "\u001b[0;32m<ipython-input-9-7d4be0d96039>\u001b[0m in \u001b[0;36m<module>\u001b[0;34m()\u001b[0m\n\u001b[0;32m----> 1\u001b[0;31m \u001b[0mpotential_fitting\u001b[0m\u001b[0;34m.\u001b[0m\u001b[0mdatabase\u001b[0m\u001b[0;34m.\u001b[0m\u001b[0mread_all_jobs\u001b[0m\u001b[0;34m(\u001b[0m\u001b[0;34m\".\"\u001b[0m\u001b[0;34m)\u001b[0m\u001b[0;34m\u001b[0m\u001b[0;34m\u001b[0m\u001b[0m\n\u001b[0m",
      "\u001b[0;32m~/potential_fitting-1/potential_fitting/database/database_job_reader.py\u001b[0m in \u001b[0;36mread_all_jobs\u001b[0;34m(job_dir)\u001b[0m\n\u001b[1;32m     24\u001b[0m \u001b[0;34m\u001b[0m\u001b[0m\n\u001b[1;32m     25\u001b[0m     \u001b[0;32mwith\u001b[0m \u001b[0mDatabase\u001b[0m\u001b[0;34m(\u001b[0m\u001b[0;34m)\u001b[0m \u001b[0;32mas\u001b[0m \u001b[0mdb\u001b[0m\u001b[0;34m:\u001b[0m\u001b[0;34m\u001b[0m\u001b[0;34m\u001b[0m\u001b[0m\n\u001b[0;32m---> 26\u001b[0;31m         \u001b[0mdb\u001b[0m\u001b[0;34m.\u001b[0m\u001b[0mset_properties\u001b[0m\u001b[0;34m(\u001b[0m\u001b[0mcalculation_results\u001b[0m\u001b[0;34m)\u001b[0m\u001b[0;34m\u001b[0m\u001b[0;34m\u001b[0m\u001b[0m\n\u001b[0m\u001b[1;32m     27\u001b[0m \u001b[0;34m\u001b[0m\u001b[0m\n\u001b[1;32m     28\u001b[0m     \u001b[0;32mfor\u001b[0m \u001b[0mdirectory\u001b[0m \u001b[0;32min\u001b[0m \u001b[0mglob\u001b[0m\u001b[0;34m(\u001b[0m\u001b[0mjob_dir\u001b[0m \u001b[0;34m+\u001b[0m \u001b[0;34m\"/job_*\"\u001b[0m\u001b[0;34m)\u001b[0m\u001b[0;34m:\u001b[0m\u001b[0;34m\u001b[0m\u001b[0;34m\u001b[0m\u001b[0m\n",
      "\u001b[0;32m~/potential_fitting-1/potential_fitting/database/database.py\u001b[0m in \u001b[0;36mset_properties\u001b[0;34m(self, calculation_results)\u001b[0m\n\u001b[1;32m   1150\u001b[0m \u001b[0;34m\u001b[0m\u001b[0m\n\u001b[1;32m   1151\u001b[0m         \u001b[0;32mif\u001b[0m \u001b[0mbatch_count\u001b[0m \u001b[0;34m!=\u001b[0m \u001b[0;36m0\u001b[0m\u001b[0;34m:\u001b[0m\u001b[0;34m\u001b[0m\u001b[0;34m\u001b[0m\u001b[0m\n\u001b[0;32m-> 1152\u001b[0;31m             \u001b[0mself\u001b[0m\u001b[0;34m.\u001b[0m\u001b[0mexecute\u001b[0m\u001b[0;34m(\u001b[0m\u001b[0mcommand_string\u001b[0m\u001b[0;34m,\u001b[0m \u001b[0mparams\u001b[0m\u001b[0;34m)\u001b[0m\u001b[0;34m\u001b[0m\u001b[0;34m\u001b[0m\u001b[0m\n\u001b[0m\u001b[1;32m   1153\u001b[0m \u001b[0;34m\u001b[0m\u001b[0m\n\u001b[1;32m   1154\u001b[0m     \u001b[0;32mdef\u001b[0m \u001b[0mget_1B_training_set\u001b[0m\u001b[0;34m(\u001b[0m\u001b[0mself\u001b[0m\u001b[0;34m,\u001b[0m \u001b[0mmolecule_name\u001b[0m\u001b[0;34m,\u001b[0m \u001b[0mmethod\u001b[0m\u001b[0;34m,\u001b[0m \u001b[0mbasis\u001b[0m\u001b[0;34m,\u001b[0m \u001b[0mcp\u001b[0m\u001b[0;34m,\u001b[0m \u001b[0;34m*\u001b[0m\u001b[0mtags\u001b[0m\u001b[0;34m)\u001b[0m\u001b[0;34m:\u001b[0m\u001b[0;34m\u001b[0m\u001b[0;34m\u001b[0m\u001b[0m\n",
      "\u001b[0;32m~/potential_fitting-1/potential_fitting/database/database.py\u001b[0m in \u001b[0;36mexecute\u001b[0;34m(self, command, params)\u001b[0m\n\u001b[1;32m    743\u001b[0m             \u001b[0mcommand\u001b[0m \u001b[0;34m+\u001b[0m\u001b[0;34m\u001b[0m\u001b[0;34m\u001b[0m\u001b[0m\n\u001b[1;32m    744\u001b[0m             \u001b[0;34m\"END $$\"\u001b[0m\u001b[0;34m,\u001b[0m\u001b[0;34m\u001b[0m\u001b[0;34m\u001b[0m\u001b[0m\n\u001b[0;32m--> 745\u001b[0;31m             params)\n\u001b[0m\u001b[1;32m    746\u001b[0m \u001b[0;34m\u001b[0m\u001b[0m\n\u001b[1;32m    747\u001b[0m     \u001b[0;32mdef\u001b[0m \u001b[0mexists\u001b[0m\u001b[0;34m(\u001b[0m\u001b[0mself\u001b[0m\u001b[0;34m,\u001b[0m \u001b[0mtable\u001b[0m\u001b[0;34m,\u001b[0m \u001b[0;34m**\u001b[0m\u001b[0mproperty_value_pairs\u001b[0m\u001b[0;34m)\u001b[0m\u001b[0;34m:\u001b[0m\u001b[0;34m\u001b[0m\u001b[0;34m\u001b[0m\u001b[0m\n",
      "\u001b[0;31mInternalError\u001b[0m: Trying to set energy of calculation that does not have status = \"dispatched\"\nCONTEXT:  PL/pgSQL function set_properties(character varying,character varying,integer[],boolean,double precision,character varying) line 10 at RAISE\nSQL statement \"SELECT set_properties('0090ed46c5e90be3bd757533fb5052962323fae2', 'HF/STO-3G/False', '{0}', true,  -74.94739165122857, '\n\n  Memory set to 953.674 MiB by Python driver.\n\n  Threads set to 6 by Python driver.\n\n\n\n*** tstart() called on louie\n\n*** at Mon Apr  8 15:29:22 2019\n\n\n\n   => Loading Basis Set <=\n\n\n\n    Name: STO-3G\n\n    Role: ORBITAL\n\n    Keyword: BASIS\n\n    atoms 1-2 entry H          line    19 file /server-home1/ebullvul/anaconda/envs/psi4-dev/share/psi4/basis/sto-3g.gbs \n\n    atoms 3   entry O          line    81 file /server-home1/ebullvul/anaconda/envs/psi4-dev/share/psi4/basis/sto-3g.gbs \n\n\n\n    There are an even number of electrons - assuming singlet.\n\n    Specify the multiplicity in the molecule input block.\n\n\n\n\n\n         ---------------------------------------------------------\n\n                                   SCF\n\n            by Justin Turney, Rob Parrish, Andy Simmonett\n\n                             and Daniel Smith\n\n                              RHF Reference\n\n                        6 Threads,    953 MiB Core\n\n         ---------------------------------------------------------\n\n\n\n  ==> Geometry <==\n\n\n\n    Molecular point group: cs\n\n    Full point group: Cs\n\n\n\n    Geometry (in Angstrom), charge = 0, multiplicity = 1:\n\n\n\n       Center              X                  Y                   Z               Mass       \n\n    ------------   -----------------  -----------------  -----------------  -----------------\n\n         H           -0.740069386310     0.711780909514     0.000000000000     1.007825032070\n\n         H            0.681093393690     0.662318589514     0.000000000000     1.007825032070\n\n         O            0.003716023690    -0.086580760486     0.000000000000    15.994914619560\n\n\n\n  Running in cs symmetry.\n\n\n\n  Rotational constants: A =     17.54956  B =     14.89517  C =      8.05689 [cm^-1]\n\n  Rotational constants: A = 526122.52094  B = 446546.04528  C = 241539.55337 [MHz]\n\n  Nuclear repulsion =    8.444267059214432\n\n\n\n  Charge       = 0\n\n  Multiplicity = 1\n\n  Electrons    = 10\n\n  Nalpha       = 5\n\n  Nbeta        = 5\n\n\n\n  ==> Algorithm <==\n\n\n\n  SCF Algorithm Type is DF.\n\n  DIIS enabled.\n\n  MOM disabled.\n\n  Fractional occupation disabled.\n\n  Guess Type is SAD.\n\n  Energy threshold   = 1.00e-06\n\n  Density threshold  = 1.00e-06\n\n  Integral threshold = 0.00e+00\n\n\n\n  ==> Primary Basis <==\n\n\n\n  Basis Set: STO-3G\n\n    Blend: STO-3G\n\n    Number of shells: 5\n\n    Number of basis function: 7\n\n    Number of Cartesian functions: 7\n\n    Spherical Harmonics?: true\n\n    Max angular momentum: 1\n\n\n\n   => Loading Basis Set <=\n\n\n\n    Name: (STO-3G AUX)\n\n    Role: JKFIT\n\n    Keyword: DF_BASIS_SCF\n\n    atoms 1-2 entry H          line    23 file /server-home1/ebullvul/anaconda/envs/psi4-dev/share/psi4/basis/def2-svp-jkfit.gbs \n\n    atoms 3   entry O          line   323 file /server-home1/ebullvul/anaconda/envs/psi4-dev/share/psi4/basis/def2-svp-jkfit.gbs \n\n\n\n  ==> Pre-Iterations <==\n\n\n\n   -------------------------------------------------------\n\n    Irrep   Nso     Nmo     Nalpha   Nbeta   Ndocc  Nsocc\n\n   -------------------------------------------------------\n\n     A''         6       6       0       0       0       0\n\n     A\"         1       1       0       0       0       0\n\n   -------------------------------------------------------\n\n    Total       7       7       5       5       5       0\n\n   -------------------------------------------------------\n\n\n\n  ==> Integral Setup <==\n\n\n\n  ==> MemDFJK: Density-Fitted J/K Matrices <==\n\n\n\n    J tasked:                   Yes\n\n    K tasked:                   Yes\n\n    wK tasked:                   No\n\n    OpenMP threads:               6\n\n    Memory (MB):                715\n\n    Algorithm:                 Core\n\n    Schwarz Cutoff:           1E-12\n\n    Mask sparsity (%):       0.0000\n\n    Fitting Condition:        1E-12\n\n\n\n   => Auxiliary Basis Set <=\n\n\n\n  Basis Set: (STO-3G AUX)\n\n    Blend: DEF2-SVP-JKFIT\n\n    Number of shells: 37\n\n    Number of basis function: 113\n\n    Number of Cartesian functions: 133\n\n    Spherical Harmonics?: true\n\n    Max angular momentum: 4\n\n\n\n  Minimum eigenvalue in the overlap matrix is 3.9716471433E-01.\n\n  Using Symmetric Orthogonalization.\n\n\n\n  SCF Guess: Superposition of Atomic Densities via on-the-fly atomic UHF.\n\n\n\n  ==> Iterations <==\n\n\n\n                           Total Energy        Delta E     RMS |[F,P]|\n\n\n\n   @DF-RHF iter   0:   -74.63168655000585   -7.46317e+01   2.88543e-01 \n\n   @DF-RHF iter   1:   -74.87334228716442   -2.41656e-01   6.62827e-02 \n\n   @DF-RHF iter   2:   -74.94350541923708   -7.01631e-02   1.78345e-02 DIIS\n\n   @DF-RHF iter   3:   -74.94674970139361   -3.24428e-03   5.32403e-03 DIIS\n\n   @DF-RHF iter   4:   -74.94738501685208   -6.35315e-04   8.51293e-04 DIIS\n\n   @DF-RHF iter   5:   -74.94739155400852   -6.53716e-06   8.06450e-05 DIIS\n\n   @DF-RHF iter   6:   -74.94739165090320   -9.68947e-08   5.82706e-06 DIIS\n\n   @DF-RHF iter   7:   -74.94739165122857   -3.25372e-10   6.08957e-07 DIIS\n\n\n\n  ==> Post-Iterations <==\n\n\n\n    Orbital Energies [Eh]\n\n    ---------------------\n\n\n\n    Doubly Occupied:                                                      \n\n\n\n       1Ap   -20.271287     2Ap    -1.244466     3Ap    -0.537897  \n\n       4Ap    -0.481985     1App   -0.397703  \n\n\n\n    Virtual:                                                              \n\n\n\n       5Ap     0.522396     6Ap     0.617262  \n\n\n\n    Final Occupation by Irrep:\n\n             Ap   App \n\n    DOCC [     4,    1 ]\n\n\n\n  Energy converged.\n\n\n\n  @DF-RHF Final Energy:   -74.94739165122857\n\n\n\n   => Energetics <=\n\n\n\n    Nuclear Repulsion Energy =              8.4442670592144324\n\n    One-Electron Energy =                -120.9166466631845509\n\n    Two-Electron Energy =                  37.5249879527415473\n\n    Total Energy =                        -74.9473916512285712\n\n\n\n\n\n\n\nProperties will be evaluated at   0.000000,   0.000000,   0.000000 [a0]\n\n\n\nProperties computed using the SCF density matrix\n\n\n\n  Nuclear Dipole Moment: [e a0]\n\n     X:    -0.0553      Y:     1.2878      Z:     0.0000\n\n\n\n  Electronic Dipole Moment: [e a0]\n\n     X:     0.0772      Y:    -0.6196      Z:     0.0000\n\n\n\n  Dipole Moment: [e a0]\n\n     X:     0.0219      Y:     0.6681      Z:     0.0000     Total:     0.6685\n\n\n\n  Dipole Moment: [D]\n\n     X:     0.0558      Y:     1.6983      Z:     0.0000     Total:     1.6992\n\n\n\n\n\n*** tstop() called on louie at Mon Apr  8 15:29:24 2019\n\nModule time:\n\n\tuser time   =       4.34 seconds =       0.07 minutes\n\n\tsystem time =       0.33 seconds =       0.01 minutes\n\n\ttotal time  =          2 seconds =       0.03 minutes\n\nTotal time:\n\n\tuser time   =       4.34 seconds =       0.07 minutes\n\n\tsystem time =       0.33 seconds =       0.01 minutes\n\n\ttotal time  =          2 seconds =       0.03 minutes\n')\"\nPL/pgSQL function inline_code_block line 1 at PERFORM\n"
     ]
    }
   ],
   "source": [
    "potential_fitting.database.read_all_jobs(\".\")"
   ]
  },
  {
   "cell_type": "code",
   "execution_count": null,
   "metadata": {
    "scrolled": false
   },
   "outputs": [],
   "source": [
    "potential_fitting.fill_database(settings, client_name)"
   ]
  },
  {
   "cell_type": "code",
   "execution_count": null,
   "metadata": {
    "scrolled": true
   },
   "outputs": [],
   "source": [
    "\n",
    "potential_fitting.generate_1b_training_set(settings, training_set, \"H2O\", method, basis, cp, 'train')\n",
    "potential_fitting.generate_1b_training_set(settings, test_set, \"H2O\", method, basis, cp, 'test')\n"
   ]
  },
  {
   "cell_type": "code",
   "execution_count": null,
   "metadata": {
    "scrolled": true
   },
   "outputs": [],
   "source": [
    "potential_fitting.generate_poly_input_from_database(settings, database, \"H2O\", poly_in)"
   ]
  },
  {
   "cell_type": "code",
   "execution_count": null,
   "metadata": {},
   "outputs": [],
   "source": [
    "potential_fitting.generate_polynomials(settings, poly_in, 3, poly_directory)"
   ]
  },
  {
   "cell_type": "code",
   "execution_count": null,
   "metadata": {
    "scrolled": true
   },
   "outputs": [],
   "source": [
    "potential_fitting.execute_maple(settings, poly_directory)"
   ]
  },
  {
   "cell_type": "code",
   "execution_count": null,
   "metadata": {
    "scrolled": true
   },
   "outputs": [],
   "source": [
    "potential_fitting.generate_fit_config(settings, molecule_in, config, opt_geo)"
   ]
  },
  {
   "cell_type": "code",
   "execution_count": null,
   "metadata": {
    "scrolled": true
   },
   "outputs": [],
   "source": [
    "potential_fitting.generate_1b_fit_code(settings, config, molecule_in, poly_in, poly_directory, 3, fit_directory)"
   ]
  },
  {
   "cell_type": "code",
   "execution_count": null,
   "metadata": {},
   "outputs": [],
   "source": [
    "potential_fitting.compile_fit_code(settings, fit_directory)"
   ]
  },
  {
   "cell_type": "code",
   "execution_count": null,
   "metadata": {},
   "outputs": [],
   "source": [
    "potential_fitting.fit_1b_training_set(settings, fit_directory + \"/fit-1b\", training_set, fit_directory, \"fit.nc\")"
   ]
  },
  {
   "cell_type": "code",
   "execution_count": null,
   "metadata": {},
   "outputs": [],
   "source": [
    "potential_fitting.fitting.fit_visualizer.make_1b_graphs(fit_directory + \"/eval-1b\", \"fit.nc\", database, \"H2O\", \"%\", \"%\", \"%\", \"test\")"
   ]
  }
 ],
 "metadata": {
  "kernelspec": {
   "display_name": "Python 3",
   "language": "python",
   "name": "python3"
  },
  "language_info": {
   "codemirror_mode": {
    "name": "ipython",
    "version": 3
   },
   "file_extension": ".py",
   "mimetype": "text/x-python",
   "name": "python",
   "nbconvert_exporter": "python",
   "pygments_lexer": "ipython3",
   "version": "3.6.8"
  }
 },
 "nbformat": 4,
 "nbformat_minor": 2
}
