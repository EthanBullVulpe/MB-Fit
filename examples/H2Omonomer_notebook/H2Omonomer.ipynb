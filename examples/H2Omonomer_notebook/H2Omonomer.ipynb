{
 "cells": [
  {
   "cell_type": "code",
   "execution_count": null,
   "metadata": {
    "scrolled": true
   },
   "outputs": [],
   "source": [
    "import potential_fitting\n",
    "from potential_fitting.database import Database"
   ]
  },
  {
   "cell_type": "code",
   "execution_count": null,
   "metadata": {},
   "outputs": [],
   "source": [
    "settings = \"H2Omonomer.ini\"\n",
    "unopt_geo = \"H2O.xyz\"\n",
    "opt_geo = \"H2O.opt.xyz\"\n",
    "normal_modes = \"normal_modes.dat\"\n",
    "train_configs = \"train_configs.xyz\"\n",
    "test_configs = \"test_configs.xyz\"\n",
    "training_set = \"training_set.xyz\"\n",
    "client_name = \"test_cleint\"\n",
    "test_set = \"test_set.xyz\"\n",
    "poly_in = \"poly.in\"\n",
    "molecule_in = \"A2B1\"\n",
    "poly_directory = \"poly\"\n",
    "config = \"config.ini\"\n",
    "fit_directory = \"fit\"\n",
    "fitted_code = \"fitted\"\n",
    "\n",
    "method = \"HF\"\n",
    "basis = \"STO-3G\"\n",
    "cp = False"
   ]
  },
  {
   "cell_type": "code",
   "execution_count": null,
   "metadata": {
    "scrolled": true
   },
   "outputs": [],
   "source": [
    "potential_fitting.optimize_geometry(settings, unopt_geo, opt_geo)"
   ]
  },
  {
   "cell_type": "code",
   "execution_count": null,
   "metadata": {
    "scrolled": false
   },
   "outputs": [],
   "source": [
    "potential_fitting.generate_normal_modes(settings, opt_geo, normal_modes)"
   ]
  },
  {
   "cell_type": "code",
   "execution_count": null,
   "metadata": {
    "scrolled": true
   },
   "outputs": [],
   "source": [
    "potential_fitting.generate_normal_mode_configurations(settings, opt_geo, normal_modes, train_configs, seed = 3)\n",
    "potential_fitting.generate_normal_mode_configurations(settings, opt_geo, normal_modes, test_configs, seed = 2)"
   ]
  },
  {
   "cell_type": "code",
   "execution_count": null,
   "metadata": {
    "scrolled": true
   },
   "outputs": [],
   "source": [
    "potential_fitting.init_database(settings, train_configs, method, basis, cp, 'train')\n",
    "potential_fitting.init_database(settings, opt_geo, method, basis, cp, 'train', optimized = True)\n",
    "potential_fitting.init_database(settings, test_configs, method, basis, cp, 'test')\n",
    "potential_fitting.init_database(settings, opt_geo, method, basis, cp, 'test', optimized = True)"
   ]
  },
  {
   "cell_type": "code",
   "execution_count": null,
   "metadata": {
    "scrolled": false
   },
   "outputs": [],
   "source": [
    "potential_fitting.fill_database(settings, client_name)"
   ]
  },
  {
   "cell_type": "code",
   "execution_count": null,
   "metadata": {
    "scrolled": true
   },
   "outputs": [],
   "source": [
    "\n",
    "potential_fitting.generate_1b_training_set(settings, training_set, \"H2O\", method, basis, cp, 'train')\n",
    "potential_fitting.generate_1b_training_set(settings, test_set, \"H2O\", method, basis, cp, 'test')\n"
   ]
  },
  {
   "cell_type": "code",
   "execution_count": null,
   "metadata": {
    "scrolled": true
   },
   "outputs": [],
   "source": [
    "potential_fitting.generate_poly_input_from_database(settings, database, \"H2O\", poly_in)"
   ]
  },
  {
   "cell_type": "code",
   "execution_count": null,
   "metadata": {},
   "outputs": [],
   "source": [
    "potential_fitting.generate_polynomials(settings, poly_in, 3, poly_directory)"
   ]
  },
  {
   "cell_type": "code",
   "execution_count": null,
   "metadata": {
    "scrolled": true
   },
   "outputs": [],
   "source": [
    "potential_fitting.execute_maple(settings, poly_directory)"
   ]
  },
  {
   "cell_type": "code",
   "execution_count": null,
   "metadata": {
    "scrolled": true
   },
   "outputs": [],
   "source": [
    "potential_fitting.generate_fit_config(settings, molecule_in, config, opt_geo)"
   ]
  },
  {
   "cell_type": "code",
   "execution_count": null,
   "metadata": {
    "scrolled": true
   },
   "outputs": [],
   "source": [
    "potential_fitting.generate_1b_fit_code(settings, config, molecule_in, poly_in, poly_directory, 3, fit_directory)"
   ]
  },
  {
   "cell_type": "code",
   "execution_count": null,
   "metadata": {},
   "outputs": [],
   "source": [
    "potential_fitting.compile_fit_code(settings, fit_directory)"
   ]
  },
  {
   "cell_type": "code",
   "execution_count": null,
   "metadata": {},
   "outputs": [],
   "source": [
    "potential_fitting.fit_1b_training_set(settings, fit_directory + \"/fit-1b\", training_set, fit_directory, \"fit.nc\")"
   ]
  },
  {
   "cell_type": "code",
   "execution_count": null,
   "metadata": {},
   "outputs": [],
   "source": [
    "potential_fitting.fitting.fit_visualizer.make_1b_graphs(fit_directory + \"/eval-1b\", \"fit.nc\", database, \"H2O\", \"%\", \"%\", \"%\", \"test\")"
   ]
  }
 ],
 "metadata": {
  "kernelspec": {
   "display_name": "Python 3",
   "language": "python",
   "name": "python3"
  },
  "language_info": {
   "codemirror_mode": {
    "name": "ipython",
    "version": 3
   },
   "file_extension": ".py",
   "mimetype": "text/x-python",
   "name": "python",
   "nbconvert_exporter": "python",
   "pygments_lexer": "ipython3",
   "version": "3.6.8"
  }
 },
 "nbformat": 4,
 "nbformat_minor": 2
}
