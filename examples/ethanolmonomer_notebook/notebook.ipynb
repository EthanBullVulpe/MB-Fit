{
 "cells": [
  {
   "cell_type": "markdown",
   "metadata": {},
   "source": [
    "This block just imports the potential_fitting module."
   ]
  },
  {
   "cell_type": "code",
   "execution_count": 1,
   "metadata": {
    "scrolled": true
   },
   "outputs": [],
   "source": [
    "import potential_fitting"
   ]
  },
  {
   "cell_type": "markdown",
   "metadata": {},
   "source": [
    "Now define filepaths as variables so we don't have to keep retyping strings.\n",
    "Make sure you have nothing of value in any of these files, as all files will be overwritten by certain steps of the workflow except settings, unopt_geo, and database."
   ]
  },
  {
   "cell_type": "code",
   "execution_count": 2,
   "metadata": {},
   "outputs": [],
   "source": [
    "settings = \"settings.ini\"\n",
    "unopt_geo = \"ethanol.xyz\"\n",
    "opt_geo = \"ethanol.opt.xyz\"\n",
    "normal_modes = \"normal_modes.dat\"\n",
    "train_configs = \"train_configs.xyz\"\n",
    "test_configs = \"test_configs.xyz\"\n",
    "database = \"database.db\"\n",
    "train_set = \"train_set.xyz\"\n",
    "test_set = \"test_set.xyz\"\n",
    "poly_in = \"poly.in\"\n",
    "molecule_in = \"A1B3C1D2E1F1\"\n",
    "poly_directory = \"poly\"\n",
    "config = \"config.ini\"\n",
    "fit_directory = \"fit\"\n",
    "fitted_code = \"fitted.nc\""
   ]
  },
  {
   "cell_type": "markdown",
   "metadata": {},
   "source": [
    "Optimizes the single geometry specified in the file located at the path specifed by unopt_geo and writes the optimized geometry to the file path specified by opt geo. This may take a while depending on what method/basis you use."
   ]
  },
  {
   "cell_type": "code",
   "execution_count": null,
   "metadata": {
    "scrolled": false
   },
   "outputs": [],
   "source": [
    "potential_fitting.optimize_geometry(settings, unopt_geo, opt_geo)"
   ]
  },
  {
   "cell_type": "markdown",
   "metadata": {},
   "source": [
    "Does a frequency calculation on the optimized geometry in the file located at the opt_geo path in order to generate a normal modes input file for the normal distribution configuration generator in the file located at normal_modes. dim_null (3 times number of atoms minus number of normal modes) is returned and should be used as input for the next function call. This may take a while depending on what method/basis you use."
   ]
  },
  {
   "cell_type": "code",
   "execution_count": null,
   "metadata": {
    "scrolled": true
   },
   "outputs": [],
   "source": [
    "potential_fitting.generate_normal_modes(settings, opt_geo, normal_modes)"
   ]
  },
  {
   "cell_type": "markdown",
   "metadata": {},
   "source": [
    "Uses the optimized geometry specified by opt_geo and the normal modes data file specified by normal_modes to generate a number of 1b configurations in the file specified by configs. dim_null is the return value of the above step."
   ]
  },
  {
   "cell_type": "code",
   "execution_count": null,
   "metadata": {
    "scrolled": false
   },
   "outputs": [],
   "source": [
    "potential_fitting.generate_1b_configurations(settings, opt_geo, normal_modes, train_configs)\n",
    "potential_fitting.generate_1b_configurations(settings, opt_geo, normal_modes, test_configs)"
   ]
  },
  {
   "cell_type": "markdown",
   "metadata": {},
   "source": [
    "This puts the configurations located in the file specified by configs into the database specified by database. It will initialize the database if it does not already exist, if it exists, new configurations will be added from the configs file. Model, basis, and cp to be used to calculate energy are also set at this time as specifed in the settings file. Note that cp (counterpoise correction) has no effect for 1b systems. The second call adds the optimized geometry to the database."
   ]
  },
  {
   "cell_type": "code",
   "execution_count": null,
   "metadata": {
    "scrolled": false
   },
   "outputs": [],
   "source": [
    "potential_fitting.init_database(settings, database, train_configs, tag = \"train\")\n",
    "potential_fitting.init_database(settings, database, opt_geo, tag = \"train\")\n",
    "potential_fitting.init_database(settings, database, test_configs, tag = \"test\")\n",
    "potential_fitting.init_database(settings, database, opt_geo, tag = \"test\")"
   ]
  },
  {
   "cell_type": "markdown",
   "metadata": {},
   "source": [
    "Loops through every uncalculated energy in the database and calculates it. This will take a while depending on what method/basis you use."
   ]
  },
  {
   "cell_type": "code",
   "execution_count": null,
   "metadata": {
    "scrolled": false
   },
   "outputs": [],
   "source": [
    "potential_fitting.fill_database(settings, database)"
   ]
  },
  {
   "cell_type": "markdown",
   "metadata": {},
   "source": [
    "Generates a training set in the file specified by training_set from all \"CO2\" (molecules with the name \"CO2\") energies in the database, additional arguments can be added to prune by method, basis, cp, or tag. If your database contains energies computed with a variety of methods/bases, it is probably a good idea to use only one of them in your training set at a time. The training set contains each configuration's deformation energy. The optimized geometry will have energy 0."
   ]
  },
  {
   "cell_type": "code",
   "execution_count": null,
   "metadata": {},
   "outputs": [],
   "source": [
    "potential_fitting.generate_1b_training_set(settings, database, train_set, \"ethanol\", tag = \"train\")\n",
    "potential_fitting.generate_1b_training_set(settings, database, test_set, \"ethanol\", tag = \"test\")"
   ]
  },
  {
   "cell_type": "markdown",
   "metadata": {},
   "source": [
    "This call generates a polynomial input file based on the symmetry of molecule \"CO2\" in the database, it will be generated in the current working directory"
   ]
  },
  {
   "cell_type": "code",
   "execution_count": 11,
   "metadata": {},
   "outputs": [],
   "source": [
    "potential_fitting.generate_poly_input_from_database(settings, database, \"ethanol\", poly_in)"
   ]
  },
  {
   "cell_type": "markdown",
   "metadata": {},
   "source": [
    "Generate polynomials of degree 3 based on the polynomial input file as specified by poly_in (should be the file created by the above call, will be symmetry as specified in settings file + \".in\" for 1b) in the directory specified by poly_directory"
   ]
  },
  {
   "cell_type": "code",
   "execution_count": 12,
   "metadata": {},
   "outputs": [
    {
     "name": "stdout",
     "output_type": "stream",
     "text": [
      "[[[0, 1, 2, 3, 4, 5, 6, 7, 8], [0, 1, 2, 3, 4, 6, 5, 7, 8], [0, 1, 3, 2, 4, 5, 6, 7, 8], [0, 1, 3, 2, 4, 6, 5, 7, 8], [0, 2, 1, 3, 4, 5, 6, 7, 8], [0, 2, 1, 3, 4, 6, 5, 7, 8], [0, 2, 3, 1, 4, 5, 6, 7, 8], [0, 2, 3, 1, 4, 6, 5, 7, 8], [0, 3, 1, 2, 4, 5, 6, 7, 8], [0, 3, 1, 2, 4, 6, 5, 7, 8], [0, 3, 2, 1, 4, 5, 6, 7, 8], [0, 3, 2, 1, 4, 6, 5, 7, 8]]]\n"
     ]
    }
   ],
   "source": [
    "potential_fitting.generate_polynomials(settings, poly_in, 1, poly_directory)"
   ]
  },
  {
   "cell_type": "markdown",
   "metadata": {},
   "source": [
    "Convert the polynomial maple files in poly_directory into cpp files"
   ]
  },
  {
   "cell_type": "code",
   "execution_count": 13,
   "metadata": {},
   "outputs": [],
   "source": [
    "potential_fitting.execute_maple(settings, poly_directory)"
   ]
  },
  {
   "cell_type": "markdown",
   "metadata": {},
   "source": [
    "Does a qchem calculation to generate the config file containing charges, polarizabilities, etc in the file specified by config based on the molecule symmetry specified by molecule_in (same as polynomial input but without the .in) and the optimized geometry as specified by opt_geo. This will take a while, but should not be effected by your method/basis."
   ]
  },
  {
   "cell_type": "code",
   "execution_count": 14,
   "metadata": {
    "scrolled": true
   },
   "outputs": [],
   "source": [
    "potential_fitting.generate_fit_config(settings, molecule_in, config, opt_geo)"
   ]
  },
  {
   "cell_type": "markdown",
   "metadata": {},
   "source": [
    "Generates the 1b fit code of degree 3 in fit_directory using the config file specified by config, and the polynomial files in poly_directory"
   ]
  },
  {
   "cell_type": "code",
   "execution_count": 17,
   "metadata": {
    "scrolled": false
   },
   "outputs": [
    {
     "name": "stdout",
     "output_type": "stream",
     "text": [
      "Executing python generator script\n"
     ]
    }
   ],
   "source": [
    "potential_fitting.generate_1b_fit_code(settings, config, molecule_in, poly_in, poly_directory, 1, fit_directory)"
   ]
  },
  {
   "cell_type": "markdown",
   "metadata": {},
   "source": [
    "Compile the fit code in fit_directory"
   ]
  },
  {
   "cell_type": "code",
   "execution_count": 18,
   "metadata": {},
   "outputs": [],
   "source": [
    "potential_fitting.compile_fit_code(settings, fit_directory)"
   ]
  },
  {
   "cell_type": "markdown",
   "metadata": {},
   "source": [
    "Generate a fitted .nc file at location \"fit.nc\" using the fit code in fit_directory, the training set as specified by training_set, and the fitcode as specified by fit_directory + \"/fit-1b\"."
   ]
  },
  {
   "cell_type": "code",
   "execution_count": 19,
   "metadata": {
    "scrolled": true
   },
   "outputs": [],
   "source": [
    "potential_fitting.fit_1b_training_set(settings, fit_directory + \"/fit-1b\", train_set, fit_directory, \"fit.nc\")"
   ]
  },
  {
   "cell_type": "code",
   "execution_count": 3,
   "metadata": {},
   "outputs": [
    {
     "name": "stdout",
     "output_type": "stream",
     "text": [
      "-152.1330661979\n",
      "0.030188610300001528\n",
      "0.04554049809999583\n",
      "0.03699839700001917\n",
      "0.016610642500012318\n",
      "0.08830326340000738\n",
      "0.05020412740000779\n",
      "0.06183939589999454\n",
      "0.06272287690001122\n",
      "0.04822704110000586\n",
      "0.03780352699999412\n",
      "0.06897115220002092\n",
      "0.21464193619999605\n",
      "0.056097011199994995\n",
      "0.10853093970001737\n",
      "0.14618142200001216\n",
      "0.04393361410001262\n",
      "0.07483322160001649\n",
      "0.04863826400000448\n",
      "0.0727754073000142\n",
      "0.09640361370000505\n",
      "0.18085809309999945\n",
      "0.11317485410000927\n",
      "0.18229695659999834\n",
      "0.11202215430000706\n",
      "0.13888792029999308\n",
      "0.13561320900001306\n",
      "0.1817897913000195\n",
      "0.15233631300000638\n",
      "0.18508457280000812\n",
      "0.3996590561000062\n",
      "0.46753323030000615\n",
      "0.21841771550001\n",
      "0.2272190579000153\n",
      "0.34765763620001167\n",
      "0.11891785500000651\n",
      "0.5633645117000015\n",
      "0.39655453960000386\n",
      "0.12726984680000442\n",
      "0.27251349720000917\n",
      "0.1428955508999934\n",
      "0.31041153510000186\n",
      "0.6317785694999998\n",
      "0.186810470599994\n",
      "0.18864870600000927\n",
      "0.17507903509999778\n",
      "0.3543153349000079\n",
      "0.21425559819999762\n",
      "0.38694775129999925\n",
      "0.24942747970001733\n",
      "0.3238536588000045\n",
      "0.06307620200001907\n",
      "0.022084344400013833\n",
      "0.041670697100016696\n",
      "0.037260763000006136\n",
      "0.049917777600001045\n",
      "0.04550351000000319\n",
      "0.05897419330000275\n",
      "0.05916727059999971\n",
      "0.03098265180000226\n",
      "0.053497638000010284\n",
      "0.023572285200003762\n",
      "0.022008713800005353\n",
      "0.03161428600000704\n",
      "0.047620440299994016\n",
      "0.06533877680001865\n",
      "0.07964841870000328\n",
      "0.05534030280000479\n",
      "0.11330541090001134\n",
      "0.035513725700013765\n",
      "0.15986956450001344\n",
      "0.0713014213000065\n",
      "0.11983362150002108\n",
      "0.1232812142000057\n",
      "0.07320982560000289\n",
      "0.06246320299999297\n",
      "0.08908999260000883\n",
      "0.12528242850001448\n",
      "0.05998093690001838\n",
      "0.10179220649999365\n",
      "0.18363915360001215\n",
      "0.12107683990001306\n",
      "0.16880809619999582\n",
      "0.11142037460001575\n",
      "0.10958863650000694\n",
      "0.19921495650001475\n",
      "0.117387794300015\n",
      "0.26953527489999374\n",
      "0.13640287550001062\n",
      "0.04392909090000785\n",
      "0.1957086426000103\n",
      "0.11310092010000972\n",
      "0.12393943090000903\n",
      "0.37926003050000645\n",
      "0.13345405169999935\n",
      "0.12413649469999655\n",
      "0.17885683410000297\n",
      "0.3173294960000135\n",
      "0.24288315960001228\n",
      "0.15210670920001235\n",
      "0.1888203954000005\n",
      "0.0\n"
     ]
    },
    {
     "data": {
      "image/png": "[encoded data removed]",
      "text/plain": [
       "<Figure size 432x288 with 1 Axes>"
      ]
     },
     "metadata": {
      "needs_background": "light"
     },
     "output_type": "display_data"
    },
    {
     "data": {
      "image/png": "[encoded data removed]",
      "text/plain": [
       "<Figure size 432x288 with 1 Axes>"
      ]
     },
     "metadata": {
      "needs_background": "light"
     },
     "output_type": "display_data"
    }
   ],
   "source": [
    "potential_fitting.fitting.fit_visualizer.make_1b_graphs(fit_directory + \"/eval-1b\", \"fit.nc\", database, \"ethanol\", \"%\", \"%\", \"%\", \"test\")"
   ]
  },
  {
   "cell_type": "code",
   "execution_count": null,
   "metadata": {},
   "outputs": [],
   "source": []
  }
 ],
 "metadata": {
  "kernelspec": {
   "display_name": "Python 3",
   "language": "python",
   "name": "python3"
  },
  "language_info": {
   "codemirror_mode": {
    "name": "ipython",
    "version": 3
   },
   "file_extension": ".py",
   "mimetype": "text/x-python",
   "name": "python",
   "nbconvert_exporter": "python",
   "pygments_lexer": "ipython3",
   "version": "3.6.6"
  }
 },
 "nbformat": 4,
 "nbformat_minor": 2
}
