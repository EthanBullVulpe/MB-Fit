{
 "cells": [
  {
   "cell_type": "markdown",
   "metadata": {},
   "source": [
    "This block just imports the potential_fitting module."
   ]
  },
  {
   "cell_type": "code",
   "execution_count": 1,
   "metadata": {
    "scrolled": true
   },
   "outputs": [],
   "source": [
    "import potential_fitting"
   ]
  },
  {
   "cell_type": "markdown",
   "metadata": {},
   "source": [
    "Now define filepaths as variables so we don't have to keep retyping strings.\n",
    "Make sure you have nothing of value in any of these files, as all files will be overwritten by certain steps of the workflow except settings, unopt_geo, and database."
   ]
  },
  {
   "cell_type": "code",
   "execution_count": 2,
   "metadata": {},
   "outputs": [],
   "source": [
    "monomer_settings = \"CO2monomer.ini\"\n",
    "unopt_geo = \"CO2.xyz\"\n",
    "opt_geo = \"CO2.opt.xyz\"\n",
    "settings = \"CO2dimer.ini\"\n",
    "train_configs = \"train_configs.xyz\"\n",
    "test_configs = \"test_configs.xyz\"\n",
    "database = \"CO2database.db\"\n",
    "training_set = \"training_set.xyz\"\n",
    "test_set = \"test_set.xyz\"\n",
    "poly_in = \"A1B2_A1B2.in\"\n",
    "molecule_in = \"A1B2_A1B2\"\n",
    "poly_directory = \"poly\"\n",
    "config = \"config.ini\"\n",
    "ttm_directory = \"ttm\"\n",
    "fit_directory = \"fit\"\n",
    "fitted_code = \"fitted\""
   ]
  },
  {
   "cell_type": "markdown",
   "metadata": {},
   "source": [
    "This call creates the log directory as specified in settings.ini:files:log_path.\n",
    "        In the future this will not be necessary, as the code will create any directories before using them."
   ]
  },
  {
   "cell_type": "code",
   "execution_count": 16,
   "metadata": {},
   "outputs": [],
   "source": [
    "potential_fitting.create_dirs(settings)"
   ]
  },
  {
   "cell_type": "markdown",
   "metadata": {},
   "source": [
    "Optimizes the single geometry specified in the file located at the path specifed by unopt_geo and writes the optimized geometry to the file path specified by opt geo. This may take a while depending on what method/basis you use."
   ]
  },
  {
   "cell_type": "code",
   "execution_count": 17,
   "metadata": {
    "scrolled": true
   },
   "outputs": [
    {
     "name": "stdout",
     "output_type": "stream",
     "text": [
      "Beginning geometry optimization using qchem of CO2 with HF/STO-3G/\n",
      "Completed geometry optimization.\n"
     ]
    }
   ],
   "source": [
    "potential_fitting.optimize_geometry(monomer_settings, unopt_geo, opt_geo)"
   ]
  },
  {
   "cell_type": "markdown",
   "metadata": {},
   "source": [
    "Generates 50 rigid 2b configurations from the optimized geometry specified by opt_geo into the xyz file specified by configs"
   ]
  },
  {
   "cell_type": "code",
   "execution_count": 24,
   "metadata": {
    "scrolled": true
   },
   "outputs": [
    {
     "name": "stdout",
     "output_type": "stream",
     "text": [
      "Generated 200 configurations\n",
      "Generated 200 configurations\n"
     ]
    }
   ],
   "source": [
    "potential_fitting.generate_2b_configurations(settings, opt_geo, opt_geo, 200, train_configs)\n",
    "potential_fitting.generate_2b_configurations(settings, opt_geo, opt_geo, 200, test_configs)"
   ]
  },
  {
   "cell_type": "markdown",
   "metadata": {},
   "source": [
    "This puts the configurations located in the file specified by configs into the database specified by database. It will initialize the database if it does not already exist, if it exists, new configurations will be added from the configs file. Model, basis, and cp to be used to calculate energy are also set at this time as specifed in the settings file. Note that cp (counterpoise correction) has no effect for 1b systems. The second call adds the optimized geometry to the database."
   ]
  },
  {
   "cell_type": "code",
   "execution_count": 5,
   "metadata": {
    "scrolled": false
   },
   "outputs": [
    {
     "name": "stdout",
     "output_type": "stream",
     "text": [
      "Initializing database from xyz files in train_configs.xyz directory into database ./CO2database.db\n",
      "Initializing of database ./CO2database.db successful\n",
      "Initializing database from xyz files in CO2.opt.xyz directory into database ./CO2database.db\n",
      "Initializing of database ./CO2database.db successful\n",
      "Initializing database from xyz files in test_configs.xyz directory into database ./CO2database.db\n",
      "Initializing of database ./CO2database.db successful\n",
      "Initializing database from xyz files in CO2.opt.xyz directory into database ./CO2database.db\n",
      "Initializing of database ./CO2database.db successful\n"
     ]
    }
   ],
   "source": [
    "potential_fitting.init_database(settings, database, train_configs, tag = \"train\")\n",
    "potential_fitting.init_database(monomer_settings, database, opt_geo, tag = \"train\")\n",
    "\n",
    "potential_fitting.init_database(settings, database, test_configs, tag = \"test\")\n",
    "potential_fitting.init_database(monomer_settings, database, opt_geo, tag = \"test\")"
   ]
  },
  {
   "cell_type": "code",
   "execution_count": 4,
   "metadata": {},
   "outputs": [],
   "source": [
    "with potential_fitting.database.Database(database) as db:\n",
    "    db.clean()"
   ]
  },
  {
   "cell_type": "markdown",
   "metadata": {},
   "source": [
    "Loops through every uncalculated energy in the database and calculates it. This will take a while depending on what method/basis you use."
   ]
  },
  {
   "cell_type": "code",
   "execution_count": 6,
   "metadata": {
    "scrolled": true
   },
   "outputs": [
    {
     "name": "stdout",
     "output_type": "stream",
     "text": [
      "Filling database CO2database.db\n",
      "     1     2     3     4     5     6     7     8     9    10\n",
      "    11    12    13    14    15    16    17    18    19    20\n",
      "    21    22    23    24    25    26    27    28    29    30\n",
      "    31    32    33    34    35    36    37    38    39    40\n",
      "    41    42    43    44    45    46    47    48    49    50\n",
      "    51    52    53    54    55    56    57    58    59    60\n",
      "    61    62    63    64    65    66    67    68    69    70\n",
      "    71    72    73    74    75    76    77    78    79    80\n",
      "    81    82    83    84    85    86    87    88    89    90\n",
      "    91    92    93    94    95    96    97    98    99   100\n",
      "   101   102   103   104   105   106   107   108   109   110\n",
      "   111   112   113   114   115   116   117   118   119   120\n",
      "   121   122   123   124   125   126   127   128   129   130\n",
      "   131   132   133   134   135   136   137   138   139   140\n",
      "   141   142   143   144   145   146   147   148   149   150\n",
      "   151   152   153   154   155   156   157   158   159   160\n",
      "   161   162   163   164   165   166   167   168   169   170\n",
      "   171   172   173   174   175   176   177   178   179   180\n",
      "   181   182   183   184   185   186   187   188   189   190\n",
      "   191   192   193   194   195   196   197   198   199   200\n",
      "   201   202   203   204   205   206   207   208   209   210\n",
      "   211   212   213   214   215   216   217   218   219   220\n",
      "   221   222   223   224   225   226   227   228   229   230\n",
      "   231   232   233   234   235   236   237   238   239   240\n",
      "   241   242   243   244   245   246   247   248   249   250\n",
      "   251   252   253   254   255   256   257   258   259   260\n",
      "   261   262   263   264   265   266   267   268   269   270\n",
      "   271   272   273   274   275   276   277   278   279   280\n",
      "   281   282   283   284   285   286   287   288   289   290\n",
      "   291   292   293   294   295   296   297   298   299   300\n",
      "   301   302   303   304   305   306   307   308   309   310\n",
      "   311   312   313   314   315   316   317   318   319   320\n",
      "   321   322   323   324   325   326   327   328   329   330\n",
      "   331   332   333   334   335   336   337   338   339   340\n",
      "   341   342   343   344   345   346   347   348   349   350\n",
      "   351   352   353   354   355   356   357   358   359   360\n",
      "   361   362   363   364   365   366   367   368   369   370\n",
      "   371   372   373   374   375   376   377   378   379   380\n",
      "   381   382   383   384   385   386   387   388   389   390\n",
      "   391   392   393   394   395   396   397   398   399   400\n",
      "   401   402   403   404   405   406   407   408   409   410\n",
      "   411   412   413   414   415   416   417   418   419   420\n",
      "   421   422   423   424   425   426   427   428   429   430\n",
      "   431   432   433   434   435   436   437   438   439   440\n",
      "   441   442   443   444   445   446   447   448   449   450\n",
      "   451   452   453   454   455   456   457   458   459   460\n",
      "   461   462   463   464   465   466   467   468   469   470\n",
      "   471   472   473   474   475   476   477   478   479   480\n",
      "   481   482   483   484   485   486   487   488   489   490\n",
      "   491   492   493   494   495   496   497   498   499   500\n",
      "   501   502   503   504   505   506   507   508   509   510\n",
      "   511   512   513   514   515   516   517   518   519   520\n",
      "   521   522   523   524   525   526   527   528   529   530\n",
      "   531   532   533   534   535   536   537   538   539   540\n",
      "   541   542   543   544   545   546   547   548   549   550\n",
      "   551   552   553   554   555   556   557   558   559   560\n",
      "   561   562   563   564   565   566   567   568   569   570\n",
      "   571   572   573   574   575   576   577   578   579   580\n",
      "   581   582\n",
      "Filling of database CO2database.db successful\n"
     ]
    }
   ],
   "source": [
    "potential_fitting.fill_database(settings, database)"
   ]
  },
  {
   "cell_type": "markdown",
   "metadata": {},
   "source": [
    "Generates a training set in the file specified by training_set from all \"CO2-CO2\" (molecules with two fragments each with name \"CO2\") energies in the database, additional arguments can be added to prune by method, basis, cp, or tag. If your database contains energies computed with a variety of methods/bases, it is probably a good idea to use only one of them in your training set at a time. The training set contains each configuration's deformation energy. The optimized geometry will have energy 0."
   ]
  },
  {
   "cell_type": "code",
   "execution_count": 9,
   "metadata": {},
   "outputs": [
    {
     "name": "stdout",
     "output_type": "stream",
     "text": [
      "Creating a fitting input file from database CO2database.db into file ./training_set.xyz\n",
      "Creating a fitting input file from database CO2database.db into file ./test_set.xyz\n"
     ]
    }
   ],
   "source": [
    "potential_fitting.generate_2b_training_set(settings, database, training_set, \"CO2\", \"CO2\", tag = \"train\")\n",
    "potential_fitting.generate_2b_training_set(settings, database, test_set, \"CO2\", \"CO2\", tag = \"test\")"
   ]
  },
  {
   "cell_type": "markdown",
   "metadata": {},
   "source": [
    "This call generates a polynomial input file based on the symmetry of molecule \"CO2\" in the database, it will be generated in the current working directory"
   ]
  },
  {
   "cell_type": "code",
   "execution_count": 10,
   "metadata": {
    "scrolled": true
   },
   "outputs": [],
   "source": [
    "potential_fitting.generate_poly_input_from_database(settings, database, \"CO2-CO2\", \".\")"
   ]
  },
  {
   "cell_type": "markdown",
   "metadata": {},
   "source": [
    "Generate polynomials of degree 3 based on the polynomial input file as specified by poly_in (should be the file created by the above call, will be symmetry as specified in settings file + \".in\" for 1b) in the directory specified by poly_directory"
   ]
  },
  {
   "cell_type": "code",
   "execution_count": 4,
   "metadata": {},
   "outputs": [],
   "source": [
    "potential_fitting.generate_polynomials(settings, poly_in, 3, poly_directory)"
   ]
  },
  {
   "cell_type": "markdown",
   "metadata": {},
   "source": [
    "Convert the polynomial maple files in poly_directory into cpp files"
   ]
  },
  {
   "cell_type": "code",
   "execution_count": 5,
   "metadata": {},
   "outputs": [],
   "source": [
    "potential_fitting.execute_maple(settings, poly_directory)"
   ]
  },
  {
   "cell_type": "markdown",
   "metadata": {},
   "source": [
    "Does a qchem calculation to generate the config file containing charges, polarizabilities, etc in the file specified by config based on the molecule symmetry specified by molecule_in (same as polynomial input but without the .in) and the optimized geometry as specified by opt_geo. This will take a while, but should not be effected by your method/basis."
   ]
  },
  {
   "cell_type": "code",
   "execution_count": 6,
   "metadata": {
    "scrolled": true
   },
   "outputs": [],
   "source": [
    "potential_fitting.generate_fit_config(settings, molecule_in, config, opt_geo, opt_geo)"
   ]
  },
  {
   "cell_type": "markdown",
   "metadata": {},
   "source": [
    "Generates the 2b TTM fit code of degree 3 in fit_directory using the config file specified by config, and the polynomial files in poly_directory"
   ]
  },
  {
   "cell_type": "code",
   "execution_count": 7,
   "metadata": {
    "scrolled": false
   },
   "outputs": [],
   "source": [
    "potential_fitting.generate_2b_ttm_fit_code(settings, config, molecule_in, ttm_directory)"
   ]
  },
  {
   "cell_type": "markdown",
   "metadata": {},
   "source": [
    "Compile the fit code in fit_directory"
   ]
  },
  {
   "cell_type": "code",
   "execution_count": 8,
   "metadata": {},
   "outputs": [],
   "source": [
    "potential_fitting.compile_fit_code(settings, ttm_directory)"
   ]
  },
  {
   "cell_type": "markdown",
   "metadata": {},
   "source": [
    "Generate a fitted .nc file at location \"fit.nc\" using the fit code in fit_directory, the training set as specified by training_set, and the fitcode as specified by fit_directory + \"/fit-1b\"."
   ]
  },
  {
   "cell_type": "code",
   "execution_count": 9,
   "metadata": {},
   "outputs": [
    {
     "name": "stdout",
     "output_type": "stream",
     "text": [
      "completed fit with rmsd 0.0990591\n",
      "current best fit has rmsd 0.0990591\n",
      "completed fit with rmsd 0.0990591\n",
      "current best fit has rmsd 0.0990591\n",
      "completed fit with rmsd 0.129697\n",
      "current best fit has rmsd 0.0990591\n",
      "completed fit with rmsd 0.0990591\n",
      "current best fit has rmsd 0.0990591\n",
      "completed fit with rmsd 0.0990591\n",
      "current best fit has rmsd 0.0990591\n",
      "completed fit with rmsd 0.0990591\n",
      "current best fit has rmsd 0.0990591\n",
      "completed fit with rmsd 0.103368\n",
      "current best fit has rmsd 0.0990591\n",
      "completed fit with rmsd 0.129692\n",
      "current best fit has rmsd 0.0990591\n",
      "completed fit with rmsd 0.0990591\n",
      "current best fit has rmsd 0.0990591\n"
     ]
    }
   ],
   "source": [
    "potential_fitting.fit_2b_ttm_training_set(settings, ttm_directory + \"/fit-2b-ttm\", training_set, ttm_directory, config)"
   ]
  },
  {
   "cell_type": "code",
   "execution_count": 10,
   "metadata": {
    "scrolled": false
   },
   "outputs": [
    {
     "name": "stdout",
     "output_type": "stream",
     "text": [
      "Executing python generator script\n"
     ]
    }
   ],
   "source": [
    "potential_fitting.generate_2b_fit_code(settings, config, poly_in, poly_directory, 2, fit_directory)"
   ]
  },
  {
   "cell_type": "code",
   "execution_count": 11,
   "metadata": {},
   "outputs": [],
   "source": [
    "potential_fitting.compile_fit_code(settings, fit_directory)"
   ]
  },
  {
   "cell_type": "code",
   "execution_count": 12,
   "metadata": {},
   "outputs": [],
   "source": [
    "potential_fitting.fit_2b_training_set(settings, fit_directory + \"/fit-2b\", training_set, fit_directory, \"fitted.nc\")"
   ]
  },
  {
   "cell_type": "code",
   "execution_count": 23,
   "metadata": {
    "scrolled": true
   },
   "outputs": [
    {
     "ename": "KeyboardInterrupt",
     "evalue": "",
     "output_type": "error",
     "traceback": [
      "\u001b[0;31m---------------------------------------------------------------------------\u001b[0m",
      "\u001b[0;31mKeyboardInterrupt\u001b[0m                         Traceback (most recent call last)",
      "\u001b[0;32m<ipython-input-23-a166b53ef6c5>\u001b[0m in \u001b[0;36m<module>\u001b[0;34m()\u001b[0m\n\u001b[1;32m      1\u001b[0m \u001b[0mget_ipython\u001b[0m\u001b[0;34m(\u001b[0m\u001b[0;34m)\u001b[0m\u001b[0;34m.\u001b[0m\u001b[0mrun_line_magic\u001b[0m\u001b[0;34m(\u001b[0m\u001b[0;34m'matplotlib'\u001b[0m\u001b[0;34m,\u001b[0m \u001b[0;34m'inline'\u001b[0m\u001b[0;34m)\u001b[0m\u001b[0;34m\u001b[0m\u001b[0m\n\u001b[0;32m----> 2\u001b[0;31m \u001b[0mpotential_fitting\u001b[0m\u001b[0;34m.\u001b[0m\u001b[0mfitting\u001b[0m\u001b[0;34m.\u001b[0m\u001b[0mfit_visualizer\u001b[0m\u001b[0;34m.\u001b[0m\u001b[0mcompare_energies\u001b[0m\u001b[0;34m(\u001b[0m\u001b[0;34m\"ttm/eval-2b-ttm\"\u001b[0m\u001b[0;34m,\u001b[0m \u001b[0;34m\"ttm/ttm-params.txt\"\u001b[0m\u001b[0;34m,\u001b[0m \u001b[0;34m\"fit/eval-2b\"\u001b[0m\u001b[0;34m,\u001b[0m \u001b[0;34m\"fitted.nc\"\u001b[0m\u001b[0;34m,\u001b[0m \u001b[0mdatabase\u001b[0m\u001b[0;34m,\u001b[0m \u001b[0;34m\"CO2\"\u001b[0m\u001b[0;34m,\u001b[0m \u001b[0;34m\"CO2\"\u001b[0m\u001b[0;34m,\u001b[0m \u001b[0;34m\"%\"\u001b[0m\u001b[0;34m,\u001b[0m \u001b[0;34m\"%\"\u001b[0m\u001b[0;34m,\u001b[0m \u001b[0;34m\"%\"\u001b[0m\u001b[0;34m,\u001b[0m \u001b[0;34m\"test\"\u001b[0m\u001b[0;34m)\u001b[0m\u001b[0;34m\u001b[0m\u001b[0m\n\u001b[0m",
      "\u001b[0;32m~/potential_fitting/potential_fitting/fitting/fit_visualizer.py\u001b[0m in \u001b[0;36mcompare_energies\u001b[0;34m(file_path_TTM, file_path_TTM_params, file_path_MB, file_path_MB_params, db_name, monomer1_name, monomer2_name, method, basis, cp, tag, threshold)\u001b[0m\n\u001b[1;32m     50\u001b[0m             \u001b[0mttm\u001b[0m \u001b[0;34m+=\u001b[0m \u001b[0;34m[\u001b[0m\u001b[0mfloat\u001b[0m\u001b[0;34m(\u001b[0m\u001b[0mresult_ttm\u001b[0m\u001b[0;34m.\u001b[0m\u001b[0mstdout\u001b[0m\u001b[0;34m.\u001b[0m\u001b[0msplit\u001b[0m\u001b[0;34m(\u001b[0m\u001b[0;34m)\u001b[0m\u001b[0;34m[\u001b[0m\u001b[0;36m2\u001b[0m\u001b[0;34m]\u001b[0m\u001b[0;34m)\u001b[0m\u001b[0;34m]\u001b[0m\u001b[0;34m\u001b[0m\u001b[0m\n\u001b[1;32m     51\u001b[0m \u001b[0;34m\u001b[0m\u001b[0m\n\u001b[0;32m---> 52\u001b[0;31m             \u001b[0mresult_mb\u001b[0m \u001b[0;34m=\u001b[0m \u001b[0msubprocess\u001b[0m\u001b[0;34m.\u001b[0m\u001b[0mrun\u001b[0m\u001b[0;34m(\u001b[0m\u001b[0;34m[\u001b[0m\u001b[0mfile_path_MB\u001b[0m\u001b[0;34m,\u001b[0m \u001b[0mfile_path_MB_params\u001b[0m\u001b[0;34m,\u001b[0m \u001b[0;34m\"file1.txt\"\u001b[0m\u001b[0;34m]\u001b[0m\u001b[0;34m,\u001b[0m \u001b[0mstdout\u001b[0m\u001b[0;34m=\u001b[0m\u001b[0msubprocess\u001b[0m\u001b[0;34m.\u001b[0m\u001b[0mPIPE\u001b[0m\u001b[0;34m)\u001b[0m\u001b[0;34m\u001b[0m\u001b[0m\n\u001b[0m\u001b[1;32m     53\u001b[0m \u001b[0;34m\u001b[0m\u001b[0m\n\u001b[1;32m     54\u001b[0m             \u001b[0mmb\u001b[0m \u001b[0;34m+=\u001b[0m \u001b[0;34m[\u001b[0m\u001b[0mfloat\u001b[0m\u001b[0;34m(\u001b[0m\u001b[0mresult_mb\u001b[0m\u001b[0;34m.\u001b[0m\u001b[0mstdout\u001b[0m\u001b[0;34m.\u001b[0m\u001b[0msplit\u001b[0m\u001b[0;34m(\u001b[0m\u001b[0;34m)\u001b[0m\u001b[0;34m[\u001b[0m\u001b[0;36m2\u001b[0m\u001b[0;34m]\u001b[0m\u001b[0;34m)\u001b[0m\u001b[0;34m]\u001b[0m\u001b[0;34m\u001b[0m\u001b[0m\n",
      "\u001b[0;32m~/anaconda3/envs/psi4dev/lib/python3.6/subprocess.py\u001b[0m in \u001b[0;36mrun\u001b[0;34m(input, timeout, check, *popenargs, **kwargs)\u001b[0m\n\u001b[1;32m    403\u001b[0m     \u001b[0;32mwith\u001b[0m \u001b[0mPopen\u001b[0m\u001b[0;34m(\u001b[0m\u001b[0;34m*\u001b[0m\u001b[0mpopenargs\u001b[0m\u001b[0;34m,\u001b[0m \u001b[0;34m**\u001b[0m\u001b[0mkwargs\u001b[0m\u001b[0;34m)\u001b[0m \u001b[0;32mas\u001b[0m \u001b[0mprocess\u001b[0m\u001b[0;34m:\u001b[0m\u001b[0;34m\u001b[0m\u001b[0m\n\u001b[1;32m    404\u001b[0m         \u001b[0;32mtry\u001b[0m\u001b[0;34m:\u001b[0m\u001b[0;34m\u001b[0m\u001b[0m\n\u001b[0;32m--> 405\u001b[0;31m             \u001b[0mstdout\u001b[0m\u001b[0;34m,\u001b[0m \u001b[0mstderr\u001b[0m \u001b[0;34m=\u001b[0m \u001b[0mprocess\u001b[0m\u001b[0;34m.\u001b[0m\u001b[0mcommunicate\u001b[0m\u001b[0;34m(\u001b[0m\u001b[0minput\u001b[0m\u001b[0;34m,\u001b[0m \u001b[0mtimeout\u001b[0m\u001b[0;34m=\u001b[0m\u001b[0mtimeout\u001b[0m\u001b[0;34m)\u001b[0m\u001b[0;34m\u001b[0m\u001b[0m\n\u001b[0m\u001b[1;32m    406\u001b[0m         \u001b[0;32mexcept\u001b[0m \u001b[0mTimeoutExpired\u001b[0m\u001b[0;34m:\u001b[0m\u001b[0;34m\u001b[0m\u001b[0m\n\u001b[1;32m    407\u001b[0m             \u001b[0mprocess\u001b[0m\u001b[0;34m.\u001b[0m\u001b[0mkill\u001b[0m\u001b[0;34m(\u001b[0m\u001b[0;34m)\u001b[0m\u001b[0;34m\u001b[0m\u001b[0m\n",
      "\u001b[0;32m~/anaconda3/envs/psi4dev/lib/python3.6/subprocess.py\u001b[0m in \u001b[0;36mcommunicate\u001b[0;34m(self, input, timeout)\u001b[0m\n\u001b[1;32m    828\u001b[0m                 \u001b[0mself\u001b[0m\u001b[0;34m.\u001b[0m\u001b[0m_stdin_write\u001b[0m\u001b[0;34m(\u001b[0m\u001b[0minput\u001b[0m\u001b[0;34m)\u001b[0m\u001b[0;34m\u001b[0m\u001b[0m\n\u001b[1;32m    829\u001b[0m             \u001b[0;32melif\u001b[0m \u001b[0mself\u001b[0m\u001b[0;34m.\u001b[0m\u001b[0mstdout\u001b[0m\u001b[0;34m:\u001b[0m\u001b[0;34m\u001b[0m\u001b[0m\n\u001b[0;32m--> 830\u001b[0;31m                 \u001b[0mstdout\u001b[0m \u001b[0;34m=\u001b[0m \u001b[0mself\u001b[0m\u001b[0;34m.\u001b[0m\u001b[0mstdout\u001b[0m\u001b[0;34m.\u001b[0m\u001b[0mread\u001b[0m\u001b[0;34m(\u001b[0m\u001b[0;34m)\u001b[0m\u001b[0;34m\u001b[0m\u001b[0m\n\u001b[0m\u001b[1;32m    831\u001b[0m                 \u001b[0mself\u001b[0m\u001b[0;34m.\u001b[0m\u001b[0mstdout\u001b[0m\u001b[0;34m.\u001b[0m\u001b[0mclose\u001b[0m\u001b[0;34m(\u001b[0m\u001b[0;34m)\u001b[0m\u001b[0;34m\u001b[0m\u001b[0m\n\u001b[1;32m    832\u001b[0m             \u001b[0;32melif\u001b[0m \u001b[0mself\u001b[0m\u001b[0;34m.\u001b[0m\u001b[0mstderr\u001b[0m\u001b[0;34m:\u001b[0m\u001b[0;34m\u001b[0m\u001b[0m\n",
      "\u001b[0;31mKeyboardInterrupt\u001b[0m: "
     ]
    }
   ],
   "source": [
    "%matplotlib inline\n",
    "potential_fitting.fitting.fit_visualizer.compare_energies(\"ttm/eval-2b-ttm\", \"ttm/ttm-params.txt\", \"fit/eval-2b\", \"fitted.nc\", database, \"CO2\", \"CO2\", \"%\", \"%\", \"%\", \"test\")"
   ]
  },
  {
   "cell_type": "code",
   "execution_count": null,
   "metadata": {},
   "outputs": [],
   "source": []
  }
 ],
 "metadata": {
  "kernelspec": {
   "display_name": "Python 3",
   "language": "python",
   "name": "python3"
  },
  "language_info": {
   "codemirror_mode": {
    "name": "ipython",
    "version": 3
   },
   "file_extension": ".py",
   "mimetype": "text/x-python",
   "name": "python",
   "nbconvert_exporter": "python",
   "pygments_lexer": "ipython3",
   "version": "3.6.6"
  }
 },
 "nbformat": 4,
 "nbformat_minor": 2
}
