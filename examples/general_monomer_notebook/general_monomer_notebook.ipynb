{
 "cells": [
  {
   "cell_type": "markdown",
   "metadata": {},
   "source": [
    "# Guide to obtain a one-body PEF\n",
    "## 1. Define and set variables"
   ]
  },
  {
   "cell_type": "markdown",
   "metadata": {},
   "source": [
    "### 1.1. Import the python library\n",
    "Remember that in order to import the library without any errors, you need to perform the following operations in the bash terminal from which you are running the notebook. If you didn't do it, please, close the notebook and write in a bash terminal:\n",
    "```sh\n",
    "cd HOME/DIRECTORY/OF/POTENTIAL_FITTING\n",
    "source install.sh\n",
    "```\n",
    "Now the following command should run without any problem."
   ]
  },
  {
   "cell_type": "code",
   "execution_count": null,
   "metadata": {
    "collapsed": true,
    "scrolled": false
   },
   "outputs": [],
   "source": [
    "import potential_fitting"
   ]
  },
  {
   "cell_type": "markdown",
   "metadata": {},
   "source": [
    "### 1.2. Define variables and filepaths"
   ]
  },
  {
   "cell_type": "markdown",
   "metadata": {},
   "source": [
    "The working directory is the path where the files should be. If they are not in the working directory, the full path to the file should be provided."
   ]
  },
  {
   "cell_type": "markdown",
   "metadata": {},
   "source": [
    "#### Files that will be read by the code"
   ]
  },
  {
   "cell_type": "markdown",
   "metadata": {},
   "source": [
    "Settings files contain the information regarding the level of theory at which calculations should be performed, and information about the symmetry. The settings files has five different sections:"
   ]
  },
  {
   "cell_type": "markdown",
   "metadata": {},
   "source": [
    "- First section is unnamed, and corresponds to the `log_path` variable, which specifies the folder that will be used to dump all the logfiles, outputs, and so on."
   ]
  },
  {
   "cell_type": "markdown",
   "metadata": {},
   "source": [
    "- Second section corresponds to the settings for the generation of the configurations that will be used in the training and test sets. It is names as `[config_generator]`, and it contains several variables that need to be set:\n",
    "  * `code = ####` specifies the software that will be used to perform the optimization and the normal mode calculation. The optimized geometry and the frequencies will be used to generate configurations for the training set. **Available options are: **\n",
    "    + `code = qchem` [See manual here](http://www.q-chem.com/qchem-website/manual/qchem50_manual/index.html)\n",
    "    + `code = psi4` [See manual here](http://www.psicode.org/psi4manual/1.2/index.html)\n",
    "  * `method = ####` specifies the level of theory at which these calculations will be performed. This method can be anything that the quantum chemistry (QC) package that is being used supports. **Some common options are:**\n",
    "    + `method = HF` to perform a fast test\n",
    "    + `method = wb97m-v` to use density functional theory (DFT) with the wB97M-V functional (this option is a good compromise between accuracy and cost)\n",
    "    + `method = CCSD(T)` for highly accurate calculations, but the cost becomes unnafordable in a standard machine if the molecule contains more than 6-7 heavy atoms.\n",
    "  * `basis = ####` will specify the basis set for the calculation. The larger the basis set, the better the accuracy. Again, any basis set supported by the QC package will be accepted here. **Some options are:**\n",
    "    + `basis = STO-3G` is the minimal basis set. It is used for testing purposes, but the results should not be trusted.\n",
    "    + `basis = cc-pvNz`, with `n = d,t,q,5` is a good option if your molecule does not have a big electronic cloud. The larger the N, the more expensive it becomes.\n",
    "    + `basis = aug-cc-pvNz` is similar to the previous ones, but they contain diffuse functions to allow a better description of the electronic cloud. If possible, consider using these ones.\n",
    "  * `random = ####` specifies which type of sequence is going to be used when generating monomer distortions. **Two options are available:** \n",
    "    + **DOUBLE CHECK THIS!! Which one gives the same configs and which not?** `random = Q` will use a quasirandom sequence to obtain the displacements along the normal modes.\n",
    "    + `random = P` will use a pseudorandom sequence to obtain the displacements along the normal modes.\n",
    "  * `geometric = True/False` and `linear = True/False` will define which kind of progression for the temperature and the normal mode coordinates we use. **One, and only one, must be True.** **NOTE: WHAT IS GEOMETRIC AND WHAT IS LINEAR?**\n",
    "  "
   ]
  },
  {
   "cell_type": "markdown",
   "metadata": {},
   "source": [
    "- Third section corresponds to the energy calculation settings, labeled as `[energy_calculator]`. The code, method and basis must be specified again. The optimization and normal modes calculation can be performed at a different level of theory than the energy evaluation. **The recommendation is to use the same settings**, but is up to the user to do it so. Thus, the options that need to be specified in this section are:\n",
    "  + `code = ####` has been previously explained.\n",
    "  + `method = ####` has been previously explained.\n",
    "  + `basis = ####` has been previously explained.\n",
    "  + `cp = True/False` will define if, in case is applicable (two-body and three-body calculations), the counter-poise correction will be used or not. When the basis set is relatively small (6-31g, cc-pvdz, ...), there might be an artificial interaction between the molecules. Sometimes, using basis functions from the one monomer to describe the electrons of the other monomer stabilizes the energy, yielding a false larger interaction energy. It is possible to remove this effect, but the calculation will acquire a higher cost."
   ]
  },
  {
   "cell_type": "markdown",
   "metadata": {},
   "source": [
    "- The two next sections correspond to the computational details of the QC package. As for today, the sections are `[qchem]` and `[psi4]`, with the following keywords:\n",
    "  + `memory = ####` will set the memory (RAM memory) to reserve for the calculation. For DFT, 2 or 4 GB (`memory = 4GB`) should be enough. If we want CCSD(T) calculations, we might have to increase it to 8 or 16 GB.\n",
    "  + `num_threads = ####` will set the number of cores to use in the calculation."
   ]
  },
  {
   "cell_type": "markdown",
   "metadata": {},
   "source": [
    "- The last section contains information about the system we are fitting such as the name of the monomers, number of atoms...\n",
    "  + `names = ####` will define the **name** we want to give to the monomers. If we have N monomers, we need N names separated by commas. The name can be anything, but it should be enough to identify which monomer is which. For example, `names = A,B` is a valid entry for a dimer, but a poor choice for remembering which monomer is A and which is B. If we have a amonium cation -- water dimer, a good choice would be `names = NH4+, H2O`.\n",
    "  + `fragments = ####` will define the **number of atoms** that each monomer has. It must be a positive integer, and if there is more than one monomer, should be separated by commas. **The order here must be the same as the order in `names`**.\n",
    "  + `charges = ####` will define the charge of each monomer. If there is more than one monomer, should be separated by commas. **The order here must be the same as the order in `names`**.\n",
    "  + `spins = ####` will define the spin multiplicity (`S = 0.5 * s + 1)`, where `s` is the number of unpaired electrons) of each monomer. If there is more than one monomer, should be separated by commas. **The order here must be the same as the order in `names`**.\n",
    "  + `tag = ####` specifice a tag that will be added to the configurations in the database. **Set it at `tag = none` if no tag is needed**.\n",
    "  + `symmetry = ####` requires the atom identity for the monomers. Some examples are `symmetry = A1B4` for methane monomer, `symmetry = A1B2,A1B2` for a CO2 dimer, `symmetry = A6B6,C1D2` for a benzene -- water dimer without lone pairs, and `symmetry = A1B2Z2,C1D2` for a H2O -- SO2 dimer with lone pairs. The rules are the following:\n",
    "    * Symmetry names must be written in capital letters and start with A for the first atom of the first monomer. Any new atom type will be assigned the next letter of the alphabet.\n",
    "    * Exchangable atoms must have the same label, even if they are in different molecules.\n",
    "    * As for today, no more than 9 atoms of the same atom type is accepted.\n",
    "    * If there are virtual sites such as lone pairs that will play a role in the polynomials, they must be labels with letters X, Y, or Z."
   ]
  },
  {
   "cell_type": "code",
   "execution_count": null,
   "metadata": {
    "collapsed": true
   },
   "outputs": [],
   "source": [
    "# Settings for monomer\n",
    "mon_settings = \"monomer_settings.ini\""
   ]
  },
  {
   "cell_type": "markdown",
   "metadata": {},
   "source": [
    "Unoptimized geometries of the two monomers are inputed as an [XYZ formatted file](https://en.wikipedia.org/wiki/XYZ_file_format). "
   ]
  },
  {
   "cell_type": "code",
   "execution_count": null,
   "metadata": {
    "collapsed": true
   },
   "outputs": [],
   "source": [
    "# XYZ file that contains the unoptimized geommetry of monomer\n",
    "unopt_mon = \"monomer.xyz\""
   ]
  },
  {
   "cell_type": "markdown",
   "metadata": {},
   "source": [
    "#### Files that will be written by the code"
   ]
  },
  {
   "cell_type": "markdown",
   "metadata": {},
   "source": [
    "Optimized geommetries of the two monomers are outputed as an [XYZ formatted file](https://en.wikipedia.org/wiki/XYZ_file_format). **As for today, 12/11/2018, the file must end in `.opt.xyz`**"
   ]
  },
  {
   "cell_type": "code",
   "execution_count": null,
   "metadata": {
    "collapsed": true
   },
   "outputs": [],
   "source": [
    "# XYZ file that contains the optimized geommetry of monomer 1\n",
    "opt_mon = unopt_mon.split(\".xyz\")[0] + \".opt.xyz\"\n",
    "\n",
    "# File to store the normal modes\n",
    "normal_modes = \"monomer_normal_modes.dat\""
   ]
  },
  {
   "cell_type": "markdown",
   "metadata": {},
   "source": [
    "Training and test set files. The `training configs` and `test_configs` files will contain the configurations generated by the training set generation functions. Only the geometry (i.e., the coordinates of all atoms for each configuration) will be stored in those files. Later on, we will calculate the energies for each of these configurations, and create the files in the format that will be inputed to the fitting code. These new files are going to be defined in `training_set` and `test_set`. The coordinates in these files will be the same as in the initial `training configs` and `test_configs`, but now the comment line will be filled with the energies needed by the fitting code."
   ]
  },
  {
   "cell_type": "code",
   "execution_count": null,
   "metadata": {
    "collapsed": true
   },
   "outputs": [],
   "source": [
    "# XYZ file with the configurations of the training set\n",
    "training_configs = \"training_configs.xyz\"\n",
    "\n",
    "# XYZ file with the configurations of the test set\n",
    "test_configs = \"test_configs.xyz\"\n",
    "\n",
    "# XYZ file with the training set that the codes need to perform the fit\n",
    "# Configurations are the same as training_configs but this file\n",
    "# has the energies in the comment line\n",
    "training_set = \"training_set.xyz\"\n",
    "\n",
    "# XYZ file with the test set that the codes need to perform the fit\n",
    "# Configurations are the same as test_configs but this file\n",
    "# has the energies in the comment line \n",
    "test_set = \"test_set.xyz\""
   ]
  },
  {
   "cell_type": "markdown",
   "metadata": {},
   "source": [
    "The information about the training, test, energies... is stored in an `SQLite` database. You can gather more information [here](https://www.sqlite.org/index.html). In principle there is no need to interact with this database, since everything is automatized, but you might want to retrieve some information at some point."
   ]
  },
  {
   "cell_type": "code",
   "execution_count": null,
   "metadata": {
    "collapsed": true
   },
   "outputs": [],
   "source": [
    "# SQLite database that stores structures and energies\n",
    "database = \"database.db\""
   ]
  },
  {
   "cell_type": "markdown",
   "metadata": {},
   "source": [
    "These files will be used by the polynomial generation functions. \n",
    "- `poly_in` is the name of the file that will contain all the information about the polynomials: distances, variables, filters... Later on, once it is created, extra filters can be added. How to add them will be explained later in the tutorial.\n",
    "- `molecule_in` is the symmetry name of your system. It must match the symmetry specified in the settings file, and must follow the same rules. If you are fitting a system larger than a monomer (two-body, three-body...), this is the monomer names separated by an underscore (`_`). As an example, for a CO2 dimer, `molecule_in = A1B2_A1B2`, while for a NH4+ -- H2O dimer, `molecule_in = A1B4_C1D2`.\n",
    "- `poly_directory` is the folder that will be created and will contain all the polynomial files generated.\n",
    "- `config` is the name that the file containing all the chemical and physical information about monomers such as charges, C6 coefficients, polarizabilities... It will be generated by the code.\n",
    "- `polynomial_order` specifies the maximum order of the polynomials. "
   ]
  },
  {
   "cell_type": "code",
   "execution_count": null,
   "metadata": {
    "collapsed": true
   },
   "outputs": [],
   "source": [
    "# Input file for the polynomial generation\n",
    "poly_in = \"poly.in\"\n",
    "\n",
    "# Monomers 1 and 2 separated by '_'\n",
    "molecule_in = \"A1B4\"\n",
    "\n",
    "# Directory where the polynomials will be generated\n",
    "poly_directory = \"polynomial_generation\"\n",
    "\n",
    "# Configuration file that contains all the monomer \n",
    "# and dimer information. Will be used to generate the 2B codes.\n",
    "config = \"config.ini\"\n",
    "\n",
    "# Degree of the polynomials\n",
    "polynomial_order = 2"
   ]
  },
  {
   "cell_type": "markdown",
   "metadata": {},
   "source": [
    "#### Directories for the different sections"
   ]
  },
  {
   "cell_type": "markdown",
   "metadata": {},
   "source": [
    "These variables specify the directories where the fitting code for each type of PEF is going to be created.\n",
    "- `mbnrg_directory` will contain the code that fits MB-nrg PEFs for the system specified.\n",
    "- `results_prefix` is the prefix that the final output files for the mb-nrg fit will have."
   ]
  },
  {
   "cell_type": "code",
   "execution_count": null,
   "metadata": {
    "collapsed": true
   },
   "outputs": [],
   "source": [
    "# Directory where mb-nrg fitting code will be stored\n",
    "mbnrg_directory = \"mb-nrg_fit\"\n",
    "\n",
    "# Prefix for mb-nrg output files\n",
    "results_prefix = \"mb-nrg\""
   ]
  },
  {
   "cell_type": "markdown",
   "metadata": {},
   "source": [
    "#### Multiple variables that will be used later"
   ]
  },
  {
   "cell_type": "code",
   "execution_count": null,
   "metadata": {
    "collapsed": true
   },
   "outputs": [],
   "source": [
    "# Number of configurations in the 2b training_set\n",
    "num_training_configs = 128\n",
    "\n",
    "# Number of configurations in the 2b test set\n",
    "num_test_configs = 48\n",
    "\n",
    "# Name of monomer\n",
    "mon_name = \"NH4+\"\n",
    "\n",
    "# Id of the monomer\n",
    "mon_id = \"nh4+\""
   ]
  },
  {
   "cell_type": "markdown",
   "metadata": {},
   "source": [
    "## 2. Monomer geometry optimization"
   ]
  },
  {
   "cell_type": "markdown",
   "metadata": {},
   "source": [
    "Performs a geometry optimization of the monomer at the level of theory specified in `settings.ini`. **Before running these commands** please make sure that the specifications in the sections `[config_generator]` and `[molecule]` of the corresponding `settings.ini` file are correct and consistent."
   ]
  },
  {
   "cell_type": "code",
   "execution_count": null,
   "metadata": {},
   "outputs": [],
   "source": [
    "# Optimize monomer\n",
    "potential_fitting.optimize_geometry(mon_settings, unopt_mon, opt_mon)"
   ]
  },
  {
   "cell_type": "code",
   "execution_count": null,
   "metadata": {},
   "outputs": [],
   "source": [
    "# Obtain normal modes\n",
    "potential_fitting.generate_normal_modes(mon_settings,opt_mon,normal_modes)"
   ]
  },
  {
   "cell_type": "markdown",
   "metadata": {},
   "source": [
    "## 3. Rigid training and test set generation"
   ]
  },
  {
   "cell_type": "markdown",
   "metadata": {},
   "source": [
    "### 3.1. Configuration generation"
   ]
  },
  {
   "cell_type": "markdown",
   "metadata": {},
   "source": [
    "Generates one-body configurations using the optimized geommetry previously calculated and the normal modes. The configurations that we have generated will be stored in an XYZ formatted file with the names we have previously given."
   ]
  },
  {
   "cell_type": "code",
   "execution_count": null,
   "metadata": {},
   "outputs": [],
   "source": [
    "# Training Set\n",
    "potential_fitting.generate_1b_configurations(mon_settings, opt_mon, normal_modes, training_configs, seed = 3)"
   ]
  },
  {
   "cell_type": "code",
   "execution_count": null,
   "metadata": {
    "scrolled": true
   },
   "outputs": [],
   "source": [
    "# Test Set\n",
    "potential_fitting.generate_1b_configurations(mon_settings, opt_mon, normal_modes, test_configs, seed = 2)"
   ]
  },
  {
   "cell_type": "markdown",
   "metadata": {},
   "source": [
    "### 3.2. Add configurations to the database"
   ]
  },
  {
   "cell_type": "markdown",
   "metadata": {},
   "source": [
    "The configurations generated in the previous step will be added to the database. **This step will only add the configurations, not calculate the energy**. If the datatabase does not exist, it will be initialized. If it does exist, new configurations, if they are not already there, will be added."
   ]
  },
  {
   "cell_type": "code",
   "execution_count": null,
   "metadata": {},
   "outputs": [],
   "source": [
    "# Add monomer training set configurations\n",
    "potential_fitting.init_database(mon_settings, database, training_configs, tag = \"training\")\n",
    "\n",
    "# Add monomer optimized geommetry\n",
    "potential_fitting.init_database(mon_settings, database, opt_mon, tag = \"training\")"
   ]
  },
  {
   "cell_type": "code",
   "execution_count": null,
   "metadata": {},
   "outputs": [],
   "source": [
    "# Add monomer training set configurations\n",
    "potential_fitting.init_database(mon_settings, database, training_configs, tag = \"test\")\n",
    "\n",
    "# Add monomer optimized geommetry\n",
    "potential_fitting.init_database(mon_settings, database, opt_mon, tag = \"test\")"
   ]
  },
  {
   "cell_type": "markdown",
   "metadata": {},
   "source": [
    "### 3.3. Calculate energy"
   ]
  },
  {
   "cell_type": "markdown",
   "metadata": {},
   "source": [
    "Loops through every uncalculated energy in the database and calculates it. This will take a while depending on what method/basis you use."
   ]
  },
  {
   "cell_type": "code",
   "execution_count": null,
   "metadata": {
    "scrolled": true
   },
   "outputs": [],
   "source": [
    "potential_fitting.fill_database(mon_settings, database)"
   ]
  },
  {
   "cell_type": "markdown",
   "metadata": {},
   "source": [
    "### 3.4. Training set and Test set generation"
   ]
  },
  {
   "cell_type": "markdown",
   "metadata": {},
   "source": [
    "Generates the training set file in the format that will be needed in the fitting codes. If your database contains energies computed with a variety of methods/basis, **only one method and basis can be used in the same training set**. The format of the training set is the same as the configurations generated for the training set in previous steps. The difference is that now, the comment line will have the binding, interaction, and one body energies of that configuration."
   ]
  },
  {
   "cell_type": "code",
   "execution_count": null,
   "metadata": {},
   "outputs": [],
   "source": [
    "# Generate training set\n",
    "potential_fitting.generate_1b_training_set(mon_settings, database, training_set, mon_name, tag = \"training\")\n",
    "\n",
    "# Generate test set\n",
    "potential_fitting.generate_1b_training_set(mon_settings, database, test_set, mon_name, tag = \"test\")"
   ]
  },
  {
   "cell_type": "markdown",
   "metadata": {},
   "source": [
    "## 4. Generate polynomial files"
   ]
  },
  {
   "cell_type": "markdown",
   "metadata": {},
   "source": [
    "### 4.1. Generate polynomial input file"
   ]
  },
  {
   "cell_type": "markdown",
   "metadata": {},
   "source": [
    "This call generates a polynomial input file based on the symmetry of the dimer specified. \n",
    "\n",
    "*Note. Write some more info and doc for the input. Filters by default, new filters that can be added...*"
   ]
  },
  {
   "cell_type": "code",
   "execution_count": null,
   "metadata": {
    "collapsed": true,
    "scrolled": true
   },
   "outputs": [],
   "source": [
    "potential_fitting.generate_poly_input_from_database(mon_settings, database, mon_name, poly_in)"
   ]
  },
  {
   "cell_type": "markdown",
   "metadata": {},
   "source": [
    "### 4.2. Generate maple input files"
   ]
  },
  {
   "cell_type": "markdown",
   "metadata": {},
   "source": [
    "Generate polynomials of the degree specified at the beginning, based on the polynomial input file that we have generated in the previous step."
   ]
  },
  {
   "cell_type": "code",
   "execution_count": null,
   "metadata": {},
   "outputs": [],
   "source": [
    "potential_fitting.generate_polynomials(mon_settings, poly_in, polynomial_order, poly_directory)"
   ]
  },
  {
   "cell_type": "markdown",
   "metadata": {},
   "source": [
    "### 4.3. Optimize the polynomial evaluation"
   ]
  },
  {
   "cell_type": "markdown",
   "metadata": {},
   "source": [
    "The maple input files define the non optimized polynomials. The polynomials can sometimes be large, and **Maple** is able to optimize them to perform the minimum number of floating point operations (FLOPs). It will output three different files. One with non-optimized polynomials, one with optimized polynomials with gradient evaluation, and one without gradient evaluation."
   ]
  },
  {
   "cell_type": "code",
   "execution_count": null,
   "metadata": {
    "collapsed": true
   },
   "outputs": [],
   "source": [
    "potential_fitting.execute_maple(mon_settings, poly_directory)"
   ]
  },
  {
   "cell_type": "markdown",
   "metadata": {},
   "source": [
    "## 5. Obtain monomer and dimer properties"
   ]
  },
  {
   "cell_type": "markdown",
   "metadata": {},
   "source": [
    "In order to perform the fit, charges, polarizabilities, C6, and other properties of the dimer have to be calculated. This is done, for now, with the software **QChem**. This instruction will compute these properties for you. The predefined basis set and method is wb97m-v/avtz. This step can take a long time if the molecule is large.\n",
    "\n",
    "After the calculation is completed, all the information needed for the fits (both MB-nrg and TTM-nrg) will be added in the configuration file specified at the beggining."
   ]
  },
  {
   "cell_type": "code",
   "execution_count": null,
   "metadata": {
    "collapsed": true,
    "scrolled": true
   },
   "outputs": [],
   "source": [
    "potential_fitting.generate_fit_config(mon_settings, molecule_in, config, opt_mon)"
   ]
  },
  {
   "cell_type": "markdown",
   "metadata": {},
   "source": [
    "## 6. MB-nrg fit"
   ]
  },
  {
   "cell_type": "markdown",
   "metadata": {},
   "source": [
    "### 6.1. Obtain and compile the fitting code"
   ]
  },
  {
   "cell_type": "markdown",
   "metadata": {},
   "source": [
    "Using the TTM-nrg parameters obtained previously, we will generate a similar code for the two-body MB-nrg fit."
   ]
  },
  {
   "cell_type": "code",
   "execution_count": null,
   "metadata": {
    "scrolled": false
   },
   "outputs": [],
   "source": [
    "potential_fitting.generate_1b_fit_code(mon_settings, config, molecule_in, poly_in, poly_directory, polynomial_order, mbnrg_directory)"
   ]
  },
  {
   "cell_type": "markdown",
   "metadata": {},
   "source": [
    "And we compile it."
   ]
  },
  {
   "cell_type": "code",
   "execution_count": null,
   "metadata": {
    "collapsed": true
   },
   "outputs": [],
   "source": [
    "potential_fitting.compile_fit_code(mon_settings, mbnrg_directory)"
   ]
  },
  {
   "cell_type": "markdown",
   "metadata": {},
   "source": [
    "### 6.2. Perform the fit"
   ]
  },
  {
   "cell_type": "markdown",
   "metadata": {},
   "source": [
    "We perform **(multiple?)** fits, keep the best one, and keep those results."
   ]
  },
  {
   "cell_type": "code",
   "execution_count": null,
   "metadata": {
    "collapsed": true
   },
   "outputs": [],
   "source": [
    "potential_fitting.fit_1b_training_set(mon_settings, mbnrg_directory + \"/fit-1b\", training_set, mbnrg_directory, results_prefix + \".nc\")"
   ]
  },
  {
   "cell_type": "markdown",
   "metadata": {},
   "source": [
    "## 7. Visualize the results"
   ]
  },
  {
   "cell_type": "markdown",
   "metadata": {},
   "source": [
    "Finally, we can plot the correlation plots for the training and test sets, along with the error, using this helper function."
   ]
  },
  {
   "cell_type": "code",
   "execution_count": null,
   "metadata": {
    "scrolled": true
   },
   "outputs": [],
   "source": [
    "%matplotlib inline\n",
    "potential_fitting.fitting.fit_visualizer.make_1b_graphs(mbnrg_directory + \"/eval-1b\", results_prefix + \".nc\", database, mon_name, \"%\", \"%\", \"%\", \"test\")"
   ]
  },
  {
   "cell_type": "markdown",
   "metadata": {
    "collapsed": true
   },
   "source": [
    "## 8. Generate files for Clusters Ultimate"
   ]
  },
  {
   "cell_type": "markdown",
   "metadata": {},
   "source": [
    "Finally, we generate the files that will be needed to add this PEF to Clusters_Ultimate, the energy software. In order to do it, clone the master branch of [Clusters_Ultimate](https://github.com/paesanilab/clusters_ultimate) in the [paesanilab github page](https://github.com/paesanilab) and follow the instructions in the README."
   ]
  },
  {
   "cell_type": "code",
   "execution_count": null,
   "metadata": {},
   "outputs": [],
   "source": [
    "potential_fitting.fitting.generate_software_files_1b(mon_settings, molecule_in, poly_directory, polynomial_order, mbnrg_directory,config,\"fit-1b.cdl\",mon_id)"
   ]
  }
 ],
 "metadata": {
  "kernelspec": {
   "display_name": "Python 3",
   "language": "python",
   "name": "python3"
  },
  "language_info": {
   "codemirror_mode": {
    "name": "ipython",
    "version": 3
   },
   "file_extension": ".py",
   "mimetype": "text/x-python",
   "name": "python",
   "nbconvert_exporter": "python",
   "pygments_lexer": "ipython3",
   "version": "3.6.1"
  }
 },
 "nbformat": 4,
 "nbformat_minor": 2
}
