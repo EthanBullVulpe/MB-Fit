{
 "cells": [
  {
   "cell_type": "markdown",
   "metadata": {},
   "source": [
    "# Guide to obtain a one-body PEF\n",
    "## 1. Define and set variables"
   ]
  },
  {
   "cell_type": "markdown",
   "metadata": {},
   "source": [
    "<p style=\"color:red;\">Note: This notebook has been updated as of 05/07/2019 to work with the new postgres database. In order to help users migrate their notebooks to the new format, we have made notes in RED where this notebook has been changed.</p>"
   ]
  },
  {
   "cell_type": "markdown",
   "metadata": {},
   "source": [
    "### 1.1. Import the python library\n",
    "Remember that in order to import the library without any errors, you need to perform the following operations in the bash terminal from which you are running the notebook. If you didn't do it, please, close the notebook and write in a bash terminal:\n",
    "```sh\n",
    "cd HOME/DIRECTORY/OF/POTENTIAL_FITTING\n",
    "source install.sh\n",
    "```\n",
    "Now the following command should run without any problem."
   ]
  },
  {
   "cell_type": "code",
   "execution_count": 2,
   "metadata": {
    "scrolled": true
   },
   "outputs": [],
   "source": [
    "import potential_fitting"
   ]
  },
  {
   "cell_type": "code",
   "execution_count": 3,
   "metadata": {},
   "outputs": [],
   "source": [
    "%load_ext autoreload\n",
    "%autoreload 2"
   ]
  },
  {
   "cell_type": "markdown",
   "metadata": {},
   "source": [
    "### 1.2. Define variables and filepaths"
   ]
  },
  {
   "cell_type": "markdown",
   "metadata": {},
   "source": [
    "The working directory is the path where the files should be. If they are not in the working directory, the full path to the file should be provided."
   ]
  },
  {
   "cell_type": "markdown",
   "metadata": {},
   "source": [
    "#### Files that will be read by the code"
   ]
  },
  {
   "cell_type": "markdown",
   "metadata": {},
   "source": [
    "Settings files contain the information regarding the level of theory at which calculations should be performed, and information about the symmetry. The settings files has five different sections:"
   ]
  },
  {
   "cell_type": "markdown",
   "metadata": {},
   "source": [
    "- First section is named `[files]`, and has only the `log_path` variable, which specifies the folder that will be used to dump all the logfiles, outputs, and so on."
   ]
  },
  {
   "cell_type": "markdown",
   "metadata": {},
   "source": [
    "<p style=\"color:red;\">Note: method, basis, and cp are no longer specified in the `.ini` file for config_generator. These parameters will now be passed directly into the geometry optimization and normal modes generation function.</p>\n",
    "- Second section corresponds to the settings for the generation of the configurations that will be used in the training and test sets. It is names as `[config_generator]`, and it contains several variables that need to be set:\n",
    "  * `code = ####` specifies the software that will be used to perform the optimization and the normal mode calculation. The optimized geometry and the frequencies will be used to generate configurations for the training set. **Available options are: **\n",
    "    + `code = qchem` [See manual here](http://www.q-chem.com/qchem-website/manual/qchem50_manual/index.html)\n",
    "    + `code = psi4` [See manual here](http://www.psicode.org/psi4manual/1.2/index.html)\n",
    "  * `random = ####` specifies which type of sequence is going to be used when generating monomer distortions. **Two options are available:** \n",
    "    + **DOUBLE CHECK THIS!! Which one gives the same configs and which not?** `random = Q` will use a quasirandom sequence to obtain the displacements along the normal modes.\n",
    "    + `random = P` will use a pseudorandom sequence to obtain the displacements along the normal modes.\n",
    "  * `geometric = True/False` and `linear = True/False` will define which kind of progression for the temperature and the normal mode coordinates we use. **One, and only one, must be True.** **NOTE: WHAT IS GEOMETRIC AND WHAT IS LINEAR?**\n",
    "  "
   ]
  },
  {
   "cell_type": "markdown",
   "metadata": {},
   "source": [
    "<p style=\"color:red;\">Note: method, basis, and cp are no longer specified in the `.ini` file for energy_calculation. These parameters will now be passed directly into the init_database function.</p>\n",
    "- Third section corresponds to the energy calculation settings, labeled as `[energy_calculator]`. The code must be specified again, and can be different than in the `[config_generator]` section. Thus, the options that need to be specified in this section are:\n",
    "  + `code = ####` has been previously explained."
   ]
  },
  {
   "cell_type": "markdown",
   "metadata": {},
   "source": [
    "- The two next sections correspond to the computational details of the QC package. As for today, the sections are `[qchem]` and `[psi4]`, with the following keywords:\n",
    "  + `memory = ####` will set the memory (RAM memory) to reserve for the calculation. For DFT, 2 or 4 GB (`memory = 4GB`) should be enough. If we want CCSD(T) calculations, we might have to increase it to 8 or 16 GB.\n",
    "  + `num_threads = ####` will set the number of cores to use in the calculation.\n",
    "- Memory and num_threads in the `[psi4]` section go for psi4, and the same of qchem."
   ]
  },
  {
   "cell_type": "markdown",
   "metadata": {},
   "source": [
    "- The last section contains information about the system we are fitting such as the name of the monomers, number of atoms...\n",
    "  + `names = ####` will define the **name** we want to give to the monomers. If we have N monomers, we need N names separated by commas. The name can be anything, but it should be enough to identify which monomer is which. For example, `names = A,B` is a valid entry for a dimer, but a poor choice for remembering which monomer is A and which is B. If we have a amonium cation -- water dimer, a good choice would be `names = NH4+, H2O`.\n",
    "  + `fragments = ####` will define the **number of atoms** that each monomer has. It must be a positive integer, and if there is more than one monomer, should be separated by commas. **The order here must be the same as the order in `names`**.\n",
    "  + `charges = ####` will define the charge of each monomer. If there is more than one monomer, should be separated by commas. **The order here must be the same as the order in `names`**.\n",
    "  + `spins = ####` will define the spin multiplicity (`S = 0.5 * s + 1)`, where `s` is the number of unpaired electrons) of each monomer. If there is more than one monomer, should be separated by commas. **The order here must be the same as the order in `names`**.\n",
    "  + `tag = ####` specifice a tag that will be added to the configurations in the database. **Set it at `tag = none` if no tag is needed**.\n",
    "  + `symmetry = ####` requires the atom identity for the monomers. Some examples are `symmetry = A1B4` for methane monomer, `symmetry = A1B2,A1B2` for a CO2 dimer, `symmetry = A6B6,C1D2` for a benzene -- water dimer without lone pairs, and `symmetry = A1B2Z2,C1D2` for a H2O -- SO2 dimer with lone pairs. The rules are the following:\n",
    "    * Symmetry names must be written in capital letters and start with A for the first atom of the first monomer. Any new atom type will be assigned the next letter of the alphabet.\n",
    "    * Exchangable atoms must have the same label, even if they are in different molecules.\n",
    "    * As for today, no more than 9 atoms of the same atom type is accepted.\n",
    "    * If there are virtual sites such as lone pairs that will play a role in the polynomials, they must be labels with letters X, Y, or Z."
   ]
  },
  {
   "cell_type": "markdown",
   "metadata": {},
   "source": [
    "Below, the variables method, basis, and cp describe what model to use for geometry optization, normal modes generation, and energy calculation."
   ]
  },
  {
   "cell_type": "code",
   "execution_count": 4,
   "metadata": {},
   "outputs": [],
   "source": [
    "# Settings for monomer\n",
    "mon_settings = \"monomer_settings.ini\"\n",
    "method = \"HF\"\n",
    "basis = \"STO-3G\"\n",
    "cp = False"
   ]
  },
  {
   "cell_type": "markdown",
   "metadata": {},
   "source": [
    "Unoptimized geometries of the two monomers are inputed as an [XYZ formatted file](https://en.wikipedia.org/wiki/XYZ_file_format). "
   ]
  },
  {
   "cell_type": "code",
   "execution_count": 5,
   "metadata": {},
   "outputs": [],
   "source": [
    "# XYZ file that contains the unoptimized geommetry of monomer\n",
    "unopt_mon = \"monomer.xyz\""
   ]
  },
  {
   "cell_type": "markdown",
   "metadata": {},
   "source": [
    "#### Files that will be written by the code"
   ]
  },
  {
   "cell_type": "markdown",
   "metadata": {},
   "source": [
    "<p style=\"color:red;\">Note: the optimized .xyz file no longer must end with `.opt.xyz`. However it is not a problem if it does.</p>\n",
    "Optimized geommetries of the two monomers are outputed as an [XYZ formatted file](https://en.wikipedia.org/wiki/XYZ_file_format)."
   ]
  },
  {
   "cell_type": "code",
   "execution_count": 6,
   "metadata": {},
   "outputs": [],
   "source": [
    "# XYZ file that contains the optimized geommetry of monomer 1\n",
    "opt_mon = unopt_mon.split(\".xyz\")[0] + \".opt.xyz\"\n",
    "\n",
    "# File to store the normal modes\n",
    "normal_modes = \"monomer_normal_modes.dat\""
   ]
  },
  {
   "cell_type": "markdown",
   "metadata": {},
   "source": [
    "Training and test set files. The `training configs` and `test_configs` files will contain the configurations generated by the training set generation functions. Only the geometry (i.e., the coordinates of all atoms for each configuration) will be stored in those files. Later on, we will calculate the energies for each of these configurations, and create the files in the format that will be inputed to the fitting code. These new files are going to be defined in `training_set` and `test_set`. The coordinates in these files will be the same as in the initial `training configs` and `test_configs`, but now the comment line will be filled with the energies needed by the fitting code."
   ]
  },
  {
   "cell_type": "code",
   "execution_count": 7,
   "metadata": {},
   "outputs": [],
   "source": [
    "# XYZ file with the configurations of the training set\n",
    "training_configs = \"training_configs.xyz\"\n",
    "\n",
    "# XYZ file with the configurations of the test set\n",
    "test_configs = \"test_configs.xyz\"\n",
    "\n",
    "# XYZ file with the training set that the codes need to perform the fit\n",
    "# Configurations are the same as training_configs but this file\n",
    "# has the energies in the comment line\n",
    "training_set = \"training_set.xyz\"\n",
    "\n",
    "# XYZ file with the test set that the codes need to perform the fit\n",
    "# Configurations are the same as test_configs but this file\n",
    "# has the energies in the comment line \n",
    "test_set = \"test_set.xyz\""
   ]
  },
  {
   "cell_type": "markdown",
   "metadata": {},
   "source": [
    "The information about the training, test, energies... is stored in an `PostgreSQL` database.  In principle there is no need to interact with this database, since everything is automatized, but you might want to retrieve some information at some point.\n",
    "<p style=\"color:red;\">Note: the parameter `database` has been removed, as the PostgreSQL database is not saved locally. Instead, it is hosted remotely. You now must include a database_config `.ini` file with the information needed to login to the database. Also, the client_name parameter is new.</p>\n",
    "\n",
    "The database_config `.ini` file should contain one section `[database]` with 5 properties:\n",
    "* `host`: The address of the server where the database is hosted.\n",
    "* `port`: The port used to connect to the database.\n",
    "* `database`: The name of the database.\n",
    "* `username`: Your username to connect to the database.\n",
    "* `password`: Your password to connect to the database.\n",
    "\n",
    "For now use these parameters:\n",
    "\n",
    "* `host`: piggy.pl.ucsd.edu\n",
    "* `port`: 5432\n",
    "* `database`: potential_fitting\n",
    "* `username`: potential_fitting\n",
    "* `password`: Please contact Ethan or Kaushik for the password.\n",
    "\n",
    "The username potential_fitting was established as a general username that anyone who only needs basic access to the database can use. Alternatively, each user has their own username and password you can use. For most of you, this should be the same as your ucsd email prefix and password.\n",
    "\n",
    "The file database.ini does not exist in the git repo, so you will have to create a file and update the variable below to be its filepath. For some reason, python doesn't like it when you use `~` to specify your home directory, so provide a relateive or absolute path instead. It is recommended that you create the file in your home directory.\n",
    "\n",
    "<h3 style=\"color:red;\">Make sure only you have read access to this file using the chmod command or else anyone on our fileserver will be able to see your password and <b>PLEASE DO NOT ACCIDENTALLY COMMIT A FILE CONTAINING YOUR PASSWORD VIA GIT!</b></h3>\n",
    "\n",
    "cleint_name is used in the database to track what machines performed what calculations. Please use something that indicates where you are running the calculations."
   ]
  },
  {
   "cell_type": "code",
   "execution_count": 8,
   "metadata": {},
   "outputs": [],
   "source": [
    "# PostgreSQL database that stores structures and energies\n",
    "database_config = \"database.ini\"\n",
    "client_name = \"motzu the survivor\""
   ]
  },
  {
   "cell_type": "markdown",
   "metadata": {},
   "source": [
    "These files will be used by the polynomial generation functions. \n",
    "- `poly_in` is the name of the file that will contain all the information about the polynomials: distances, variables, filters... Later on, once it is created, extra filters can be added. How to add them will be explained later in the tutorial.\n",
    "- `molecule_in` is the symmetry name of your system. It must match the symmetry specified in the settings file, and must follow the same rules. If you are fitting a system larger than a monomer (two-body, three-body...), this is the monomer names separated by an underscore (`_`). As an example, for a CO2 dimer, `molecule_in = A1B2_A1B2`, while for a NH4+ -- H2O dimer, `molecule_in = A1B4_C1D2`.\n",
    "- `poly_directory` is the folder that will be created and will contain all the polynomial files generated.\n",
    "- `config` is the name that the file containing all the chemical and physical information about monomers such as charges, C6 coefficients, polarizabilities... It will be generated by the code.\n",
    "- `polynomial_order` specifies the maximum order of the polynomials. "
   ]
  },
  {
   "cell_type": "code",
   "execution_count": 9,
   "metadata": {},
   "outputs": [],
   "source": [
    "# Input file for the polynomial generation\n",
    "poly_in = \"poly.in\"\n",
    "\n",
    "# Monomers 1 and 2 separated by '_'\n",
    "molecule_in = \"A4B1\"\n",
    "\n",
    "# Directory where the polynomials will be generated\n",
    "poly_directory = \"polynomial_generation\"\n",
    "\n",
    "# Configuration file that contains all the monomer \n",
    "# and dimer information. Will be used to generate the 2B codes.\n",
    "config = \"config.ini\"\n",
    "\n",
    "# Degree of the polynomials\n",
    "polynomial_order = 2"
   ]
  },
  {
   "cell_type": "markdown",
   "metadata": {},
   "source": [
    "#### Directories for the different sections"
   ]
  },
  {
   "cell_type": "markdown",
   "metadata": {},
   "source": [
    "These variables specify the directories where the fitting code for each type of PEF is going to be created.\n",
    "- `mbnrg_directory` will contain the code that fits MB-nrg PEFs for the system specified.\n",
    "- `results_prefix` is the prefix that the final output files for the mb-nrg fit will have."
   ]
  },
  {
   "cell_type": "code",
   "execution_count": 10,
   "metadata": {},
   "outputs": [],
   "source": [
    "# Directory where mb-nrg fitting code will be stored\n",
    "mbnrg_directory = \"mb-nrg_fit\"\n",
    "\n",
    "# Prefix for mb-nrg output files\n",
    "results_prefix = \"mb-nrg\""
   ]
  },
  {
   "cell_type": "markdown",
   "metadata": {},
   "source": [
    "#### Multiple variables that will be used later"
   ]
  },
  {
   "cell_type": "code",
   "execution_count": 11,
   "metadata": {},
   "outputs": [],
   "source": [
    "# Number of configurations in the 2b training_set\n",
    "num_training_configs = 100\n",
    "\n",
    "# Number of configurations in the 2b test set\n",
    "num_test_configs = 50\n",
    "\n",
    "# Seed for training\n",
    "seed_training = 2\n",
    "\n",
    "# Seed for test\n",
    "seed_test = 3\n",
    "\n",
    "# Number of MB-nrg fits to perform\n",
    "num_fits = 20\n",
    "\n",
    "# Name of monomer\n",
    "mon_name = \"NH4+\"\n",
    "\n",
    "# Id of the monomer\n",
    "mon_id = \"nh4+\""
   ]
  },
  {
   "cell_type": "markdown",
   "metadata": {},
   "source": [
    "## 2. Monomer geometry optimization"
   ]
  },
  {
   "cell_type": "markdown",
   "metadata": {},
   "source": [
    "Performs a geometry optimization of the monomer at the level of theory specified in `settings.ini`. **Before running these commands** please make sure that the specifications in the sections `[config_generator]` and `[molecule]` of the corresponding `settings.ini` file are correct and consistent."
   ]
  },
  {
   "cell_type": "code",
   "execution_count": 12,
   "metadata": {
    "scrolled": true
   },
   "outputs": [
    {
     "name": "stdout",
     "output_type": "stream",
     "text": [
      "Beginning geometry optimization using qchem of NH4+ with HF/STO-3G.\n",
      "Completed geometry optimization.\n",
      "File ./monomer.opt.xyz already exists, moving existing ./monomer.opt.xyz to ./monomer.opt.xyz.backup-1 to make way for new file.\n"
     ]
    }
   ],
   "source": [
    "# Optimize monomer\n",
    "potential_fitting.optimize_geometry(mon_settings, unopt_mon, opt_mon, method, basis)"
   ]
  },
  {
   "cell_type": "code",
   "execution_count": 13,
   "metadata": {},
   "outputs": [
    {
     "name": "stdout",
     "output_type": "stream",
     "text": [
      "Beginning normal modes calculation of NH4+ with HF/STO-3G.\n",
      "Normal mode/frequency analysis complete. 9 normal modes found\n"
     ]
    },
    {
     "data": {
      "text/plain": [
       "6"
      ]
     },
     "execution_count": 13,
     "metadata": {},
     "output_type": "execute_result"
    }
   ],
   "source": [
    "# Obtain normal modes\n",
    "potential_fitting.generate_normal_modes(mon_settings, opt_mon, normal_modes, method, basis)"
   ]
  },
  {
   "cell_type": "markdown",
   "metadata": {},
   "source": [
    "## 3. Rigid training and test set generation"
   ]
  },
  {
   "cell_type": "markdown",
   "metadata": {},
   "source": [
    "### 3.1. Configuration generation"
   ]
  },
  {
   "cell_type": "markdown",
   "metadata": {},
   "source": [
    "Generates one-body configurations using the optimized geommetry previously calculated and the normal modes. The configurations that we have generated will be stored in an XYZ formatted file with the names we have previously given."
   ]
  },
  {
   "cell_type": "code",
   "execution_count": 15,
   "metadata": {},
   "outputs": [
    {
     "name": "stdout",
     "output_type": "stream",
     "text": [
      "Parsing normal mode input file.\n",
      "Completed parsing normal modes input file.\n",
      "Running normal distribution configuration generator...\n",
      "Normal Distribution Configuration generation complete.\n"
     ]
    }
   ],
   "source": [
    "# Training Set\n",
    "potential_fitting.generate_normal_mode_configurations(mon_settings, opt_mon, normal_modes, training_configs, num_training_configs, seed_training)"
   ]
  },
  {
   "cell_type": "code",
   "execution_count": 16,
   "metadata": {
    "scrolled": true
   },
   "outputs": [
    {
     "name": "stdout",
     "output_type": "stream",
     "text": [
      "Parsing normal mode input file.\n",
      "Completed parsing normal modes input file.\n",
      "Running normal distribution configuration generator...\n",
      "Normal Distribution Configuration generation complete.\n"
     ]
    }
   ],
   "source": [
    "# Test Set\n",
    "potential_fitting.generate_normal_mode_configurations(mon_settings, opt_mon, normal_modes, test_configs, num_test_configs, seed_test)"
   ]
  },
  {
   "cell_type": "markdown",
   "metadata": {},
   "source": [
    "### 3.2. Add configurations to the database"
   ]
  },
  {
   "cell_type": "markdown",
   "metadata": {},
   "source": [
    "The configurations generated in the previous step will be added to the database. **This step will only add the configurations, not calculate the energy**.\n",
    "\n",
    "<p style=\"color:red;\">Note: the arguments for the init_database function have changed. The method, basis, and cp are now specified here instead of in mon_settings. Additionally, the database filepath argument has been exchanged for the database_config. Also, instead of specifying tags as a keyword argument, it is specified after cp, multiple tags may be included. The argument optimized has been added. If true, all geometries in the config file will be considered optimized geometries.</p>\n",
    "\n",
    "The method, basis, and cp need not be the same as used for the geometry optimization. The optimization and normal modes calculation can be performed at a different level of theory than the energy evaluation. **The recommendation is to use the same settings**, but is up to the user to do it so.\n",
    "\n",
    "`cp = True/False` will define if, in case it is applicable (two-body and three-body calculations), the counter-poise correction will be used or not. When the basis set is relatively small (6-31g, cc-pvdz, ...), there might be an artificial interaction between the molecules. Sometimes, using basis functions from the one monomer to describe the electrons of the other monomer stabilizes the energy, yielding a false larger interaction energy. It is possible to remove this effect, but the calculation will acquire a higher cost."
   ]
  },
  {
   "cell_type": "code",
   "execution_count": 22,
   "metadata": {
    "scrolled": true
   },
   "outputs": [
    {
     "name": "stdout",
     "output_type": "stream",
     "text": [
      "Initializing database from xyz file training_configs.xyz directory into database.\n",
      "Initializing of database successful.\n",
      "Initializing database from xyz file monomer.opt.xyz directory into database.\n",
      "Initializing of database successful.\n"
     ]
    }
   ],
   "source": [
    "# Add monomer training set configurations\n",
    "potential_fitting.init_database(mon_settings, database_config, training_configs, method, basis, cp, \"training\", optimized = False)\n",
    "\n",
    "# Add monomer optimized geommetry in training set\n",
    "potential_fitting.init_database(mon_settings, database_config, opt_mon, method, basis, cp, \"training\", optimized = True)"
   ]
  },
  {
   "cell_type": "code",
   "execution_count": 23,
   "metadata": {
    "scrolled": false
   },
   "outputs": [
    {
     "name": "stdout",
     "output_type": "stream",
     "text": [
      "Initializing database from xyz file test_configs.xyz directory into database.\n",
      "Initializing of database successful.\n",
      "Initializing database from xyz file monomer.opt.xyz directory into database.\n",
      "Initializing of database successful.\n"
     ]
    }
   ],
   "source": [
    "# Add monomer test set configurations\n",
    "potential_fitting.init_database(mon_settings, database_config, test_configs, method, basis, cp, \"test\", optimized = False)\n",
    "\n",
    "# Add monomer optimized geommetry in test set (needed to get BE)\n",
    "potential_fitting.init_database(mon_settings, database_config, opt_mon, method, basis, cp, \"test\", optimized = True)"
   ]
  },
  {
   "cell_type": "markdown",
   "metadata": {},
   "source": [
    "### 3.3. Calculate energy"
   ]
  },
  {
   "cell_type": "markdown",
   "metadata": {},
   "source": [
    "Loops through every uncalculated energy in the database and calculates it. This will take a while depending on what method/basis you use.\n",
    "<p style=\"color:red;\">Note: the arguments for the fill_database function have changed. The database filepath argument has been exchanged for the database_config. Additionally, the client_name must now be specified. If desired, there is an optional argument calculation_count, when set to an integer, it limits the number of calculations to perform.</p>"
   ]
  },
  {
   "cell_type": "code",
   "execution_count": 25,
   "metadata": {
    "scrolled": true
   },
   "outputs": [
    {
     "name": "stdout",
     "output_type": "stream",
     "text": [
      "Filling database.\n",
      "     1Beginning energy calculation of NH4+ with model HF/STO-3G and cp = False\n",
      "Successfully completed energy calculation.\n",
      "     2Beginning energy calculation of NH4+ with model HF/STO-3G and cp = False\n",
      "Successfully completed energy calculation.\n",
      "     3Beginning energy calculation of NH4+ with model HF/STO-3G and cp = False\n",
      "Successfully completed energy calculation.\n",
      "     4Beginning energy calculation of NH4+ with model HF/STO-3G and cp = False\n",
      "Successfully completed energy calculation.\n",
      "     5Beginning energy calculation of NH4+ with model HF/STO-3G and cp = False\n",
      "Successfully completed energy calculation.\n",
      "     6Beginning energy calculation of NH4+ with model HF/STO-3G and cp = False\n",
      "Successfully completed energy calculation.\n",
      "     7Beginning energy calculation of NH4+ with model HF/STO-3G and cp = False\n",
      "Successfully completed energy calculation.\n",
      "     8Beginning energy calculation of NH4+ with model HF/STO-3G and cp = False\n",
      "Successfully completed energy calculation.\n",
      "     9Beginning energy calculation of NH4+ with model HF/STO-3G and cp = False\n",
      "Successfully completed energy calculation.\n",
      "    10\n",
      "Beginning energy calculation of NH4+ with model HF/STO-3G and cp = False\n",
      "Successfully completed energy calculation.\n",
      "    11Beginning energy calculation of NH4+ with model HF/STO-3G and cp = False\n",
      "Successfully completed energy calculation.\n",
      "    12Beginning energy calculation of NH4+ with model HF/STO-3G and cp = False\n",
      "Successfully completed energy calculation.\n",
      "    13Beginning energy calculation of NH4+ with model HF/STO-3G and cp = False\n",
      "Successfully completed energy calculation.\n",
      "    14Beginning energy calculation of NH4+ with model HF/STO-3G and cp = False\n",
      "Successfully completed energy calculation.\n",
      "    15Beginning energy calculation of NH4+ with model HF/STO-3G and cp = False\n",
      "Successfully completed energy calculation.\n",
      "    16Beginning energy calculation of NH4+ with model HF/STO-3G and cp = False\n",
      "Successfully completed energy calculation.\n",
      "    17Beginning energy calculation of NH4+ with model HF/STO-3G and cp = False\n",
      "Successfully completed energy calculation.\n",
      "    18Beginning energy calculation of NH4+ with model HF/STO-3G and cp = False\n",
      "Successfully completed energy calculation.\n",
      "    19Beginning energy calculation of NH4+ with model HF/STO-3G and cp = False\n",
      "Successfully completed energy calculation.\n",
      "    20\n",
      "Beginning energy calculation of NH4+ with model HF/STO-3G and cp = False\n",
      "Successfully completed energy calculation.\n",
      "    21Beginning energy calculation of NH4+ with model HF/STO-3G and cp = False\n",
      "Successfully completed energy calculation.\n",
      "    22Beginning energy calculation of NH4+ with model HF/STO-3G and cp = False\n",
      "Successfully completed energy calculation.\n",
      "    23Beginning energy calculation of NH4+ with model HF/STO-3G and cp = False\n",
      "Successfully completed energy calculation.\n",
      "    24Beginning energy calculation of NH4+ with model HF/STO-3G and cp = False\n",
      "Successfully completed energy calculation.\n",
      "    25Beginning energy calculation of NH4+ with model HF/STO-3G and cp = False\n",
      "Successfully completed energy calculation.\n",
      "    26Beginning energy calculation of NH4+ with model HF/STO-3G and cp = False\n",
      "Successfully completed energy calculation.\n",
      "    27Beginning energy calculation of NH4+ with model HF/STO-3G and cp = False\n",
      "Successfully completed energy calculation.\n",
      "    28Beginning energy calculation of NH4+ with model HF/STO-3G and cp = False\n",
      "Successfully completed energy calculation.\n",
      "    29Beginning energy calculation of NH4+ with model HF/STO-3G and cp = False\n",
      "Successfully completed energy calculation.\n",
      "    30\n",
      "Beginning energy calculation of NH4+ with model HF/STO-3G and cp = False\n",
      "Successfully completed energy calculation.\n",
      "    31Beginning energy calculation of NH4+ with model HF/STO-3G and cp = False\n",
      "Successfully completed energy calculation.\n",
      "    32Beginning energy calculation of NH4+ with model HF/STO-3G and cp = False\n",
      "Successfully completed energy calculation.\n",
      "    33Beginning energy calculation of NH4+ with model HF/STO-3G and cp = False\n",
      "Successfully completed energy calculation.\n",
      "    34Beginning energy calculation of NH4+ with model HF/STO-3G and cp = False\n",
      "Successfully completed energy calculation.\n",
      "    35Beginning energy calculation of NH4+ with model HF/STO-3G and cp = False\n",
      "Successfully completed energy calculation.\n",
      "    36Beginning energy calculation of NH4+ with model HF/STO-3G and cp = False\n",
      "Successfully completed energy calculation.\n",
      "    37Beginning energy calculation of NH4+ with model HF/STO-3G and cp = False\n",
      "Successfully completed energy calculation.\n",
      "    38Beginning energy calculation of NH4+ with model HF/STO-3G and cp = False\n",
      "Successfully completed energy calculation.\n",
      "    39Beginning energy calculation of NH4+ with model HF/STO-3G and cp = False\n",
      "Successfully completed energy calculation.\n",
      "    40\n",
      "Beginning energy calculation of NH4+ with model HF/STO-3G and cp = False\n",
      "Successfully completed energy calculation.\n",
      "    41Beginning energy calculation of NH4+ with model HF/STO-3G and cp = False\n",
      "Successfully completed energy calculation.\n",
      "    42Beginning energy calculation of NH4+ with model HF/STO-3G and cp = False\n",
      "Successfully completed energy calculation.\n",
      "    43Beginning energy calculation of NH4+ with model HF/STO-3G and cp = False\n",
      "Successfully completed energy calculation.\n",
      "    44Beginning energy calculation of NH4+ with model HF/STO-3G and cp = False\n",
      "Successfully completed energy calculation.\n",
      "    45Beginning energy calculation of NH4+ with model HF/STO-3G and cp = False\n",
      "Successfully completed energy calculation.\n",
      "    46Beginning energy calculation of NH4+ with model HF/STO-3G and cp = False\n",
      "Successfully completed energy calculation.\n",
      "    47Beginning energy calculation of NH4+ with model HF/STO-3G and cp = False\n",
      "Successfully completed energy calculation.\n",
      "    48Beginning energy calculation of NH4+ with model HF/STO-3G and cp = False\n",
      "Successfully completed energy calculation.\n",
      "    49Beginning energy calculation of NH4+ with model HF/STO-3G and cp = False\n",
      "Successfully completed energy calculation.\n",
      "    50\n",
      "Beginning energy calculation of NH4+ with model HF/STO-3G and cp = False\n",
      "Successfully completed energy calculation.\n",
      "    51Beginning energy calculation of NH4+ with model HF/STO-3G and cp = False\n",
      "Successfully completed energy calculation.\n",
      "    52Beginning energy calculation of NH4+ with model HF/STO-3G and cp = False\n",
      "Successfully completed energy calculation.\n",
      "    53Beginning energy calculation of NH4+ with model HF/STO-3G and cp = False\n",
      "Successfully completed energy calculation.\n",
      "    54Beginning energy calculation of NH4+ with model HF/STO-3G and cp = False\n",
      "Successfully completed energy calculation.\n",
      "    55Beginning energy calculation of NH4+ with model HF/STO-3G and cp = False\n",
      "Successfully completed energy calculation.\n",
      "    56Beginning energy calculation of NH4+ with model HF/STO-3G and cp = False\n",
      "Successfully completed energy calculation.\n",
      "    57Beginning energy calculation of NH4+ with model HF/STO-3G and cp = False\n",
      "Successfully completed energy calculation.\n",
      "    58Beginning energy calculation of NH4+ with model HF/STO-3G and cp = False\n",
      "Successfully completed energy calculation.\n",
      "    59Beginning energy calculation of NH4+ with model HF/STO-3G and cp = False\n",
      "Successfully completed energy calculation.\n",
      "    60\n",
      "Beginning energy calculation of NH4+ with model HF/STO-3G and cp = False\n",
      "Successfully completed energy calculation.\n",
      "    61Beginning energy calculation of NH4+ with model HF/STO-3G and cp = False\n",
      "Successfully completed energy calculation.\n",
      "    62Beginning energy calculation of NH4+ with model HF/STO-3G and cp = False\n",
      "Successfully completed energy calculation.\n",
      "    63Beginning energy calculation of NH4+ with model HF/STO-3G and cp = False\n",
      "Successfully completed energy calculation.\n",
      "    64Beginning energy calculation of NH4+ with model HF/STO-3G and cp = False\n",
      "Successfully completed energy calculation.\n",
      "    65Beginning energy calculation of NH4+ with model HF/STO-3G and cp = False\n",
      "Successfully completed energy calculation.\n",
      "    66Beginning energy calculation of NH4+ with model HF/STO-3G and cp = False\n",
      "Successfully completed energy calculation.\n",
      "    67Beginning energy calculation of NH4+ with model HF/STO-3G and cp = False\n",
      "Successfully completed energy calculation.\n"
     ]
    },
    {
     "name": "stdout",
     "output_type": "stream",
     "text": [
      "    68Beginning energy calculation of NH4+ with model HF/STO-3G and cp = False\n",
      "Successfully completed energy calculation.\n",
      "    69Beginning energy calculation of NH4+ with model HF/STO-3G and cp = False\n",
      "Successfully completed energy calculation.\n",
      "    70\n",
      "Beginning energy calculation of NH4+ with model HF/STO-3G and cp = False\n",
      "Successfully completed energy calculation.\n",
      "    71Beginning energy calculation of NH4+ with model HF/STO-3G and cp = False\n",
      "Successfully completed energy calculation.\n",
      "    72Beginning energy calculation of NH4+ with model HF/STO-3G and cp = False\n",
      "Successfully completed energy calculation.\n",
      "    73Beginning energy calculation of NH4+ with model HF/STO-3G and cp = False\n",
      "Successfully completed energy calculation.\n",
      "    74Beginning energy calculation of NH4+ with model HF/STO-3G and cp = False\n",
      "Successfully completed energy calculation.\n",
      "    75Beginning energy calculation of NH4+ with model HF/STO-3G and cp = False\n",
      "Successfully completed energy calculation.\n",
      "    76Beginning energy calculation of NH4+ with model HF/STO-3G and cp = False\n",
      "Successfully completed energy calculation.\n",
      "    77Beginning energy calculation of NH4+ with model HF/STO-3G and cp = False\n",
      "Successfully completed energy calculation.\n",
      "    78Beginning energy calculation of NH4+ with model HF/STO-3G and cp = False\n",
      "Successfully completed energy calculation.\n",
      "    79Beginning energy calculation of NH4+ with model HF/STO-3G and cp = False\n",
      "Successfully completed energy calculation.\n",
      "    80\n",
      "Beginning energy calculation of NH4+ with model HF/STO-3G and cp = False\n",
      "Successfully completed energy calculation.\n",
      "    81Beginning energy calculation of NH4+ with model HF/STO-3G and cp = False\n",
      "Successfully completed energy calculation.\n",
      "    82Beginning energy calculation of NH4+ with model HF/STO-3G and cp = False\n",
      "Successfully completed energy calculation.\n",
      "    83Beginning energy calculation of NH4+ with model HF/STO-3G and cp = False\n",
      "Successfully completed energy calculation.\n",
      "    84Beginning energy calculation of NH4+ with model HF/STO-3G and cp = False\n",
      "Successfully completed energy calculation.\n",
      "    85Beginning energy calculation of NH4+ with model HF/STO-3G and cp = False\n",
      "Successfully completed energy calculation.\n",
      "    86Beginning energy calculation of NH4+ with model HF/STO-3G and cp = False\n",
      "Successfully completed energy calculation.\n",
      "    87Beginning energy calculation of NH4+ with model HF/STO-3G and cp = False\n",
      "Successfully completed energy calculation.\n",
      "    88Beginning energy calculation of NH4+ with model HF/STO-3G and cp = False\n",
      "Successfully completed energy calculation.\n",
      "    89Beginning energy calculation of NH4+ with model HF/STO-3G and cp = False\n",
      "Successfully completed energy calculation.\n",
      "    90\n",
      "Beginning energy calculation of NH4+ with model HF/STO-3G and cp = False\n",
      "Successfully completed energy calculation.\n",
      "    91Beginning energy calculation of NH4+ with model HF/STO-3G and cp = False\n",
      "Successfully completed energy calculation.\n",
      "    92Beginning energy calculation of NH4+ with model HF/STO-3G and cp = False\n",
      "Successfully completed energy calculation.\n",
      "    93Beginning energy calculation of NH4+ with model HF/STO-3G and cp = False\n",
      "Successfully completed energy calculation.\n",
      "    94Beginning energy calculation of NH4+ with model HF/STO-3G and cp = False\n",
      "Successfully completed energy calculation.\n",
      "    95Beginning energy calculation of NH4+ with model HF/STO-3G and cp = False\n",
      "Successfully completed energy calculation.\n",
      "    96Beginning energy calculation of NH4+ with model HF/STO-3G and cp = False\n",
      "Successfully completed energy calculation.\n",
      "    97Beginning energy calculation of NH4+ with model HF/STO-3G and cp = False\n",
      "Successfully completed energy calculation.\n",
      "    98Beginning energy calculation of NH4+ with model HF/STO-3G and cp = False\n",
      "Successfully completed energy calculation.\n",
      "    99Beginning energy calculation of NH4+ with model HF/STO-3G and cp = False\n",
      "Successfully completed energy calculation.\n",
      "   100\n",
      "Beginning energy calculation of NH4+ with model HF/STO-3G and cp = False\n",
      "Successfully completed energy calculation.\n",
      "   101Beginning energy calculation of NH4+ with model HF/STO-3G and cp = False\n",
      "Successfully completed energy calculation.\n",
      "   102Beginning energy calculation of NH4+ with model HF/STO-3G and cp = False\n",
      "Successfully completed energy calculation.\n",
      "   103Beginning energy calculation of NH4+ with model HF/STO-3G and cp = False\n",
      "Successfully completed energy calculation.\n",
      "   104Beginning energy calculation of NH4+ with model HF/STO-3G and cp = False\n",
      "Successfully completed energy calculation.\n",
      "   105Beginning energy calculation of NH4+ with model HF/STO-3G and cp = False\n",
      "Successfully completed energy calculation.\n",
      "   106Beginning energy calculation of NH4+ with model HF/STO-3G and cp = False\n",
      "Successfully completed energy calculation.\n",
      "   107Beginning energy calculation of NH4+ with model HF/STO-3G and cp = False\n",
      "Successfully completed energy calculation.\n",
      "   108Beginning energy calculation of NH4+ with model HF/STO-3G and cp = False\n",
      "Successfully completed energy calculation.\n",
      "   109Beginning energy calculation of NH4+ with model HF/STO-3G and cp = False\n",
      "Successfully completed energy calculation.\n",
      "   110\n",
      "Beginning energy calculation of NH4+ with model HF/STO-3G and cp = False\n",
      "Successfully completed energy calculation.\n",
      "   111Beginning energy calculation of NH4+ with model HF/STO-3G and cp = False\n",
      "Successfully completed energy calculation.\n",
      "   112Beginning energy calculation of NH4+ with model HF/STO-3G and cp = False\n",
      "Successfully completed energy calculation.\n",
      "   113Beginning energy calculation of NH4+ with model HF/STO-3G and cp = False\n",
      "Successfully completed energy calculation.\n",
      "   114Beginning energy calculation of NH4+ with model HF/STO-3G and cp = False\n",
      "Successfully completed energy calculation.\n",
      "   115Beginning energy calculation of NH4+ with model HF/STO-3G and cp = False\n",
      "Successfully completed energy calculation.\n",
      "   116Beginning energy calculation of NH4+ with model HF/STO-3G and cp = False\n",
      "Successfully completed energy calculation.\n",
      "   117Beginning energy calculation of NH4+ with model HF/STO-3G and cp = False\n",
      "Successfully completed energy calculation.\n",
      "   118Beginning energy calculation of NH4+ with model HF/STO-3G and cp = False\n",
      "Successfully completed energy calculation.\n",
      "   119Beginning energy calculation of NH4+ with model HF/STO-3G and cp = False\n",
      "Successfully completed energy calculation.\n",
      "   120\n",
      "Beginning energy calculation of NH4+ with model HF/STO-3G and cp = False\n",
      "Successfully completed energy calculation.\n",
      "   121Beginning energy calculation of NH4+ with model HF/STO-3G and cp = False\n",
      "Successfully completed energy calculation.\n",
      "   122Beginning energy calculation of NH4+ with model HF/STO-3G and cp = False\n",
      "Successfully completed energy calculation.\n",
      "   123Beginning energy calculation of NH4+ with model HF/STO-3G and cp = False\n",
      "Successfully completed energy calculation.\n",
      "   124Beginning energy calculation of NH4+ with model HF/STO-3G and cp = False\n",
      "Successfully completed energy calculation.\n",
      "   125Beginning energy calculation of NH4+ with model HF/STO-3G and cp = False\n",
      "Successfully completed energy calculation.\n",
      "   126Beginning energy calculation of NH4+ with model HF/STO-3G and cp = False\n",
      "Successfully completed energy calculation.\n",
      "   127Beginning energy calculation of NH4+ with model HF/STO-3G and cp = False\n",
      "Successfully completed energy calculation.\n",
      "   128Beginning energy calculation of NH4+ with model HF/STO-3G and cp = False\n",
      "Successfully completed energy calculation.\n",
      "   129Beginning energy calculation of NH4+ with model HF/STO-3G and cp = False\n",
      "Successfully completed energy calculation.\n",
      "   130\n",
      "Beginning energy calculation of NH4+ with model HF/STO-3G and cp = False\n",
      "Successfully completed energy calculation.\n",
      "   131Beginning energy calculation of NH4+ with model HF/STO-3G and cp = False\n",
      "Successfully completed energy calculation.\n",
      "   132Beginning energy calculation of NH4+ with model HF/STO-3G and cp = False\n",
      "Successfully completed energy calculation.\n",
      "   133Beginning energy calculation of NH4+ with model HF/STO-3G and cp = False\n",
      "Successfully completed energy calculation.\n",
      "   134Beginning energy calculation of NH4+ with model HF/STO-3G and cp = False\n",
      "Successfully completed energy calculation.\n",
      "   135Beginning energy calculation of NH4+ with model HF/STO-3G and cp = False\n"
     ]
    },
    {
     "name": "stdout",
     "output_type": "stream",
     "text": [
      "Successfully completed energy calculation.\n",
      "   136Beginning energy calculation of NH4+ with model HF/STO-3G and cp = False\n",
      "Successfully completed energy calculation.\n",
      "   137Beginning energy calculation of NH4+ with model HF/STO-3G and cp = False\n",
      "Successfully completed energy calculation.\n",
      "   138Beginning energy calculation of NH4+ with model HF/STO-3G and cp = False\n",
      "Successfully completed energy calculation.\n",
      "   139Beginning energy calculation of NH4+ with model HF/STO-3G and cp = False\n",
      "Successfully completed energy calculation.\n",
      "   140\n",
      "Beginning energy calculation of NH4+ with model HF/STO-3G and cp = False\n",
      "Successfully completed energy calculation.\n",
      "   141Beginning energy calculation of NH4+ with model HF/STO-3G and cp = False\n",
      "Successfully completed energy calculation.\n",
      "   142Beginning energy calculation of NH4+ with model HF/STO-3G and cp = False\n",
      "Successfully completed energy calculation.\n",
      "   143Beginning energy calculation of NH4+ with model HF/STO-3G and cp = False\n",
      "Successfully completed energy calculation.\n",
      "   144Beginning energy calculation of NH4+ with model HF/STO-3G and cp = False\n",
      "Successfully completed energy calculation.\n",
      "   145Beginning energy calculation of NH4+ with model HF/STO-3G and cp = False\n",
      "Successfully completed energy calculation.\n",
      "   146Beginning energy calculation of NH4+ with model HF/STO-3G and cp = False\n",
      "Successfully completed energy calculation.\n",
      "   147Beginning energy calculation of NH4+ with model HF/STO-3G and cp = False\n",
      "Successfully completed energy calculation.\n",
      "   148Beginning energy calculation of NH4+ with model HF/STO-3G and cp = False\n",
      "Successfully completed energy calculation.\n",
      "   149Beginning energy calculation of NH4+ with model HF/STO-3G and cp = False\n",
      "Successfully completed energy calculation.\n",
      "   150\n",
      "Beginning energy calculation of NH4+ with model HF/STO-3G and cp = False\n",
      "Successfully completed energy calculation.\n",
      "   151Beginning energy calculation of NH4+ with model HF/STO-3G and cp = False\n",
      "Successfully completed energy calculation.\n",
      "\n",
      "Filling of database successful\n"
     ]
    }
   ],
   "source": [
    "potential_fitting.fill_database(mon_settings, database_config, client_name)"
   ]
  },
  {
   "cell_type": "markdown",
   "metadata": {},
   "source": [
    "### 3.4. Training set and Test set generation"
   ]
  },
  {
   "cell_type": "markdown",
   "metadata": {},
   "source": [
    "Generates the training set file in the format that will be needed in the fitting codes. If your database contains energies computed with a variety of methods/basis, **only one method and basis can be used in the same training set**. The format of the training set is the same as the configurations generated for the training set in previous steps. The difference is that now, the comment line will have the binding, interaction, and one body energies of that configuration.\n",
    "\n",
    "<p style=\"color:red;\">Note: the arguments for the generate_1b_training_set function have changed. The database filepath argument has been exchanged for the database_config. Additionally, method, basis, and cp must now be specified. Also, instead of specifying tags as a keyword argument, it is specified after cp, multiple tags may be included.</p>\n",
    "\n",
    "There are some optional arguments for generate_1b_training_set as well:\n",
    " * e_min: include only those configs with a 1b distortion energy greater than e_min. Units kcal/mol.\n",
    " * e_max: include only those configs with a 1b distortion energy less than e_max. Units kcal/mol."
   ]
  },
  {
   "cell_type": "code",
   "execution_count": 26,
   "metadata": {
    "scrolled": true
   },
   "outputs": [
    {
     "name": "stdout",
     "output_type": "stream",
     "text": [
      "Creating a fitting input file from database into file training_set.xyz\n",
      "Generated training set with 101 Configurations.\n",
      "Creating a fitting input file from database into file test_set.xyz\n",
      "Generated training set with 51 Configurations.\n"
     ]
    }
   ],
   "source": [
    "# Generate training set\n",
    "potential_fitting.generate_1b_training_set(mon_settings, database_config, training_set, mon_name, method, basis, cp, \"training\")\n",
    "\n",
    "# Generate test set\n",
    "potential_fitting.generate_1b_training_set(mon_settings, database_config, test_set, mon_name, method, basis, cp, \"test\")"
   ]
  },
  {
   "cell_type": "markdown",
   "metadata": {},
   "source": [
    "## 4. Generate polynomial files"
   ]
  },
  {
   "cell_type": "markdown",
   "metadata": {},
   "source": [
    "### 4.1. Generate polynomial input file"
   ]
  },
  {
   "cell_type": "markdown",
   "metadata": {},
   "source": [
    "This call generates a polynomial input file based on the symmetry of the dimer specified. \n",
    "\n",
    "*Note. Write some more info and doc for the input. Filters by default, new filters that can be added...*\n",
    "\n",
    "<p style=\"color:red;\">Note: the database filepath argument has been exchanged for the database_config. </p>"
   ]
  },
  {
   "cell_type": "code",
   "execution_count": 27,
   "metadata": {
    "scrolled": true
   },
   "outputs": [
    {
     "name": "stdout",
     "output_type": "stream",
     "text": [
      "molecule_init A4B1\n",
      "looping...\n"
     ]
    }
   ],
   "source": [
    "potential_fitting.generate_poly_input(mon_settings, molecule_in, poly_in)"
   ]
  },
  {
   "cell_type": "markdown",
   "metadata": {},
   "source": [
    "### 4.2. Generate maple input files"
   ]
  },
  {
   "cell_type": "markdown",
   "metadata": {},
   "source": [
    "Generate polynomials of the degree specified at the beginning, based on the polynomial input file that we have generated in the previous step."
   ]
  },
  {
   "cell_type": "code",
   "execution_count": 28,
   "metadata": {},
   "outputs": [
    {
     "name": "stdout",
     "output_type": "stream",
     "text": [
      "molecule_init A4B1\n",
      "looping...\n",
      "[[[0, 1, 2, 3, 4], [0, 1, 3, 2, 4], [0, 2, 1, 3, 4], [0, 2, 3, 1, 4], [0, 3, 1, 2, 4], [0, 3, 2, 1, 4], [1, 0, 2, 3, 4], [1, 0, 3, 2, 4], [1, 2, 0, 3, 4], [1, 2, 3, 0, 4], [1, 3, 0, 2, 4], [1, 3, 2, 0, 4], [2, 0, 1, 3, 4], [2, 0, 3, 1, 4], [2, 1, 0, 3, 4], [2, 1, 3, 0, 4], [2, 3, 0, 1, 4], [2, 3, 1, 0, 4], [3, 0, 1, 2, 4], [3, 0, 2, 1, 4], [3, 1, 0, 2, 4], [3, 1, 2, 0, 4], [3, 2, 0, 1, 4], [3, 2, 1, 0, 4]]]\n"
     ]
    }
   ],
   "source": [
    "potential_fitting.generate_polynomials(mon_settings, poly_in, polynomial_order, poly_directory)"
   ]
  },
  {
   "cell_type": "markdown",
   "metadata": {},
   "source": [
    "### 4.3. Optimize the polynomial evaluation"
   ]
  },
  {
   "cell_type": "markdown",
   "metadata": {},
   "source": [
    "The maple input files define the non optimized polynomials. The polynomials can sometimes be large, and **Maple** is able to optimize them to perform the minimum number of floating point operations (FLOPs). It will output three different files. One with non-optimized polynomials, one with optimized polynomials with gradient evaluation, and one without gradient evaluation."
   ]
  },
  {
   "cell_type": "code",
   "execution_count": 29,
   "metadata": {},
   "outputs": [],
   "source": [
    "potential_fitting.execute_maple(mon_settings, poly_directory)"
   ]
  },
  {
   "cell_type": "markdown",
   "metadata": {},
   "source": [
    "## 5. Obtain monomer and dimer properties"
   ]
  },
  {
   "cell_type": "markdown",
   "metadata": {},
   "source": [
    "In order to perform the fit, charges, polarizabilities, C6, and other properties of the dimer have to be calculated. This is done, for now, with the software **QChem**. This instruction will compute these properties for you. The predefined basis set and method is wb97m-v/avtz. This step can take a long time if the molecule is large.\n",
    "\n",
    "After the calculation is completed, all the information needed for the fits (both MB-nrg and TTM-nrg) will be added in the configuration file specified at the beggining."
   ]
  },
  {
   "cell_type": "code",
   "execution_count": 14,
   "metadata": {
    "scrolled": true
   },
   "outputs": [
    {
     "name": "stdout",
     "output_type": "stream",
     "text": [
      "Generating fitting config file for molecule with fragments: NH4+\n",
      "Preparing qchem input...\n",
      "Executing qchem calculation...\n",
      "Parsing qchem output...\n",
      "Writing config file...\n",
      "Completed generating config file ./config.ini.\n"
     ]
    }
   ],
   "source": [
    "potential_fitting.generate_fit_config(mon_settings, molecule_in, config, opt_mon)"
   ]
  },
  {
   "cell_type": "markdown",
   "metadata": {},
   "source": [
    "## 6. MB-nrg fit"
   ]
  },
  {
   "cell_type": "markdown",
   "metadata": {},
   "source": [
    "### 6.1. Obtain and compile the fitting code"
   ]
  },
  {
   "cell_type": "markdown",
   "metadata": {},
   "source": [
    "We generate now a one-body fitting code to fit the polynomials previously obtained."
   ]
  },
  {
   "cell_type": "code",
   "execution_count": 15,
   "metadata": {
    "scrolled": false
   },
   "outputs": [
    {
     "name": "stdout",
     "output_type": "stream",
     "text": [
      "Executing python generator script\n"
     ]
    }
   ],
   "source": [
    "potential_fitting.generate_1b_fit_code(mon_settings, config, molecule_in, poly_in, poly_directory, polynomial_order, mbnrg_directory)"
   ]
  },
  {
   "cell_type": "markdown",
   "metadata": {},
   "source": [
    "And we compile it."
   ]
  },
  {
   "cell_type": "code",
   "execution_count": 16,
   "metadata": {},
   "outputs": [],
   "source": [
    "potential_fitting.compile_fit_code(mon_settings, mbnrg_directory)"
   ]
  },
  {
   "cell_type": "markdown",
   "metadata": {},
   "source": [
    "### 6.2. Perform the fit"
   ]
  },
  {
   "cell_type": "markdown",
   "metadata": {},
   "source": [
    "We perform **(multiple?)** fits, keep the best one, and keep those results."
   ]
  },
  {
   "cell_type": "code",
   "execution_count": 17,
   "metadata": {},
   "outputs": [
    {
     "name": "stdout",
     "output_type": "stream",
     "text": [
      "Performing 20 fits from which the best will be chosen...\n",
      "Completed first fit with rmsd 0.528977.\n",
      "\n",
      "Completed fit number 1 with rmsd 1.5413.\n",
      "Current best fit has rmsd 0.528977.\n",
      "\n",
      "\n",
      "Completed fit number 2 with rmsd 1.5413.\n",
      "Current best fit has rmsd 0.528977.\n",
      "\n",
      "\n",
      "Completed fit number 3 with rmsd 1.5413.\n",
      "Current best fit has rmsd 0.528977.\n",
      "\n",
      "\n",
      "Completed fit number 4 with rmsd 1.5413.\n",
      "Current best fit has rmsd 0.528977.\n",
      "\n",
      "\n",
      "Completed fit number 5 with rmsd 0.528977.\n",
      "Current best fit has rmsd 0.528977.\n",
      "\n",
      "\n",
      "Completed fit number 6 with rmsd 0.528977.\n",
      "Current best fit has rmsd 0.528977.\n",
      "\n",
      "\n",
      "Completed fit number 7 with rmsd 0.528977.\n",
      "Current best fit has rmsd 0.528977.\n",
      "\n",
      "\n",
      "Completed fit number 8 with rmsd 1.5413.\n",
      "Current best fit has rmsd 0.528977.\n",
      "\n",
      "\n",
      "Completed fit number 9 with rmsd 1.5413.\n",
      "Current best fit has rmsd 0.528977.\n",
      "\n",
      "\n",
      "Completed fit number 10 with rmsd 0.528977.\n",
      "Current best fit has rmsd 0.528977.\n",
      "\n",
      "\n",
      "Completed fit number 11 with rmsd 1.5413.\n",
      "Current best fit has rmsd 0.528977.\n",
      "\n",
      "\n",
      "Completed fit number 12 with rmsd 0.528977.\n",
      "Current best fit has rmsd 0.528977.\n",
      "\n",
      "\n",
      "Completed fit number 13 with rmsd 1.5413.\n",
      "Current best fit has rmsd 0.528977.\n",
      "\n",
      "\n",
      "Completed fit number 14 with rmsd 0.528977.\n",
      "Current best fit has rmsd 0.528977.\n",
      "\n",
      "\n",
      "Completed fit number 15 with rmsd 0.528977.\n",
      "Current best fit has rmsd 0.528977.\n",
      "\n",
      "\n",
      "Completed fit number 16 with rmsd 0.528977.\n",
      "Current best fit has rmsd 0.528977.\n",
      "\n",
      "\n",
      "Completed fit number 17 with rmsd 0.528977.\n",
      "Current best fit has rmsd 0.528977.\n",
      "\n",
      "\n",
      "Completed fit number 18 with rmsd 0.528977.\n",
      "Current best fit has rmsd 0.528977.\n",
      "\n",
      "\n",
      "Completed fit number 19 with rmsd 1.5413.\n",
      "Current best fit has rmsd 0.528977.\n",
      "\n",
      "\n"
     ]
    }
   ],
   "source": [
    "potential_fitting.fit_1b_training_set(mon_settings, mbnrg_directory + \"/fit-1b\", training_set, mbnrg_directory, results_prefix + \".nc\", num_fits)"
   ]
  },
  {
   "cell_type": "markdown",
   "metadata": {},
   "source": [
    "## 7. Visualize the results"
   ]
  },
  {
   "cell_type": "markdown",
   "metadata": {},
   "source": [
    "Finally, we can plot the correlation plots for the training and test sets, along with the error, using this helper function."
   ]
  },
  {
   "cell_type": "code",
   "execution_count": 23,
   "metadata": {
    "scrolled": true
   },
   "outputs": [
    {
     "name": "stdout",
     "output_type": "stream",
     "text": [
      "File ./fit.png already exists, moving existing ./fit.png to ./fit.png.backup-1 to make way for new file.\n",
      "File ./rmsd.png already exists, moving existing ./rmsd.png to ./rmsd.png.backup-1 to make way for new file.\n"
     ]
    },
    {
     "data": {
      "image/png": "[encoded data removed]",
      "text/plain": [
       "<Figure size 576x576 with 1 Axes>"
      ]
     },
     "metadata": {
      "needs_background": "light"
     },
     "output_type": "display_data"
    },
    {
     "data": {
      "image/png": "[encoded data removed]",
      "text/plain": [
       "<Figure size 576x576 with 1 Axes>"
      ]
     },
     "metadata": {
      "needs_background": "light"
     },
     "output_type": "display_data"
    },
    {
     "data": {
      "image/png": "[encoded data removed]",
      "text/plain": [
       "<Figure size 576x576 with 1 Axes>"
      ]
     },
     "metadata": {
      "needs_background": "light"
     },
     "output_type": "display_data"
    },
    {
     "data": {
      "image/png": "[encoded data removed]",
      "text/plain": [
       "<Figure size 576x576 with 1 Axes>"
      ]
     },
     "metadata": {
      "needs_background": "light"
     },
     "output_type": "display_data"
    }
   ],
   "source": [
    "%matplotlib inline\n",
    "potential_fitting.fitting.fit_visualizer.make_1b_graphs(mon_settings, mbnrg_directory + \"/eval-1b\", results_prefix + \".nc\", database_config, mon_name, method, basis, False, \"test\")"
   ]
  },
  {
   "cell_type": "markdown",
   "metadata": {
    "collapsed": true
   },
   "source": [
    "## 8. Generate files for Clusters Ultimate"
   ]
  },
  {
   "cell_type": "markdown",
   "metadata": {},
   "source": [
    "Finally, we generate the files that will be needed to add this PEF to Clusters_Ultimate, the energy software. In order to do it, clone the master branch of [Clusters_Ultimate](https://github.com/paesanilab/clusters_ultimate) in the [paesanilab github page](https://github.com/paesanilab) and follow the instructions in the README."
   ]
  },
  {
   "cell_type": "code",
   "execution_count": 24,
   "metadata": {},
   "outputs": [
    {
     "name": "stdout",
     "output_type": "stream",
     "text": [
      "mb-nrg_fit/fit-1b.cdl\n"
     ]
    }
   ],
   "source": [
    "potential_fitting.fitting.generate_software_files_1b(mon_settings, molecule_in, poly_directory, polynomial_order, mbnrg_directory,config,\"fit-1b.cdl\",mon_id)"
   ]
  }
 ],
 "metadata": {
  "kernelspec": {
   "display_name": "Python 3",
   "language": "python",
   "name": "python3"
  },
  "language_info": {
   "codemirror_mode": {
    "name": "ipython",
    "version": 3
   },
   "file_extension": ".py",
   "mimetype": "text/x-python",
   "name": "python",
   "nbconvert_exporter": "python",
   "pygments_lexer": "ipython3",
   "version": "3.6.8"
  }
 },
 "nbformat": 4,
 "nbformat_minor": 2
}
