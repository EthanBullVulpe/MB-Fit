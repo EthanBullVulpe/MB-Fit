{
 "cells": [
  {
   "cell_type": "markdown",
   "metadata": {},
   "source": [
    "This block just imports the potential_fitting module."
   ]
  },
  {
   "cell_type": "code",
   "execution_count": 1,
   "metadata": {
    "scrolled": false
   },
   "outputs": [
    {
     "ename": "SyntaxError",
     "evalue": "invalid syntax (potential_fitting.py, line 5)",
     "output_type": "error",
     "traceback": [
      "Traceback \u001b[0;36m(most recent call last)\u001b[0m:\n",
      "  File \u001b[1;32m\"/home/ebullvul/anaconda3/envs/psi4dev/lib/python3.6/site-packages/IPython/core/interactiveshell.py\"\u001b[0m, line \u001b[1;32m2961\u001b[0m, in \u001b[1;35mrun_code\u001b[0m\n    exec(code_obj, self.user_global_ns, self.user_ns)\n",
      "  File \u001b[1;32m\"<ipython-input-1-c2f525723992>\"\u001b[0m, line \u001b[1;32m1\u001b[0m, in \u001b[1;35m<module>\u001b[0m\n    import potential_fitting\n",
      "\u001b[0;36m  File \u001b[0;32m\"/home/ebullvul/potential_fitting/potential_fitting/__init__.py\"\u001b[0;36m, line \u001b[0;32m1\u001b[0;36m, in \u001b[0;35m<module>\u001b[0;36m\u001b[0m\n\u001b[0;31m    from .potential_fitting import *\u001b[0m\n",
      "\u001b[0;36m  File \u001b[0;32m\"/home/ebullvul/potential_fitting/potential_fitting/potential_fitting.py\"\u001b[0;36m, line \u001b[0;32m5\u001b[0m\n\u001b[0;31m    import .configurations\u001b[0m\n\u001b[0m           ^\u001b[0m\n\u001b[0;31mSyntaxError\u001b[0m\u001b[0;31m:\u001b[0m invalid syntax\n"
     ]
    }
   ],
   "source": [
    "import potential_fitting"
   ]
  },
  {
   "cell_type": "markdown",
   "metadata": {},
   "source": [
    "Now define filepaths as variables so we don't have to keep retyping strings.\n",
    "Make sure you have nothing of value in any of these files, as all files will be overwritten by certain steps of the workflow except settings, unopt_geo, and database."
   ]
  },
  {
   "cell_type": "code",
   "execution_count": 4,
   "metadata": {},
   "outputs": [],
   "source": [
    "settings = \"CO2monomer.ini\"\n",
    "unopt_geo = \"CO2.xyz\"\n",
    "opt_geo = \"CO2.opt.xyz\"\n",
    "normal_modes = \"normal_modes.dat\"\n",
    "configs = \"config_files.xyz\"\n",
    "database = \"CO2database.db\"\n",
    "training_set = \"training_set.xyz\"\n",
    "poly_in = \"A1B2.in\"\n",
    "molecule_in = \"A1B2\"\n",
    "poly_directory = \"poly\"\n",
    "config = \"config.ini\"\n",
    "fit_directory = \"fit\"\n",
    "fitted_code = \"fitted\""
   ]
  },
  {
   "cell_type": "markdown",
   "metadata": {},
   "source": [
    "This call creates the log directory as specified in settings.ini:files:log_path.\n",
    "        In the future this will not be necessary, as the code will create any directories before using them."
   ]
  },
  {
   "cell_type": "code",
   "execution_count": 5,
   "metadata": {},
   "outputs": [],
   "source": [
    "potential_fitting.create_dirs(settings)"
   ]
  },
  {
   "cell_type": "markdown",
   "metadata": {},
   "source": [
    "Optimizes the single geometry specified in the file located at the path specifed by unopt_geo and writes the optimized geometry to the file path specified by opt geo. This may take a while depending on what method/basis you use."
   ]
  },
  {
   "cell_type": "code",
   "execution_count": 6,
   "metadata": {
    "scrolled": true
   },
   "outputs": [
    {
     "ename": "NameError",
     "evalue": "name 'Fragment' is not defined",
     "output_type": "error",
     "traceback": [
      "\u001b[0;31m---------------------------------------------------------------------------\u001b[0m",
      "\u001b[0;31mNameError\u001b[0m                                 Traceback (most recent call last)",
      "\u001b[0;32m<ipython-input-6-fc7829b12921>\u001b[0m in \u001b[0;36m<module>\u001b[0;34m()\u001b[0m\n\u001b[0;32m----> 1\u001b[0;31m \u001b[0mpotential_fitting\u001b[0m\u001b[0;34m.\u001b[0m\u001b[0moptimize_geometry\u001b[0m\u001b[0;34m(\u001b[0m\u001b[0msettings\u001b[0m\u001b[0;34m,\u001b[0m \u001b[0munopt_geo\u001b[0m\u001b[0;34m,\u001b[0m \u001b[0mopt_geo\u001b[0m\u001b[0;34m)\u001b[0m\u001b[0;34m\u001b[0m\u001b[0m\n\u001b[0m",
      "\u001b[0;32m~/potential_fitting/potential_fitting/potential_fitting.py\u001b[0m in \u001b[0;36moptimize_geometry\u001b[0;34m(settings_path, unopt_geo, opt_geo)\u001b[0m\n\u001b[1;32m     38\u001b[0m         \u001b[0mos\u001b[0m\u001b[0;34m.\u001b[0m\u001b[0mmkdir\u001b[0m\u001b[0;34m(\u001b[0m\u001b[0mos\u001b[0m\u001b[0;34m.\u001b[0m\u001b[0mpath\u001b[0m\u001b[0;34m.\u001b[0m\u001b[0mdirname\u001b[0m\u001b[0;34m(\u001b[0m\u001b[0mopt_geo\u001b[0m\u001b[0;34m)\u001b[0m\u001b[0;34m)\u001b[0m\u001b[0;34m\u001b[0m\u001b[0m\n\u001b[1;32m     39\u001b[0m \u001b[0;34m\u001b[0m\u001b[0m\n\u001b[0;32m---> 40\u001b[0;31m     \u001b[0mconfigurations\u001b[0m\u001b[0;34m.\u001b[0m\u001b[0moptimize_geometry\u001b[0m\u001b[0;34m(\u001b[0m\u001b[0msettings_path\u001b[0m\u001b[0;34m,\u001b[0m \u001b[0munopt_geo\u001b[0m\u001b[0;34m,\u001b[0m \u001b[0mopt_geo\u001b[0m\u001b[0;34m)\u001b[0m\u001b[0;34m\u001b[0m\u001b[0m\n\u001b[0m\u001b[1;32m     41\u001b[0m \u001b[0;34m\u001b[0m\u001b[0m\n\u001b[1;32m     42\u001b[0m \u001b[0;32mdef\u001b[0m \u001b[0mgenerate_normal_modes\u001b[0m\u001b[0;34m(\u001b[0m\u001b[0msettings_path\u001b[0m\u001b[0;34m,\u001b[0m \u001b[0mgeo\u001b[0m\u001b[0;34m,\u001b[0m \u001b[0mnormal_modes\u001b[0m\u001b[0;34m)\u001b[0m\u001b[0;34m:\u001b[0m\u001b[0;34m\u001b[0m\u001b[0m\n",
      "\u001b[0;32m~/potential_fitting/potential_fitting/configurations/geometry_optimizer.py\u001b[0m in \u001b[0;36moptimize_geometry\u001b[0;34m(settings_path, unopt_path, opt_path)\u001b[0m\n\u001b[1;32m     19\u001b[0m \u001b[0;34m\u001b[0m\u001b[0m\n\u001b[1;32m     20\u001b[0m     \u001b[0;31m# read the unoptimized geometry\u001b[0m\u001b[0;34m\u001b[0m\u001b[0;34m\u001b[0m\u001b[0m\n\u001b[0;32m---> 21\u001b[0;31m     \u001b[0munopt_molecule\u001b[0m \u001b[0;34m=\u001b[0m \u001b[0mxyz_to_molecules\u001b[0m\u001b[0;34m(\u001b[0m\u001b[0munopt_path\u001b[0m\u001b[0;34m,\u001b[0m \u001b[0msettings\u001b[0m\u001b[0;34m)\u001b[0m\u001b[0;34m[\u001b[0m\u001b[0;36m0\u001b[0m\u001b[0;34m]\u001b[0m\u001b[0;34m\u001b[0m\u001b[0m\n\u001b[0m\u001b[1;32m     22\u001b[0m \u001b[0;34m\u001b[0m\u001b[0m\n\u001b[1;32m     23\u001b[0m     \u001b[0;31m# optimize the geometry\u001b[0m\u001b[0;34m\u001b[0m\u001b[0;34m\u001b[0m\u001b[0m\n",
      "\u001b[0;32m~/potential_fitting/potential_fitting/molecule/molecule_parser.py\u001b[0m in \u001b[0;36mxyz_to_molecules\u001b[0;34m(file_path, settings)\u001b[0m\n\u001b[1;32m     48\u001b[0m         \u001b[0;32mwhile\u001b[0m \u001b[0;32mTrue\u001b[0m\u001b[0;34m:\u001b[0m\u001b[0;34m\u001b[0m\u001b[0m\n\u001b[1;32m     49\u001b[0m             \u001b[0;32mtry\u001b[0m\u001b[0;34m:\u001b[0m\u001b[0;34m\u001b[0m\u001b[0m\n\u001b[0;32m---> 50\u001b[0;31m                 \u001b[0mmolecule\u001b[0m \u001b[0;34m=\u001b[0m \u001b[0mMolecule\u001b[0m\u001b[0;34m(\u001b[0m\u001b[0;34m)\u001b[0m\u001b[0;34m.\u001b[0m\u001b[0mread_xyz_file\u001b[0m\u001b[0;34m(\u001b[0m\u001b[0mxyz_file\u001b[0m\u001b[0;34m,\u001b[0m \u001b[0matoms_per_fragment\u001b[0m\u001b[0;34m,\u001b[0m \u001b[0mname_per_fragment\u001b[0m\u001b[0;34m,\u001b[0m \u001b[0mcharge_per_fragment\u001b[0m\u001b[0;34m,\u001b[0m \u001b[0mspin_per_fragment\u001b[0m\u001b[0;34m,\u001b[0m \u001b[0msymmetry_per_fragment\u001b[0m\u001b[0;34m)\u001b[0m\u001b[0;34m\u001b[0m\u001b[0m\n\u001b[0m\u001b[1;32m     51\u001b[0m                 \u001b[0mmolecules\u001b[0m\u001b[0;34m.\u001b[0m\u001b[0mappend\u001b[0m\u001b[0;34m(\u001b[0m\u001b[0mmolecule\u001b[0m\u001b[0;34m)\u001b[0m\u001b[0;34m\u001b[0m\u001b[0m\n\u001b[1;32m     52\u001b[0m             \u001b[0;32mexcept\u001b[0m \u001b[0mStopIteration\u001b[0m\u001b[0;34m:\u001b[0m\u001b[0;34m\u001b[0m\u001b[0m\n",
      "\u001b[0;32m~/potential_fitting/potential_fitting/molecule/molecule.py\u001b[0m in \u001b[0;36mread_xyz_file\u001b[0;34m(self, file, atoms_per_fragment, name_per_fragment, charge_per_fragment, spin_multiplicity_per_fragment, symmetry_per_fragment)\u001b[0m\n\u001b[1;32m    645\u001b[0m             \u001b[0mstring\u001b[0m \u001b[0;34m+=\u001b[0m \u001b[0mline\u001b[0m\u001b[0;34m\u001b[0m\u001b[0m\n\u001b[1;32m    646\u001b[0m \u001b[0;34m\u001b[0m\u001b[0m\n\u001b[0;32m--> 647\u001b[0;31m         \u001b[0mself\u001b[0m\u001b[0;34m.\u001b[0m\u001b[0mread_xyz\u001b[0m\u001b[0;34m(\u001b[0m\u001b[0mstring\u001b[0m\u001b[0;34m,\u001b[0m \u001b[0matoms_per_fragment\u001b[0m\u001b[0;34m,\u001b[0m \u001b[0mname_per_fragment\u001b[0m\u001b[0;34m,\u001b[0m \u001b[0mcharge_per_fragment\u001b[0m\u001b[0;34m,\u001b[0m \u001b[0mspin_multiplicity_per_fragment\u001b[0m\u001b[0;34m,\u001b[0m \u001b[0msymmetry_per_fragment\u001b[0m\u001b[0;34m)\u001b[0m\u001b[0;34m\u001b[0m\u001b[0m\n\u001b[0m\u001b[1;32m    648\u001b[0m \u001b[0;34m\u001b[0m\u001b[0m\n\u001b[1;32m    649\u001b[0m         \u001b[0;32mreturn\u001b[0m \u001b[0mself\u001b[0m\u001b[0;34m\u001b[0m\u001b[0m\n",
      "\u001b[0;32m~/potential_fitting/potential_fitting/molecule/molecule.py\u001b[0m in \u001b[0;36mread_xyz\u001b[0;34m(self, string, atoms_per_fragment, name_per_fragment, charge_per_fragment, spin_multiplicity_per_fragment, symmetry_per_fragment)\u001b[0m\n\u001b[1;32m    603\u001b[0m \u001b[0;34m\u001b[0m\u001b[0m\n\u001b[1;32m    604\u001b[0m             \u001b[0;31m# read this fragment into this Molecule\u001b[0m\u001b[0;34m\u001b[0m\u001b[0;34m\u001b[0m\u001b[0m\n\u001b[0;32m--> 605\u001b[0;31m             \u001b[0mself\u001b[0m\u001b[0;34m.\u001b[0m\u001b[0mread_fragment_from_xyz\u001b[0m\u001b[0;34m(\u001b[0m\u001b[0;34m\"\\n\"\u001b[0m\u001b[0;34m.\u001b[0m\u001b[0mjoin\u001b[0m\u001b[0;34m(\u001b[0m\u001b[0mlines\u001b[0m\u001b[0;34m[\u001b[0m\u001b[0;34m:\u001b[0m\u001b[0mnum_atoms\u001b[0m\u001b[0;34m]\u001b[0m\u001b[0;34m)\u001b[0m\u001b[0;34m,\u001b[0m \u001b[0mname\u001b[0m\u001b[0;34m,\u001b[0m \u001b[0mcharge\u001b[0m\u001b[0;34m,\u001b[0m \u001b[0mspin\u001b[0m\u001b[0;34m,\u001b[0m \u001b[0msymmetry\u001b[0m\u001b[0;34m)\u001b[0m\u001b[0;34m\u001b[0m\u001b[0m\n\u001b[0m\u001b[1;32m    606\u001b[0m \u001b[0;34m\u001b[0m\u001b[0m\n\u001b[1;32m    607\u001b[0m             \u001b[0;31m# remove a number of lines from the lines list equal to the number used in the Fragment that was just read\u001b[0m\u001b[0;34m\u001b[0m\u001b[0;34m\u001b[0m\u001b[0m\n",
      "\u001b[0;32m~/potential_fitting/potential_fitting/molecule/molecule.py\u001b[0m in \u001b[0;36mread_fragment_from_xyz\u001b[0;34m(self, string, name, charge, spin_multiplicity, symmetry)\u001b[0m\n\u001b[1;32m    549\u001b[0m         \"\"\"\n\u001b[1;32m    550\u001b[0m \u001b[0;34m\u001b[0m\u001b[0m\n\u001b[0;32m--> 551\u001b[0;31m         \u001b[0mself\u001b[0m\u001b[0;34m.\u001b[0m\u001b[0madd_fragment\u001b[0m\u001b[0;34m(\u001b[0m\u001b[0mFragment\u001b[0m\u001b[0;34m(\u001b[0m\u001b[0mname\u001b[0m\u001b[0;34m,\u001b[0m \u001b[0mcharge\u001b[0m\u001b[0;34m,\u001b[0m \u001b[0mspin_multiplicity\u001b[0m\u001b[0;34m)\u001b[0m\u001b[0;34m.\u001b[0m\u001b[0mread_xyz\u001b[0m\u001b[0;34m(\u001b[0m\u001b[0mstring\u001b[0m\u001b[0;34m,\u001b[0m \u001b[0msymmetry\u001b[0m\u001b[0;34m)\u001b[0m\u001b[0;34m)\u001b[0m\u001b[0;34m\u001b[0m\u001b[0m\n\u001b[0m\u001b[1;32m    552\u001b[0m \u001b[0;34m\u001b[0m\u001b[0m\n\u001b[1;32m    553\u001b[0m         \u001b[0;32mreturn\u001b[0m \u001b[0mself\u001b[0m\u001b[0;34m\u001b[0m\u001b[0m\n",
      "\u001b[0;31mNameError\u001b[0m: name 'Fragment' is not defined"
     ]
    }
   ],
   "source": [
    "potential_fitting.optimize_geometry(settings, unopt_geo, opt_geo)"
   ]
  },
  {
   "cell_type": "markdown",
   "metadata": {},
   "source": [
    "Does a frequency calculation on the optimized geometry in the file located at the opt_geo path in order to generate a normal modes input file for the normal distribution configuration generator in the file located at normal_modes. dim_null (3 times number of atoms minus number of normal modes) is returned and should be used as input for the next function call. This may take a while depending on what method/basis you use."
   ]
  },
  {
   "cell_type": "code",
   "execution_count": 5,
   "metadata": {
    "scrolled": true
   },
   "outputs": [
    {
     "name": "stdout",
     "output_type": "stream",
     "text": [
      "Beginning normal modes calculation using psi4 of CO2 with HF/STO-3G/\n",
      "Warning: used thermodynamics relations inappropriate for low-frequency modes: ['565.8385' '565.8385']\n",
      "Normal mode/frequency analysis complete. 4 normal modes found\n"
     ]
    }
   ],
   "source": [
    "dim_null = potential_fitting.generate_normal_modes(settings, opt_geo, normal_modes)"
   ]
  },
  {
   "cell_type": "markdown",
   "metadata": {},
   "source": [
    "Uses the optimized geometry specified by opt_geo and the normal modes data file specified by normal_modes to generate a number of 1b configurations in the file specified by configs. dim_null is the return value of the above step."
   ]
  },
  {
   "cell_type": "code",
   "execution_count": 6,
   "metadata": {
    "scrolled": false
   },
   "outputs": [
    {
     "name": "stdout",
     "output_type": "stream",
     "text": [
      "Running normal distribution configuration generator...\n",
      "Normal Distribution Configuration generation complete.\n"
     ]
    }
   ],
   "source": [
    "potential_fitting.generate_1b_configurations(settings, opt_geo, normal_modes, dim_null, configs)"
   ]
  },
  {
   "cell_type": "markdown",
   "metadata": {},
   "source": [
    "This puts the configurations located in the file specified by configs into the database specified by database. It will initialize the database if it does not already exist, if it exists, new configurations will be added from the configs file. Model, basis, and cp to be used to calculate energy are also set at this time as specifed in the settings file. Note that cp (counterpoise correction) has no effect for 1b systems. The second call adds the optimized geometry to the database."
   ]
  },
  {
   "cell_type": "code",
   "execution_count": 7,
   "metadata": {
    "scrolled": true
   },
   "outputs": [
    {
     "name": "stdout",
     "output_type": "stream",
     "text": [
      "Initializing database from xyz files in config_files.xyz directory into database ./CO2database.db\n",
      "Initializing of database ./CO2database.db successful\n",
      "Initializing database from xyz files in CO2.opt.xyz directory into database ./CO2database.db\n",
      "Initializing of database ./CO2database.db successful\n"
     ]
    }
   ],
   "source": [
    "potential_fitting.init_database(settings, database, configs)\n",
    "potential_fitting.init_database(settings, database, opt_geo)"
   ]
  },
  {
   "cell_type": "markdown",
   "metadata": {},
   "source": [
    "Loops through every uncalculated energy in the database and calculates it. This will take a while depending on what method/basis you use."
   ]
  },
  {
   "cell_type": "code",
   "execution_count": 8,
   "metadata": {
    "scrolled": false
   },
   "outputs": [
    {
     "name": "stdout",
     "output_type": "stream",
     "text": [
      "Filling database CO2database.db\n",
      "     1     2     3     4     5     6     7     8     9    10\n",
      "    11    12    13    14    15    16    17\n",
      "Filling of database CO2database.db successful\n"
     ]
    }
   ],
   "source": [
    "potential_fitting.fill_database(settings, database)"
   ]
  },
  {
   "cell_type": "markdown",
   "metadata": {},
   "source": [
    "Generates a training set in the file specified by training_set from all \"CO2\" (molecules with the name \"CO2\") energies in the database, additional arguments can be added to prune by method, basis, cp, or tag. If your database contains energies computed with a variety of methods/bases, it is probably a good idea to use only one of them in your training set at a time. The training set contains each configuration's deformation energy. The optimized geometry will have energy 0."
   ]
  },
  {
   "cell_type": "code",
   "execution_count": 9,
   "metadata": {},
   "outputs": [
    {
     "name": "stdout",
     "output_type": "stream",
     "text": [
      "Creating a fitting input file from database CO2database.db into file ./training_set.xyz\n"
     ]
    }
   ],
   "source": [
    "potential_fitting.generate_1b_training_set(settings, database, training_set, \"CO2\")"
   ]
  },
  {
   "cell_type": "markdown",
   "metadata": {},
   "source": [
    "This call generates a polynomial input file based on the symmetry of molecule \"CO2\" in the database, it will be generated in the current working directory"
   ]
  },
  {
   "cell_type": "code",
   "execution_count": 10,
   "metadata": {},
   "outputs": [],
   "source": [
    "potential_fitting.generate_poly_input_from_database(settings, database, \"CO2\", \".\")"
   ]
  },
  {
   "cell_type": "markdown",
   "metadata": {},
   "source": [
    "Generate polynomials of degree 3 based on the polynomial input file as specified by poly_in (should be the file created by the above call, will be symmetry as specified in settings file + \".in\" for 1b) in the directory specified by poly_directory"
   ]
  },
  {
   "cell_type": "code",
   "execution_count": 11,
   "metadata": {},
   "outputs": [],
   "source": [
    "potential_fitting.generate_polynomials(settings, poly_in, 3, poly_directory)"
   ]
  },
  {
   "cell_type": "markdown",
   "metadata": {},
   "source": [
    "Convert the polynomial maple files in poly_directory into cpp files"
   ]
  },
  {
   "cell_type": "code",
   "execution_count": 12,
   "metadata": {},
   "outputs": [],
   "source": [
    "potential_fitting.execute_maple(settings, poly_directory)"
   ]
  },
  {
   "cell_type": "markdown",
   "metadata": {},
   "source": [
    "Does a qchem calculation to generate the config file containing charges, polarizabilities, etc in the file specified by config based on the molecule symmetry specified by molecule_in (same as polynomial input but without the .in) and the optimized geometry as specified by opt_geo. This will take a while, but should not be effected by your method/basis."
   ]
  },
  {
   "cell_type": "code",
   "execution_count": 13,
   "metadata": {
    "scrolled": true
   },
   "outputs": [],
   "source": [
    "potential_fitting.generate_fit_config(settings, molecule_in, config, opt_geo)"
   ]
  },
  {
   "cell_type": "markdown",
   "metadata": {},
   "source": [
    "Generated the 1b fit code of degree 3 in fit_directory using the config file specified by config, and the polynomial files in poly_directory"
   ]
  },
  {
   "cell_type": "code",
   "execution_count": 14,
   "metadata": {
    "scrolled": true
   },
   "outputs": [
    {
     "name": "stdout",
     "output_type": "stream",
     "text": [
      "Executing python generator script\n"
     ]
    }
   ],
   "source": [
    "potential_fitting.generate_1b_fit_code(settings, config, poly_in, poly_directory, 3, fit_directory)"
   ]
  },
  {
   "cell_type": "markdown",
   "metadata": {},
   "source": [
    "Compile the fit code in fit_directory"
   ]
  },
  {
   "cell_type": "code",
   "execution_count": 15,
   "metadata": {},
   "outputs": [],
   "source": [
    "potential_fitting.compile_fit_code(settings, fit_directory)"
   ]
  },
  {
   "cell_type": "markdown",
   "metadata": {},
   "source": [
    "Generate a fitted .nc file at location \"fit.nc\" using the fit code in fit_directory, the training set as specified by training_set, and the fitcode as specified by fit_directory + \"/fit-1b\"."
   ]
  },
  {
   "cell_type": "code",
   "execution_count": 16,
   "metadata": {},
   "outputs": [],
   "source": [
    "potential_fitting.fit_1b_training_set(settings, fit_directory + \"/fit-1b\", training_set, fit_directory, \"fit.nc\")"
   ]
  },
  {
   "cell_type": "code",
   "execution_count": null,
   "metadata": {},
   "outputs": [],
   "source": []
  }
 ],
 "metadata": {
  "kernelspec": {
   "display_name": "Python 3",
   "language": "python",
   "name": "python3"
  }
 },
 "nbformat": 4,
 "nbformat_minor": 2
}
