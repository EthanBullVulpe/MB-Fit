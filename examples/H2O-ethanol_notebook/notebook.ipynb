{
 "cells": [
  {
   "cell_type": "code",
   "execution_count": null,
   "metadata": {
    "scrolled": true
   },
   "outputs": [],
   "source": [
    "import potential_fitting"
   ]
  },
  {
   "cell_type": "code",
   "execution_count": null,
   "metadata": {},
   "outputs": [],
   "source": [
    "H2O_settings = \"H2O.ini\"\n",
    "ethanol_settings = \"ethanol.ini\"\n",
    "dimer_settings = \"dimer.ini\"\n",
    "unopt_H2O = \"H2O.xyz\"\n",
    "unopt_ethanol = \"ethanol.xyz\"\n",
    "opt_H2O = \"H2O.opt.xyz\"\n",
    "opt_ethanol = \"ethanol.opt.xyz\"\n",
    "training_configs = \"training_configs.xyz\"\n",
    "test_configs = \"test_configs.xyz\"\n",
    "database = \"database.db\"\n",
    "training_set = \"training_set.xyz\"\n",
    "test_set = \"test_set.xyz\"\n",
    "poly_in = \"poly.in\"\n",
    "molecule_in = \"A1B2_C1D3E1F2G1H1\"\n",
    "poly_directory = \"poly\"\n",
    "config = \"config.ini\"\n",
    "ttm_directory = \"ttm\"\n",
    "fit_directory = \"fit\"\n",
    "fitted_code = \"fitted\""
   ]
  },
  {
   "cell_type": "code",
   "execution_count": null,
   "metadata": {
    "scrolled": true
   },
   "outputs": [],
   "source": [
    "potential_fitting.optimize_geometry(H2O_settings, unopt_H2O, opt_H2O)\n",
    "potential_fitting.optimize_geometry(ethanol_settings, unopt_ethanol, opt_ethanol)"
   ]
  },
  {
   "cell_type": "code",
   "execution_count": null,
   "metadata": {
    "scrolled": true
   },
   "outputs": [],
   "source": [
    "potential_fitting.generate_2b_configurations(dimer_settings, opt_H2O, opt_ethanol, 150, training_configs, min_distance = 2, max_distance = 10, min_inter_distance = 0)\n",
    "potential_fitting.generate_2b_configurations(dimer_settings, opt_H2O, opt_ethanol, 150, test_configs, min_distance = 2, max_distance = 10, min_inter_distance = 0)"
   ]
  },
  {
   "cell_type": "code",
   "execution_count": null,
   "metadata": {
    "scrolled": false
   },
   "outputs": [],
   "source": [
    "potential_fitting.init_database(dimer_settings, database, training_configs, tag = \"training\")\n",
    "potential_fitting.init_database(H2O_settings, database, opt_H2O, tag = \"training\")\n",
    "potential_fitting.init_database(ethanol_settings, database, opt_ethanol, tag = \"training\")\n",
    "\n",
    "potential_fitting.init_database(dimer_settings, database, test_configs, tag = \"test\")\n",
    "potential_fitting.init_database(H2O_settings, database, opt_H2O, tag = \"test\")\n",
    "potential_fitting.init_database(ethanol_settings, database, opt_ethanol, tag = \"test\")"
   ]
  },
  {
   "cell_type": "code",
   "execution_count": null,
   "metadata": {
    "scrolled": true
   },
   "outputs": [],
   "source": [
    "potential_fitting.fill_database(dimer_settings, database)"
   ]
  },
  {
   "cell_type": "code",
   "execution_count": null,
   "metadata": {},
   "outputs": [],
   "source": [
    "potential_fitting.generate_2b_training_set(dimer_settings, database, training_set, \"H2O\", \"ethanol\", tag = \"training\")\n",
    "potential_fitting.generate_2b_training_set(dimer_settings, database, test_set, \"H2O\", \"ethanol\", tag = \"test\")"
   ]
  },
  {
   "cell_type": "code",
   "execution_count": null,
   "metadata": {
    "scrolled": true
   },
   "outputs": [],
   "source": [
    "potential_fitting.generate_poly_input_from_database(dimer_settings, database, \"H2O-ethanol\", poly.in)"
   ]
  },
  {
   "cell_type": "code",
   "execution_count": null,
   "metadata": {},
   "outputs": [],
   "source": [
    "potential_fitting.generate_polynomials(dimer_settings, poly_in, 1, poly_directory)"
   ]
  },
  {
   "cell_type": "code",
   "execution_count": null,
   "metadata": {},
   "outputs": [],
   "source": [
    "potential_fitting.execute_maple(dimer_settings, poly_directory)"
   ]
  },
  {
   "cell_type": "code",
   "execution_count": null,
   "metadata": {
    "scrolled": true
   },
   "outputs": [],
   "source": [
    "potential_fitting.generate_fit_config(dimer_settings, molecule_in, config, opt_H2O, opt_ethanol)"
   ]
  },
  {
   "cell_type": "code",
   "execution_count": null,
   "metadata": {
    "scrolled": false
   },
   "outputs": [],
   "source": [
    "potential_fitting.generate_2b_ttm_fit_code(dimer_settings, config, molecule_in, ttm_directory)"
   ]
  },
  {
   "cell_type": "code",
   "execution_count": null,
   "metadata": {},
   "outputs": [],
   "source": [
    "potential_fitting.compile_fit_code(dimer_settings, ttm_directory)"
   ]
  },
  {
   "cell_type": "code",
   "execution_count": null,
   "metadata": {},
   "outputs": [],
   "source": [
    "potential_fitting.fit_2b_ttm_training_set(dimer_settings, ttm_directory + \"/fit-2b-ttm\", training_set, ttm_directory, config)"
   ]
  },
  {
   "cell_type": "code",
   "execution_count": null,
   "metadata": {
    "scrolled": false
   },
   "outputs": [],
   "source": [
    "potential_fitting.generate_2b_fit_code(dimer_settings, config, poly_in, poly_directory, 1, fit_directory)"
   ]
  },
  {
   "cell_type": "code",
   "execution_count": null,
   "metadata": {},
   "outputs": [],
   "source": [
    "potential_fitting.compile_fit_code(dimer_settings, fit_directory)"
   ]
  },
  {
   "cell_type": "code",
   "execution_count": null,
   "metadata": {},
   "outputs": [],
   "source": [
    "potential_fitting.fit_2b_training_set(dimer_settings, fit_directory + \"/fit-2b\", training_set, fit_directory, \"fitted.nc\")"
   ]
  },
  {
   "cell_type": "code",
   "execution_count": null,
   "metadata": {
    "scrolled": true
   },
   "outputs": [],
   "source": [
    "%matplotlib inline\n",
    "potential_fitting.fitting.fit_visualizer.make_2b_graphs(\"ttm/eval-2b-ttm\", \"ttm/ttm-params.txt\", \"fit/eval-2b\", \"fitted.nc\", database, \"H2O\", \"ethanol\", \"%\", \"%\", \"%\", \"test\")"
   ]
  }
 ],
 "metadata": {
  "kernelspec": {
   "display_name": "Python 3",
   "language": "python",
   "name": "python3"
  },
  "language_info": {
   "codemirror_mode": {
    "name": "ipython",
    "version": 3
   },
   "file_extension": ".py",
   "mimetype": "text/x-python",
   "name": "python",
   "nbconvert_exporter": "python",
   "pygments_lexer": "ipython3",
   "version": "3.6.6"
  }
 },
 "nbformat": 4,
 "nbformat_minor": 2
}
