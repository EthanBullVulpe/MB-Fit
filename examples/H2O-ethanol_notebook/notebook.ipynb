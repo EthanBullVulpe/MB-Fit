{
 "cells": [
  {
   "cell_type": "markdown",
   "metadata": {},
   "source": [
    "This block just imports the potential_fitting module."
   ]
  },
  {
   "cell_type": "code",
   "execution_count": 4,
   "metadata": {
    "scrolled": true
   },
   "outputs": [],
   "source": [
    "import potential_fitting"
   ]
  },
  {
   "cell_type": "markdown",
   "metadata": {},
   "source": [
    "Now define filepaths as variables so we don't have to keep retyping strings.\n",
    "Make sure you have nothing of value in any of these files, as all files will be overwritten by certain steps of the workflow except settings, unopt_geo, and database."
   ]
  },
  {
   "cell_type": "code",
   "execution_count": 5,
   "metadata": {},
   "outputs": [],
   "source": [
    "H2O_settings = \"H2O.ini\"\n",
    "ethanol_settings = \"ethanol.ini\"\n",
    "dimer_settings = \"dimer.ini\"\n",
    "unopt_H2O = \"H2O.xyz\"\n",
    "unopt_ethanol = \"ethanol.xyz\"\n",
    "opt_H2O = \"H2O.opt.xyz\"\n",
    "opt_ethanol = \"ethanol.opt.xyz\"\n",
    "training_configs = \"training_configs.xyz\"\n",
    "test_configs = \"test_configs.xyz\"\n",
    "database = \"database.db\"\n",
    "training_set = \"training_set.xyz\"\n",
    "test_set = \"test_set.xyz\"\n",
    "poly_in = \"poly.in\"\n",
    "molecule_in = \"A1B2_C1D3E1F2G1H1\"\n",
    "poly_directory = \"poly\"\n",
    "config = \"config.ini\"\n",
    "ttm_directory = \"ttm\"\n",
    "fit_directory = \"fit\"\n",
    "fitted_code = \"fitted\""
   ]
  },
  {
   "cell_type": "markdown",
   "metadata": {},
   "source": [
    "Optimizes the single geometry specified in the file located at the path specifed by unopt_geo and writes the optimized geometry to the file path specified by opt geo. This may take a while depending on what method/basis you use."
   ]
  },
  {
   "cell_type": "code",
   "execution_count": 6,
   "metadata": {
    "scrolled": true
   },
   "outputs": [
    {
     "name": "stdout",
     "output_type": "stream",
     "text": [
      "Beginning geometry optimization using qchem of H2O with HF/STO-3G.\n",
      "Completed geometry optimization.\n",
      "Beginning geometry optimization using qchem of ethanol with HF/STO-3G.\n",
      "Completed geometry optimization.\n"
     ]
    }
   ],
   "source": [
    "potential_fitting.optimize_geometry(H2O_settings, unopt_H2O, opt_H2O)\n",
    "potential_fitting.optimize_geometry(ethanol_settings, unopt_ethanol, opt_ethanol)"
   ]
  },
  {
   "cell_type": "markdown",
   "metadata": {},
   "source": [
    "Generates 50 rigid 2b configurations from the optimized geometry specified by opt_geo into the xyz file specified by configs"
   ]
  },
  {
   "cell_type": "code",
   "execution_count": 7,
   "metadata": {
    "scrolled": true
   },
   "outputs": [
    {
     "name": "stdout",
     "output_type": "stream",
     "text": [
      "Generated 150 configurations\n",
      "Generated 150 configurations\n"
     ]
    }
   ],
   "source": [
    "potential_fitting.generate_2b_configurations(dimer_settings, opt_H2O, opt_ethanol, 150, training_configs, min_distance = 2, max_distance = 10, min_inter_distance = 0)\n",
    "potential_fitting.generate_2b_configurations(dimer_settings, opt_H2O, opt_ethanol, 150, test_configs, min_distance = 2, max_distance = 10, min_inter_distance = 0)"
   ]
  },
  {
   "cell_type": "markdown",
   "metadata": {},
   "source": [
    "This puts the configurations located in the file specified by configs into the database specified by database. It will initialize the database if it does not already exist, if it exists, new configurations will be added from the configs file. Model, basis, and cp to be used to calculate energy are also set at this time as specifed in the settings file. Note that cp (counterpoise correction) has no effect for 1b systems. The second call adds the optimized geometry to the database."
   ]
  },
  {
   "cell_type": "code",
   "execution_count": 8,
   "metadata": {
    "scrolled": false
   },
   "outputs": [
    {
     "name": "stdout",
     "output_type": "stream",
     "text": [
      "Initializing database from xyz files in training_configs.xyz directory into database database.db\n",
      "Initializing of database database.db successful\n",
      "Initializing database from xyz files in H2O.opt.xyz directory into database database.db\n",
      "Initializing of database database.db successful\n",
      "Initializing database from xyz files in ethanol.opt.xyz directory into database database.db\n",
      "Initializing of database database.db successful\n",
      "Initializing database from xyz files in test_configs.xyz directory into database database.db\n",
      "Initializing of database database.db successful\n",
      "Initializing database from xyz files in H2O.opt.xyz directory into database database.db\n",
      "Initializing of database database.db successful\n",
      "Initializing database from xyz files in ethanol.opt.xyz directory into database database.db\n",
      "Initializing of database database.db successful\n"
     ]
    }
   ],
   "source": [
    "potential_fitting.init_database(dimer_settings, database, training_configs, tag = \"training\")\n",
    "potential_fitting.init_database(H2O_settings, database, opt_H2O, tag = \"training\")\n",
    "potential_fitting.init_database(ethanol_settings, database, opt_ethanol, tag = \"training\")\n",
    "\n",
    "potential_fitting.init_database(dimer_settings, database, test_configs, tag = \"test\")\n",
    "potential_fitting.init_database(H2O_settings, database, opt_H2O, tag = \"test\")\n",
    "potential_fitting.init_database(ethanol_settings, database, opt_ethanol, tag = \"test\")"
   ]
  },
  {
   "cell_type": "markdown",
   "metadata": {},
   "source": [
    "Loops through every uncalculated energy in the database and calculates it. This will take a while depending on what method/basis you use."
   ]
  },
  {
   "cell_type": "code",
   "execution_count": 9,
   "metadata": {
    "scrolled": true
   },
   "outputs": [
    {
     "name": "stdout",
     "output_type": "stream",
     "text": [
      "Filling database database.db\n",
      "     1     2     3     4     5     6     7     8     9    10\n",
      "    11    12    13    14    15    16    17    18    19    20\n",
      "    21    22    23    24    25    26    27    28    29    30\n",
      "    31    32    33    34    35    36    37    38    39    40\n",
      "    41    42    43    44    45    46    47    48    49    50\n",
      "    51    52    53    54    55    56    57    58    59    60\n",
      "    61    62    63    64    65    66    67    68    69    70\n",
      "    71    72    73    74    75    76    77    78    79    80\n",
      "    81    82    83    84    85    86    87    88    89    90\n",
      "    91    92    93    94    95    96    97    98    99   100\n",
      "   101   102   103   104   105   106   107   108   109   110\n",
      "   111   112   113   114   115   116   117   118   119   120\n",
      "   121   122   123   124   125   126   127   128   129   130\n",
      "   131   132   133   134   135   136   137   138   139   140\n",
      "   141   142   143   144   145   146   147   148   149   150\n",
      "   151   152   153   154   155   156   157   158   159   160\n",
      "   161   162   163   164   165   166   167   168   169   170\n",
      "   171   172   173   174   175   176   177   178   179   180\n",
      "   181   182   183   184   185   186   187   188   189   190\n",
      "   191   192   193   194   195   196   197   198   199   200\n",
      "   201   202   203   204   205   206   207   208   209   210\n",
      "   211   212   213   214   215   216   217   218   219   220\n",
      "   221   222   223   224   225   226   227   228   229   230\n",
      "   231   232   233   234   235   236   237   238   239   240\n",
      "   241   242   243   244   245   246   247   248   249   250\n",
      "   251   252   253   254   255   256   257   258   259   260\n",
      "   261   262   263   264   265   266   267   268   269   270\n",
      "   271   272   273   274   275   276   277   278   279   280\n",
      "   281   282   283   284   285   286   287   288   289   290\n",
      "   291   292   293   294   295   296   297   298   299   300\n",
      "   301   302   303   304   305   306   307   308   309   310\n",
      "   311   312   313   314   315   316   317   318   319   320\n",
      "   321   322   323   324   325   326   327   328   329   330\n",
      "   331   332   333   334   335   336   337   338   339   340\n",
      "   341   342   343   344   345   346   347   348   349   350\n",
      "   351   352   353   354   355   356   357   358   359   360\n",
      "   361   362   363   364   365   366   367   368   369   370\n",
      "   371   372   373   374   375   376   377   378   379   380\n",
      "   381   382   383   384   385   386   387   388   389   390\n",
      "   391   392   393   394   395   396   397   398   399   400\n",
      "   401   402   403   404   405   406   407   408   409   410\n",
      "   411   412   413   414   415   416   417   418   419   420\n",
      "   421   422   423   424   425   426   427   428   429   430\n",
      "   431   432   433   434   435   436   437   438   439   440\n",
      "   441   442   443   444   445   446   447   448   449   450\n",
      "   451   452   453   454   455   456   457   458   459   460\n",
      "   461   462   463   464   465   466   467   468   469   470\n",
      "   471   472   473   474   475   476   477   478   479   480\n",
      "   481   482   483   484   485   486   487   488   489   490\n",
      "   491   492   493   494   495   496   497   498   499   500\n",
      "   501   502   503   504   505   506   507   508   509   510\n",
      "   511   512   513   514   515   516   517   518   519   520\n",
      "   521   522   523   524   525   526   527   528   529   530\n",
      "   531   532   533   534   535   536   537   538   539   540\n",
      "   541   542   543   544   545   546   547   548   549   550\n",
      "   551   552   553   554   555   556   557   558   559   560\n",
      "   561   562   563   564   565   566   567   568   569   570\n",
      "   571   572   573   574   575   576   577   578   579   580\n",
      "   581   582   583   584   585   586   587   588   589   590\n",
      "   591   592   593   594   595   596   597   598   599   600\n",
      "   601   602   603   604   605   606   607   608   609   610\n",
      "   611   612   613   614   615   616   617   618   619   620\n",
      "   621   622   623   624   625   626   627   628   629   630\n",
      "   631   632   633   634   635   636   637   638   639   640\n",
      "   641   642   643   644   645   646   647   648   649   650\n",
      "   651   652   653   654   655   656   657   658   659   660\n",
      "   661   662   663   664   665   666   667   668   669   670\n",
      "   671   672   673   674   675   676   677   678   679   680\n",
      "   681   682   683   684   685   686   687   688   689   690\n",
      "   691   692   693   694   695   696   697   698   699   700\n",
      "   701   702   703   704   705   706   707   708   709   710\n",
      "   711   712   713   714   715   716   717   718   719   720\n",
      "   721   722   723   724   725   726   727   728   729   730\n",
      "   731   732   733   734   735   736   737   738   739   740\n",
      "   741   742   743   744   745   746   747   748   749   750\n",
      "   751   752   753   754   755   756   757   758   759   760\n",
      "   761   762   763   764   765   766   767   768   769   770\n",
      "   771   772   773   774   775   776   777   778   779   780\n",
      "   781   782   783   784   785   786   787   788   789   790\n",
      "   791   792   793   794   795   796   797   798   799   800\n",
      "   801   802   803   804   805   806   807   808   809   810\n",
      "   811   812   813   814   815   816   817   818   819   820\n",
      "   821   822   823   824   825   826   827   828   829   830\n",
      "   831   832   833   834   835   836   837   838   839   840\n",
      "   841   842   843   844   845   846   847   848   849   850\n",
      "   851   852   853   854   855   856   857   858   859   860\n",
      "   861   862   863   864   865   866   867   868   869   870\n",
      "   871   872   873   874   875   876   877   878   879   880\n",
      "   881   882   883   884   885   886   887   888   889   890\n",
      "   891   892   893   894   895   896   897   898   899   900\n",
      "   901   902   903   904\n",
      "Filling of database database.db successful\n"
     ]
    }
   ],
   "source": [
    "potential_fitting.fill_database(dimer_settings, database)"
   ]
  },
  {
   "cell_type": "markdown",
   "metadata": {},
   "source": [
    "Generates a training set in the file specified by training_set from all \"CO2-CO2\" (molecules with two fragments each with name \"CO2\") energies in the database, additional arguments can be added to prune by method, basis, cp, or tag. If your database contains energies computed with a variety of methods/bases, it is probably a good idea to use only one of them in your training set at a time. The training set contains each configuration's deformation energy. The optimized geometry will have energy 0."
   ]
  },
  {
   "cell_type": "code",
   "execution_count": 10,
   "metadata": {},
   "outputs": [
    {
     "name": "stdout",
     "output_type": "stream",
     "text": [
      "Creating a fitting input file from database database.db into file training_set.xyz\n",
      "Creating a fitting input file from database database.db into file test_set.xyz\n"
     ]
    }
   ],
   "source": [
    "potential_fitting.generate_2b_training_set(dimer_settings, database, training_set, \"H2O\", \"ethanol\", tag = \"training\")\n",
    "potential_fitting.generate_2b_training_set(dimer_settings, database, test_set, \"H2O\", \"ethanol\", tag = \"test\")"
   ]
  },
  {
   "cell_type": "markdown",
   "metadata": {},
   "source": [
    "This call generates a polynomial input file based on the symmetry of molecule \"CO2\" in the database, it will be generated in the current working directory"
   ]
  },
  {
   "cell_type": "code",
   "execution_count": 12,
   "metadata": {
    "scrolled": true
   },
   "outputs": [],
   "source": [
    "potential_fitting.generate_poly_input_from_database(dimer_settings, database, \"H2O-ethanol\", poly.in)"
   ]
  },
  {
   "cell_type": "markdown",
   "metadata": {},
   "source": [
    "Generate polynomials of degree 3 based on the polynomial input file as specified by poly_in (should be the file created by the above call, will be symmetry as specified in settings file + \".in\" for 1b) in the directory specified by poly_directory"
   ]
  },
  {
   "cell_type": "code",
   "execution_count": 13,
   "metadata": {},
   "outputs": [
    {
     "name": "stdout",
     "output_type": "stream",
     "text": [
      "[[[0, 1, 2], [0, 2, 1]], [[3, 4, 5, 6, 7, 8, 9, 10, 11], [3, 4, 5, 6, 7, 9, 8, 10, 11], [3, 4, 6, 5, 7, 8, 9, 10, 11], [3, 4, 6, 5, 7, 9, 8, 10, 11], [3, 5, 4, 6, 7, 8, 9, 10, 11], [3, 5, 4, 6, 7, 9, 8, 10, 11], [3, 5, 6, 4, 7, 8, 9, 10, 11], [3, 5, 6, 4, 7, 9, 8, 10, 11], [3, 6, 4, 5, 7, 8, 9, 10, 11], [3, 6, 4, 5, 7, 9, 8, 10, 11], [3, 6, 5, 4, 7, 8, 9, 10, 11], [3, 6, 5, 4, 7, 9, 8, 10, 11]]]\n"
     ]
    }
   ],
   "source": [
    "potential_fitting.generate_polynomials(dimer_settings, poly_in, 1, poly_directory)"
   ]
  },
  {
   "cell_type": "markdown",
   "metadata": {},
   "source": [
    "Convert the polynomial maple files in poly_directory into cpp files"
   ]
  },
  {
   "cell_type": "code",
   "execution_count": 14,
   "metadata": {},
   "outputs": [],
   "source": [
    "potential_fitting.execute_maple(dimer_settings, poly_directory)"
   ]
  },
  {
   "cell_type": "markdown",
   "metadata": {},
   "source": [
    "Does a qchem calculation to generate the config file containing charges, polarizabilities, etc in the file specified by config based on the molecule symmetry specified by molecule_in (same as polynomial input but without the .in) and the optimized geometry as specified by opt_geo. This will take a while, but should not be effected by your method/basis."
   ]
  },
  {
   "cell_type": "code",
   "execution_count": 15,
   "metadata": {
    "scrolled": true
   },
   "outputs": [
    {
     "name": "stdout",
     "output_type": "stream",
     "text": [
      "SYM START: \n"
     ]
    }
   ],
   "source": [
    "potential_fitting.generate_fit_config(dimer_settings, molecule_in, config, opt_H2O, opt_ethanol)"
   ]
  },
  {
   "cell_type": "markdown",
   "metadata": {},
   "source": [
    "Generates the 2b TTM fit code of degree 3 in fit_directory using the config file specified by config, and the polynomial files in poly_directory"
   ]
  },
  {
   "cell_type": "code",
   "execution_count": 16,
   "metadata": {
    "scrolled": false
   },
   "outputs": [],
   "source": [
    "potential_fitting.generate_2b_ttm_fit_code(dimer_settings, config, molecule_in, ttm_directory)"
   ]
  },
  {
   "cell_type": "markdown",
   "metadata": {},
   "source": [
    "Compile the fit code in fit_directory"
   ]
  },
  {
   "cell_type": "code",
   "execution_count": 17,
   "metadata": {},
   "outputs": [],
   "source": [
    "potential_fitting.compile_fit_code(dimer_settings, ttm_directory)"
   ]
  },
  {
   "cell_type": "markdown",
   "metadata": {},
   "source": [
    "Generate a fitted .nc file at location \"fit.nc\" using the fit code in fit_directory, the training set as specified by training_set, and the fitcode as specified by fit_directory + \"/fit-1b\"."
   ]
  },
  {
   "cell_type": "code",
   "execution_count": 18,
   "metadata": {},
   "outputs": [
    {
     "name": "stdout",
     "output_type": "stream",
     "text": [
      "completed fit with rmsd 1.20426\n",
      "current best fit has rmsd 1.90548\n",
      "completed fit with rmsd 0.393133\n",
      "current best fit has rmsd 1.20426\n",
      "completed fit with rmsd 1.20365\n",
      "current best fit has rmsd 0.393133\n",
      "completed fit with rmsd 0.451592\n",
      "current best fit has rmsd 0.393133\n",
      "completed fit with rmsd 1.73562\n",
      "current best fit has rmsd 0.393133\n",
      "completed fit with rmsd 0.642608\n",
      "current best fit has rmsd 0.393133\n",
      "completed fit with rmsd 0.846303\n",
      "current best fit has rmsd 0.393133\n",
      "completed fit with rmsd 0.402117\n",
      "current best fit has rmsd 0.393133\n",
      "completed fit with rmsd 0.772492\n",
      "current best fit has rmsd 0.393133\n"
     ]
    }
   ],
   "source": [
    "potential_fitting.fit_2b_ttm_training_set(dimer_settings, ttm_directory + \"/fit-2b-ttm\", training_set, ttm_directory, config)"
   ]
  },
  {
   "cell_type": "code",
   "execution_count": 19,
   "metadata": {
    "scrolled": false
   },
   "outputs": [
    {
     "name": "stdout",
     "output_type": "stream",
     "text": [
      "Executing python generator script\n"
     ]
    }
   ],
   "source": [
    "potential_fitting.generate_2b_fit_code(dimer_settings, config, poly_in, poly_directory, 1, fit_directory)"
   ]
  },
  {
   "cell_type": "code",
   "execution_count": 20,
   "metadata": {},
   "outputs": [],
   "source": [
    "potential_fitting.compile_fit_code(dimer_settings, fit_directory)"
   ]
  },
  {
   "cell_type": "code",
   "execution_count": 21,
   "metadata": {},
   "outputs": [],
   "source": [
    "potential_fitting.fit_2b_training_set(dimer_settings, fit_directory + \"/fit-2b\", training_set, fit_directory, \"fitted.nc\")"
   ]
  },
  {
   "cell_type": "code",
   "execution_count": 22,
   "metadata": {
    "scrolled": true
   },
   "outputs": [
    {
     "name": "stdout",
     "output_type": "stream",
     "text": [
      "Finished generating data\n"
     ]
    },
    {
     "data": {
      "image/png": "[encoded data removed]",
      "text/plain": [
       "<Figure size 432x288 with 1 Axes>"
      ]
     },
     "metadata": {
      "needs_background": "light"
     },
     "output_type": "display_data"
    },
    {
     "data": {
      "image/png": "[encoded data removed]",
      "text/plain": [
       "<Figure size 432x288 with 1 Axes>"
      ]
     },
     "metadata": {
      "needs_background": "light"
     },
     "output_type": "display_data"
    }
   ],
   "source": [
    "%matplotlib inline\n",
    "potential_fitting.fitting.fit_visualizer.make_2b_graphs(\"ttm/eval-2b-ttm\", \"ttm/ttm-params.txt\", \"fit/eval-2b\", \"fitted.nc\", database, \"H2O\", \"ethanol\", \"%\", \"%\", \"%\", \"test\")"
   ]
  }
 ],
 "metadata": {
  "kernelspec": {
   "display_name": "Python 3",
   "language": "python",
   "name": "python3"
  },
  "language_info": {
   "codemirror_mode": {
    "name": "ipython",
    "version": 3
   },
   "file_extension": ".py",
   "mimetype": "text/x-python",
   "name": "python",
   "nbconvert_exporter": "python",
   "pygments_lexer": "ipython3",
   "version": "3.6.6"
  }
 },
 "nbformat": 4,
 "nbformat_minor": 2
}
