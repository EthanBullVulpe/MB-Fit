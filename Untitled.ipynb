{
 "cells": [
  {
   "cell_type": "code",
   "execution_count": 21,
   "id": "d16074bb",
   "metadata": {},
   "outputs": [],
   "source": [
    "import mbfit\n",
    "from mbfit.graphing.PCA import PCA_analysis"
   ]
  },
  {
   "cell_type": "code",
   "execution_count": 22,
   "id": "53df5b76",
   "metadata": {},
   "outputs": [
    {
     "name": "stdout",
     "output_type": "stream",
     "text": [
      "The autoreload extension is already loaded. To reload it, use:\n",
      "  %reload_ext autoreload\n"
     ]
    }
   ],
   "source": [
    "%load_ext autoreload\n",
    "%autoreload 2"
   ]
  },
  {
   "cell_type": "code",
   "execution_count": 26,
   "id": "287d50ac",
   "metadata": {
    "scrolled": false
   },
   "outputs": [],
   "source": [
    "pca_analysis = PCA_analysis(\"setting\", \"nmers_2_0_train.xyz\", \"ethane_scan.xyz\", \"A1B3_A1B3\")"
   ]
  },
  {
   "cell_type": "code",
   "execution_count": null,
   "id": "28dd3321",
   "metadata": {},
   "outputs": [],
   "source": []
  }
 ],
 "metadata": {
  "kernelspec": {
   "display_name": "Python 3",
   "language": "python",
   "name": "python3"
  },
  "language_info": {
   "codemirror_mode": {
    "name": "ipython",
    "version": 3
   },
   "file_extension": ".py",
   "mimetype": "text/x-python",
   "name": "python",
   "nbconvert_exporter": "python",
   "pygments_lexer": "ipython3",
   "version": "3.8.8"
  }
 },
 "nbformat": 4,
 "nbformat_minor": 5
}
